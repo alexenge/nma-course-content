{
  "nbformat": 4,
  "nbformat_minor": 0,
  "metadata": {
    "colab": {
      "name": "W1D1_Tutorial1",
      "provenance": [],
      "collapsed_sections": [],
      "toc_visible": true,
      "include_colab_link": true
    },
    "kernel": {
      "display_name": "Python 3",
      "language": "python",
      "name": "python3"
    },
    "kernelspec": {
      "display_name": "Python 3",
      "name": "python3"
    },
    "language_info": {
      "codemirror_mode": {
        "name": "ipython",
        "version": 3
      },
      "file_extension": ".py",
      "mimetype": "text/x-python",
      "name": "python",
      "nbconvert_exporter": "python",
      "pygments_lexer": "ipython3",
      "version": "3.7.10"
    },
    "widgets": {
      "application/vnd.jupyter.widget-state+json": {
        "38261326886d4e87a4b02b6407c3ec70": {
          "model_module": "@jupyter-widgets/controls",
          "model_name": "TabModel",
          "state": {
            "_view_name": "TabView",
            "_dom_classes": [],
            "_titles": {
              "0": "Youtube",
              "1": "Bilibili"
            },
            "_model_name": "TabModel",
            "_view_module": "@jupyter-widgets/controls",
            "selected_index": 0,
            "_model_module_version": "1.5.0",
            "_view_count": null,
            "_view_module_version": "1.5.0",
            "box_style": "",
            "layout": "IPY_MODEL_1635b2b9c35141228376a4cfd519e109",
            "_model_module": "@jupyter-widgets/controls",
            "children": [
              "IPY_MODEL_74fc1cc79ecd4979904ac70906eec9cd",
              "IPY_MODEL_8e29945f460a4e9fa5a3f9de54d3dd27"
            ]
          }
        },
        "1635b2b9c35141228376a4cfd519e109": {
          "model_module": "@jupyter-widgets/base",
          "model_name": "LayoutModel",
          "state": {
            "_view_name": "LayoutView",
            "grid_template_rows": null,
            "right": null,
            "justify_content": null,
            "_view_module": "@jupyter-widgets/base",
            "overflow": null,
            "_model_module_version": "1.2.0",
            "_view_count": null,
            "flex_flow": null,
            "width": null,
            "min_width": null,
            "border": null,
            "align_items": null,
            "bottom": null,
            "_model_module": "@jupyter-widgets/base",
            "top": null,
            "grid_column": null,
            "overflow_y": null,
            "overflow_x": null,
            "grid_auto_flow": null,
            "grid_area": null,
            "grid_template_columns": null,
            "flex": null,
            "_model_name": "LayoutModel",
            "justify_items": null,
            "grid_row": null,
            "max_height": null,
            "align_content": null,
            "visibility": null,
            "align_self": null,
            "height": null,
            "min_height": null,
            "padding": null,
            "grid_auto_rows": null,
            "grid_gap": null,
            "max_width": null,
            "order": null,
            "_view_module_version": "1.2.0",
            "grid_template_areas": null,
            "object_position": null,
            "object_fit": null,
            "grid_auto_columns": null,
            "margin": null,
            "display": null,
            "left": null
          }
        },
        "74fc1cc79ecd4979904ac70906eec9cd": {
          "model_module": "@jupyter-widgets/output",
          "model_name": "OutputModel",
          "state": {
            "_view_name": "OutputView",
            "msg_id": "",
            "_dom_classes": [],
            "_model_name": "OutputModel",
            "outputs": [
              {
                "output_type": "stream",
                "metadata": {
                  "tags": []
                },
                "text": "Video available at https://youtube.com/watch?v=KgqR_jbjMQg\n",
                "stream": "stdout"
              },
              {
                "output_type": "display_data",
                "metadata": {
                  "tags": []
                },
                "text/html": "\n        <iframe\n            width=\"854\"\n            height=\"480\"\n            src=\"https://www.youtube.com/embed/KgqR_jbjMQg?fs=1&rel=0\"\n            frameborder=\"0\"\n            allowfullscreen\n        ></iframe>\n        ",
                "text/plain": "<IPython.lib.display.YouTubeVideo at 0x7efc5e834a10>",
                "image/jpeg": "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\n"
              }
            ],
            "_view_module": "@jupyter-widgets/output",
            "_model_module_version": "1.0.0",
            "_view_count": null,
            "_view_module_version": "1.0.0",
            "layout": "IPY_MODEL_c4714cb03243405b99fadb0f09a60473",
            "_model_module": "@jupyter-widgets/output"
          }
        },
        "8e29945f460a4e9fa5a3f9de54d3dd27": {
          "model_module": "@jupyter-widgets/output",
          "model_name": "OutputModel",
          "state": {
            "_view_name": "OutputView",
            "msg_id": "",
            "_dom_classes": [],
            "_model_name": "OutputModel",
            "outputs": [
              {
                "output_type": "stream",
                "metadata": {
                  "tags": []
                },
                "text": "Video available at https://www.bilibili.com/video/BV1mz4y1X7ot\n",
                "stream": "stdout"
              },
              {
                "output_type": "display_data",
                "metadata": {
                  "tags": []
                },
                "text/html": "\n        <iframe\n            width=\"854\"\n            height=\"480\"\n            src=\"https://player.bilibili.com/player.html?bvid=BV1mz4y1X7ot&page=1?fs=1\"\n            frameborder=\"0\"\n            allowfullscreen\n        ></iframe>\n        ",
                "text/plain": "<__main__.BiliVideo at 0x7efc610917d0>"
              }
            ],
            "_view_module": "@jupyter-widgets/output",
            "_model_module_version": "1.0.0",
            "_view_count": null,
            "_view_module_version": "1.0.0",
            "layout": "IPY_MODEL_fc38de74092c49859e97e551872bbda9",
            "_model_module": "@jupyter-widgets/output"
          }
        },
        "c4714cb03243405b99fadb0f09a60473": {
          "model_module": "@jupyter-widgets/base",
          "model_name": "LayoutModel",
          "state": {
            "_view_name": "LayoutView",
            "grid_template_rows": null,
            "right": null,
            "justify_content": null,
            "_view_module": "@jupyter-widgets/base",
            "overflow": null,
            "_model_module_version": "1.2.0",
            "_view_count": null,
            "flex_flow": null,
            "width": null,
            "min_width": null,
            "border": null,
            "align_items": null,
            "bottom": null,
            "_model_module": "@jupyter-widgets/base",
            "top": null,
            "grid_column": null,
            "overflow_y": null,
            "overflow_x": null,
            "grid_auto_flow": null,
            "grid_area": null,
            "grid_template_columns": null,
            "flex": null,
            "_model_name": "LayoutModel",
            "justify_items": null,
            "grid_row": null,
            "max_height": null,
            "align_content": null,
            "visibility": null,
            "align_self": null,
            "height": null,
            "min_height": null,
            "padding": null,
            "grid_auto_rows": null,
            "grid_gap": null,
            "max_width": null,
            "order": null,
            "_view_module_version": "1.2.0",
            "grid_template_areas": null,
            "object_position": null,
            "object_fit": null,
            "grid_auto_columns": null,
            "margin": null,
            "display": null,
            "left": null
          }
        },
        "fc38de74092c49859e97e551872bbda9": {
          "model_module": "@jupyter-widgets/base",
          "model_name": "LayoutModel",
          "state": {
            "_view_name": "LayoutView",
            "grid_template_rows": null,
            "right": null,
            "justify_content": null,
            "_view_module": "@jupyter-widgets/base",
            "overflow": null,
            "_model_module_version": "1.2.0",
            "_view_count": null,
            "flex_flow": null,
            "width": null,
            "min_width": null,
            "border": null,
            "align_items": null,
            "bottom": null,
            "_model_module": "@jupyter-widgets/base",
            "top": null,
            "grid_column": null,
            "overflow_y": null,
            "overflow_x": null,
            "grid_auto_flow": null,
            "grid_area": null,
            "grid_template_columns": null,
            "flex": null,
            "_model_name": "LayoutModel",
            "justify_items": null,
            "grid_row": null,
            "max_height": null,
            "align_content": null,
            "visibility": null,
            "align_self": null,
            "height": null,
            "min_height": null,
            "padding": null,
            "grid_auto_rows": null,
            "grid_gap": null,
            "max_width": null,
            "order": null,
            "_view_module_version": "1.2.0",
            "grid_template_areas": null,
            "object_position": null,
            "object_fit": null,
            "grid_auto_columns": null,
            "margin": null,
            "display": null,
            "left": null
          }
        },
        "347b4965e0a54e6ebbb13486e3791537": {
          "model_module": "@jupyter-widgets/controls",
          "model_name": "TabModel",
          "state": {
            "_view_name": "TabView",
            "_dom_classes": [],
            "_titles": {
              "0": "Youtube",
              "1": "Bilibili"
            },
            "_model_name": "TabModel",
            "_view_module": "@jupyter-widgets/controls",
            "selected_index": 0,
            "_model_module_version": "1.5.0",
            "_view_count": null,
            "_view_module_version": "1.5.0",
            "box_style": "",
            "layout": "IPY_MODEL_0ee3a96892ae4f73b4bc3ceec80e2961",
            "_model_module": "@jupyter-widgets/controls",
            "children": [
              "IPY_MODEL_eb640ea99c4145a49ab338021b723294",
              "IPY_MODEL_0d2717c471e040f7bbc1b7d1d1e04e66"
            ]
          }
        },
        "0ee3a96892ae4f73b4bc3ceec80e2961": {
          "model_module": "@jupyter-widgets/base",
          "model_name": "LayoutModel",
          "state": {
            "_view_name": "LayoutView",
            "grid_template_rows": null,
            "right": null,
            "justify_content": null,
            "_view_module": "@jupyter-widgets/base",
            "overflow": null,
            "_model_module_version": "1.2.0",
            "_view_count": null,
            "flex_flow": null,
            "width": null,
            "min_width": null,
            "border": null,
            "align_items": null,
            "bottom": null,
            "_model_module": "@jupyter-widgets/base",
            "top": null,
            "grid_column": null,
            "overflow_y": null,
            "overflow_x": null,
            "grid_auto_flow": null,
            "grid_area": null,
            "grid_template_columns": null,
            "flex": null,
            "_model_name": "LayoutModel",
            "justify_items": null,
            "grid_row": null,
            "max_height": null,
            "align_content": null,
            "visibility": null,
            "align_self": null,
            "height": null,
            "min_height": null,
            "padding": null,
            "grid_auto_rows": null,
            "grid_gap": null,
            "max_width": null,
            "order": null,
            "_view_module_version": "1.2.0",
            "grid_template_areas": null,
            "object_position": null,
            "object_fit": null,
            "grid_auto_columns": null,
            "margin": null,
            "display": null,
            "left": null
          }
        },
        "eb640ea99c4145a49ab338021b723294": {
          "model_module": "@jupyter-widgets/output",
          "model_name": "OutputModel",
          "state": {
            "_view_name": "OutputView",
            "msg_id": "",
            "_dom_classes": [],
            "_model_name": "OutputModel",
            "outputs": [
              {
                "output_type": "stream",
                "metadata": {
                  "tags": []
                },
                "text": "Video available at https://youtube.com/watch?v=oHwYWUI_o1U\n",
                "stream": "stdout"
              },
              {
                "output_type": "display_data",
                "metadata": {
                  "tags": []
                },
                "text/html": "\n        <iframe\n            width=\"854\"\n            height=\"480\"\n            src=\"https://www.youtube.com/embed/oHwYWUI_o1U?fs=1&rel=0\"\n            frameborder=\"0\"\n            allowfullscreen\n        ></iframe>\n        ",
                "text/plain": "<IPython.lib.display.YouTubeVideo at 0x7efc5ada4990>",
                "image/jpeg": "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\n"
              }
            ],
            "_view_module": "@jupyter-widgets/output",
            "_model_module_version": "1.0.0",
            "_view_count": null,
            "_view_module_version": "1.0.0",
            "layout": "IPY_MODEL_df417e381c204cc9a71059590cafdd86",
            "_model_module": "@jupyter-widgets/output"
          }
        },
        "0d2717c471e040f7bbc1b7d1d1e04e66": {
          "model_module": "@jupyter-widgets/output",
          "model_name": "OutputModel",
          "state": {
            "_view_name": "OutputView",
            "msg_id": "",
            "_dom_classes": [],
            "_model_name": "OutputModel",
            "outputs": [
              {
                "output_type": "stream",
                "metadata": {
                  "tags": []
                },
                "text": "Video available at https://www.bilibili.com/video/BV1Hp4y1S7Au\n",
                "stream": "stdout"
              },
              {
                "output_type": "display_data",
                "metadata": {
                  "tags": []
                },
                "text/html": "\n        <iframe\n            width=\"854\"\n            height=\"480\"\n            src=\"https://player.bilibili.com/player.html?bvid=BV1Hp4y1S7Au&page=1?fs=1\"\n            frameborder=\"0\"\n            allowfullscreen\n        ></iframe>\n        ",
                "text/plain": "<__main__.BiliVideo at 0x7efc5a6b5f90>"
              }
            ],
            "_view_module": "@jupyter-widgets/output",
            "_model_module_version": "1.0.0",
            "_view_count": null,
            "_view_module_version": "1.0.0",
            "layout": "IPY_MODEL_1519342aeb67483a8f5a208fe2d10793",
            "_model_module": "@jupyter-widgets/output"
          }
        },
        "df417e381c204cc9a71059590cafdd86": {
          "model_module": "@jupyter-widgets/base",
          "model_name": "LayoutModel",
          "state": {
            "_view_name": "LayoutView",
            "grid_template_rows": null,
            "right": null,
            "justify_content": null,
            "_view_module": "@jupyter-widgets/base",
            "overflow": null,
            "_model_module_version": "1.2.0",
            "_view_count": null,
            "flex_flow": null,
            "width": null,
            "min_width": null,
            "border": null,
            "align_items": null,
            "bottom": null,
            "_model_module": "@jupyter-widgets/base",
            "top": null,
            "grid_column": null,
            "overflow_y": null,
            "overflow_x": null,
            "grid_auto_flow": null,
            "grid_area": null,
            "grid_template_columns": null,
            "flex": null,
            "_model_name": "LayoutModel",
            "justify_items": null,
            "grid_row": null,
            "max_height": null,
            "align_content": null,
            "visibility": null,
            "align_self": null,
            "height": null,
            "min_height": null,
            "padding": null,
            "grid_auto_rows": null,
            "grid_gap": null,
            "max_width": null,
            "order": null,
            "_view_module_version": "1.2.0",
            "grid_template_areas": null,
            "object_position": null,
            "object_fit": null,
            "grid_auto_columns": null,
            "margin": null,
            "display": null,
            "left": null
          }
        },
        "1519342aeb67483a8f5a208fe2d10793": {
          "model_module": "@jupyter-widgets/base",
          "model_name": "LayoutModel",
          "state": {
            "_view_name": "LayoutView",
            "grid_template_rows": null,
            "right": null,
            "justify_content": null,
            "_view_module": "@jupyter-widgets/base",
            "overflow": null,
            "_model_module_version": "1.2.0",
            "_view_count": null,
            "flex_flow": null,
            "width": null,
            "min_width": null,
            "border": null,
            "align_items": null,
            "bottom": null,
            "_model_module": "@jupyter-widgets/base",
            "top": null,
            "grid_column": null,
            "overflow_y": null,
            "overflow_x": null,
            "grid_auto_flow": null,
            "grid_area": null,
            "grid_template_columns": null,
            "flex": null,
            "_model_name": "LayoutModel",
            "justify_items": null,
            "grid_row": null,
            "max_height": null,
            "align_content": null,
            "visibility": null,
            "align_self": null,
            "height": null,
            "min_height": null,
            "padding": null,
            "grid_auto_rows": null,
            "grid_gap": null,
            "max_width": null,
            "order": null,
            "_view_module_version": "1.2.0",
            "grid_template_areas": null,
            "object_position": null,
            "object_fit": null,
            "grid_auto_columns": null,
            "margin": null,
            "display": null,
            "left": null
          }
        },
        "8f61f6b12e6b418eba6c594a6bc012ee": {
          "model_module": "@jupyter-widgets/controls",
          "model_name": "TabModel",
          "state": {
            "_view_name": "TabView",
            "_dom_classes": [],
            "_titles": {
              "0": "Youtube",
              "1": "Bilibili"
            },
            "_model_name": "TabModel",
            "_view_module": "@jupyter-widgets/controls",
            "selected_index": 0,
            "_model_module_version": "1.5.0",
            "_view_count": null,
            "_view_module_version": "1.5.0",
            "box_style": "",
            "layout": "IPY_MODEL_546018c1eb514434948de4da39065faf",
            "_model_module": "@jupyter-widgets/controls",
            "children": [
              "IPY_MODEL_e2df0b84f7c94658a5e54c040e34e1a4",
              "IPY_MODEL_978ace717cc8426fb30c96944a02b887"
            ]
          }
        },
        "546018c1eb514434948de4da39065faf": {
          "model_module": "@jupyter-widgets/base",
          "model_name": "LayoutModel",
          "state": {
            "_view_name": "LayoutView",
            "grid_template_rows": null,
            "right": null,
            "justify_content": null,
            "_view_module": "@jupyter-widgets/base",
            "overflow": null,
            "_model_module_version": "1.2.0",
            "_view_count": null,
            "flex_flow": null,
            "width": null,
            "min_width": null,
            "border": null,
            "align_items": null,
            "bottom": null,
            "_model_module": "@jupyter-widgets/base",
            "top": null,
            "grid_column": null,
            "overflow_y": null,
            "overflow_x": null,
            "grid_auto_flow": null,
            "grid_area": null,
            "grid_template_columns": null,
            "flex": null,
            "_model_name": "LayoutModel",
            "justify_items": null,
            "grid_row": null,
            "max_height": null,
            "align_content": null,
            "visibility": null,
            "align_self": null,
            "height": null,
            "min_height": null,
            "padding": null,
            "grid_auto_rows": null,
            "grid_gap": null,
            "max_width": null,
            "order": null,
            "_view_module_version": "1.2.0",
            "grid_template_areas": null,
            "object_position": null,
            "object_fit": null,
            "grid_auto_columns": null,
            "margin": null,
            "display": null,
            "left": null
          }
        },
        "e2df0b84f7c94658a5e54c040e34e1a4": {
          "model_module": "@jupyter-widgets/output",
          "model_name": "OutputModel",
          "state": {
            "_view_name": "OutputView",
            "msg_id": "",
            "_dom_classes": [],
            "_model_name": "OutputModel",
            "outputs": [
              {
                "output_type": "stream",
                "metadata": {
                  "tags": []
                },
                "text": "Video available at https://youtube.com/watch?v=QGA5FCW7kkA\n",
                "stream": "stdout"
              },
              {
                "output_type": "display_data",
                "metadata": {
                  "tags": []
                },
                "text/html": "\n        <iframe\n            width=\"854\"\n            height=\"480\"\n            src=\"https://www.youtube.com/embed/QGA5FCW7kkA?fs=1&rel=0\"\n            frameborder=\"0\"\n            allowfullscreen\n        ></iframe>\n        ",
                "text/plain": "<IPython.lib.display.YouTubeVideo at 0x7efc51912a50>",
                "image/jpeg": "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\n"
              }
            ],
            "_view_module": "@jupyter-widgets/output",
            "_model_module_version": "1.0.0",
            "_view_count": null,
            "_view_module_version": "1.0.0",
            "layout": "IPY_MODEL_47be207d118f4040a95afd71bc7d69e9",
            "_model_module": "@jupyter-widgets/output"
          }
        },
        "978ace717cc8426fb30c96944a02b887": {
          "model_module": "@jupyter-widgets/output",
          "model_name": "OutputModel",
          "state": {
            "_view_name": "OutputView",
            "msg_id": "",
            "_dom_classes": [],
            "_model_name": "OutputModel",
            "outputs": [
              {
                "output_type": "stream",
                "metadata": {
                  "tags": []
                },
                "text": "Video available at https://www.bilibili.com/video/BV1dt4y1Q7C5\n",
                "stream": "stdout"
              },
              {
                "output_type": "display_data",
                "metadata": {
                  "tags": []
                },
                "text/html": "\n        <iframe\n            width=\"854\"\n            height=\"480\"\n            src=\"https://player.bilibili.com/player.html?bvid=BV1dt4y1Q7C5&page=1?fs=1\"\n            frameborder=\"0\"\n            allowfullscreen\n        ></iframe>\n        ",
                "text/plain": "<__main__.BiliVideo at 0x7efc51912ed0>"
              }
            ],
            "_view_module": "@jupyter-widgets/output",
            "_model_module_version": "1.0.0",
            "_view_count": null,
            "_view_module_version": "1.0.0",
            "layout": "IPY_MODEL_894132d94e6d44f687f9f1ad4793e1bb",
            "_model_module": "@jupyter-widgets/output"
          }
        },
        "47be207d118f4040a95afd71bc7d69e9": {
          "model_module": "@jupyter-widgets/base",
          "model_name": "LayoutModel",
          "state": {
            "_view_name": "LayoutView",
            "grid_template_rows": null,
            "right": null,
            "justify_content": null,
            "_view_module": "@jupyter-widgets/base",
            "overflow": null,
            "_model_module_version": "1.2.0",
            "_view_count": null,
            "flex_flow": null,
            "width": null,
            "min_width": null,
            "border": null,
            "align_items": null,
            "bottom": null,
            "_model_module": "@jupyter-widgets/base",
            "top": null,
            "grid_column": null,
            "overflow_y": null,
            "overflow_x": null,
            "grid_auto_flow": null,
            "grid_area": null,
            "grid_template_columns": null,
            "flex": null,
            "_model_name": "LayoutModel",
            "justify_items": null,
            "grid_row": null,
            "max_height": null,
            "align_content": null,
            "visibility": null,
            "align_self": null,
            "height": null,
            "min_height": null,
            "padding": null,
            "grid_auto_rows": null,
            "grid_gap": null,
            "max_width": null,
            "order": null,
            "_view_module_version": "1.2.0",
            "grid_template_areas": null,
            "object_position": null,
            "object_fit": null,
            "grid_auto_columns": null,
            "margin": null,
            "display": null,
            "left": null
          }
        },
        "894132d94e6d44f687f9f1ad4793e1bb": {
          "model_module": "@jupyter-widgets/base",
          "model_name": "LayoutModel",
          "state": {
            "_view_name": "LayoutView",
            "grid_template_rows": null,
            "right": null,
            "justify_content": null,
            "_view_module": "@jupyter-widgets/base",
            "overflow": null,
            "_model_module_version": "1.2.0",
            "_view_count": null,
            "flex_flow": null,
            "width": null,
            "min_width": null,
            "border": null,
            "align_items": null,
            "bottom": null,
            "_model_module": "@jupyter-widgets/base",
            "top": null,
            "grid_column": null,
            "overflow_y": null,
            "overflow_x": null,
            "grid_auto_flow": null,
            "grid_area": null,
            "grid_template_columns": null,
            "flex": null,
            "_model_name": "LayoutModel",
            "justify_items": null,
            "grid_row": null,
            "max_height": null,
            "align_content": null,
            "visibility": null,
            "align_self": null,
            "height": null,
            "min_height": null,
            "padding": null,
            "grid_auto_rows": null,
            "grid_gap": null,
            "max_width": null,
            "order": null,
            "_view_module_version": "1.2.0",
            "grid_template_areas": null,
            "object_position": null,
            "object_fit": null,
            "grid_auto_columns": null,
            "margin": null,
            "display": null,
            "left": null
          }
        },
        "947c59984b7d4fc8ba974aa49abf1e8b": {
          "model_module": "@jupyter-widgets/controls",
          "model_name": "TabModel",
          "state": {
            "_view_name": "TabView",
            "_dom_classes": [],
            "_titles": {
              "0": "Youtube",
              "1": "Bilibili"
            },
            "_model_name": "TabModel",
            "_view_module": "@jupyter-widgets/controls",
            "selected_index": 0,
            "_model_module_version": "1.5.0",
            "_view_count": null,
            "_view_module_version": "1.5.0",
            "box_style": "",
            "layout": "IPY_MODEL_1807d665d62d4664b00c006fc0f0dc98",
            "_model_module": "@jupyter-widgets/controls",
            "children": [
              "IPY_MODEL_8ab7a48be4744361967350abed4c5b22",
              "IPY_MODEL_5a4319171c22457e9a50c4d799d9dae2"
            ]
          }
        },
        "1807d665d62d4664b00c006fc0f0dc98": {
          "model_module": "@jupyter-widgets/base",
          "model_name": "LayoutModel",
          "state": {
            "_view_name": "LayoutView",
            "grid_template_rows": null,
            "right": null,
            "justify_content": null,
            "_view_module": "@jupyter-widgets/base",
            "overflow": null,
            "_model_module_version": "1.2.0",
            "_view_count": null,
            "flex_flow": null,
            "width": null,
            "min_width": null,
            "border": null,
            "align_items": null,
            "bottom": null,
            "_model_module": "@jupyter-widgets/base",
            "top": null,
            "grid_column": null,
            "overflow_y": null,
            "overflow_x": null,
            "grid_auto_flow": null,
            "grid_area": null,
            "grid_template_columns": null,
            "flex": null,
            "_model_name": "LayoutModel",
            "justify_items": null,
            "grid_row": null,
            "max_height": null,
            "align_content": null,
            "visibility": null,
            "align_self": null,
            "height": null,
            "min_height": null,
            "padding": null,
            "grid_auto_rows": null,
            "grid_gap": null,
            "max_width": null,
            "order": null,
            "_view_module_version": "1.2.0",
            "grid_template_areas": null,
            "object_position": null,
            "object_fit": null,
            "grid_auto_columns": null,
            "margin": null,
            "display": null,
            "left": null
          }
        },
        "8ab7a48be4744361967350abed4c5b22": {
          "model_module": "@jupyter-widgets/output",
          "model_name": "OutputModel",
          "state": {
            "_view_name": "OutputView",
            "msg_id": "",
            "_dom_classes": [],
            "_model_name": "OutputModel",
            "outputs": [
              {
                "output_type": "stream",
                "metadata": {
                  "tags": []
                },
                "text": "Video available at https://youtube.com/watch?v=DHhM80MOTe8\n",
                "stream": "stdout"
              },
              {
                "output_type": "display_data",
                "metadata": {
                  "tags": []
                },
                "text/html": "\n        <iframe\n            width=\"854\"\n            height=\"480\"\n            src=\"https://www.youtube.com/embed/DHhM80MOTe8?fs=1&rel=0\"\n            frameborder=\"0\"\n            allowfullscreen\n        ></iframe>\n        ",
                "text/plain": "<IPython.lib.display.YouTubeVideo at 0x7efc4df12850>",
                "image/jpeg": "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\n"
              }
            ],
            "_view_module": "@jupyter-widgets/output",
            "_model_module_version": "1.0.0",
            "_view_count": null,
            "_view_module_version": "1.0.0",
            "layout": "IPY_MODEL_5a435c802c8147dead71b1f6bfd03879",
            "_model_module": "@jupyter-widgets/output"
          }
        },
        "5a4319171c22457e9a50c4d799d9dae2": {
          "model_module": "@jupyter-widgets/output",
          "model_name": "OutputModel",
          "state": {
            "_view_name": "OutputView",
            "msg_id": "",
            "_dom_classes": [],
            "_model_name": "OutputModel",
            "outputs": [
              {
                "output_type": "stream",
                "metadata": {
                  "tags": []
                },
                "text": "Video available at https://www.bilibili.com/video/BV1ov411B7Pm\n",
                "stream": "stdout"
              },
              {
                "output_type": "display_data",
                "metadata": {
                  "tags": []
                },
                "text/html": "\n        <iframe\n            width=\"854\"\n            height=\"480\"\n            src=\"https://player.bilibili.com/player.html?bvid=BV1ov411B7Pm&page=1?fs=1\"\n            frameborder=\"0\"\n            allowfullscreen\n        ></iframe>\n        ",
                "text/plain": "<__main__.BiliVideo at 0x7efc4df12410>"
              }
            ],
            "_view_module": "@jupyter-widgets/output",
            "_model_module_version": "1.0.0",
            "_view_count": null,
            "_view_module_version": "1.0.0",
            "layout": "IPY_MODEL_b401ba2ec3ad4c15a7e5760724547366",
            "_model_module": "@jupyter-widgets/output"
          }
        },
        "5a435c802c8147dead71b1f6bfd03879": {
          "model_module": "@jupyter-widgets/base",
          "model_name": "LayoutModel",
          "state": {
            "_view_name": "LayoutView",
            "grid_template_rows": null,
            "right": null,
            "justify_content": null,
            "_view_module": "@jupyter-widgets/base",
            "overflow": null,
            "_model_module_version": "1.2.0",
            "_view_count": null,
            "flex_flow": null,
            "width": null,
            "min_width": null,
            "border": null,
            "align_items": null,
            "bottom": null,
            "_model_module": "@jupyter-widgets/base",
            "top": null,
            "grid_column": null,
            "overflow_y": null,
            "overflow_x": null,
            "grid_auto_flow": null,
            "grid_area": null,
            "grid_template_columns": null,
            "flex": null,
            "_model_name": "LayoutModel",
            "justify_items": null,
            "grid_row": null,
            "max_height": null,
            "align_content": null,
            "visibility": null,
            "align_self": null,
            "height": null,
            "min_height": null,
            "padding": null,
            "grid_auto_rows": null,
            "grid_gap": null,
            "max_width": null,
            "order": null,
            "_view_module_version": "1.2.0",
            "grid_template_areas": null,
            "object_position": null,
            "object_fit": null,
            "grid_auto_columns": null,
            "margin": null,
            "display": null,
            "left": null
          }
        },
        "b401ba2ec3ad4c15a7e5760724547366": {
          "model_module": "@jupyter-widgets/base",
          "model_name": "LayoutModel",
          "state": {
            "_view_name": "LayoutView",
            "grid_template_rows": null,
            "right": null,
            "justify_content": null,
            "_view_module": "@jupyter-widgets/base",
            "overflow": null,
            "_model_module_version": "1.2.0",
            "_view_count": null,
            "flex_flow": null,
            "width": null,
            "min_width": null,
            "border": null,
            "align_items": null,
            "bottom": null,
            "_model_module": "@jupyter-widgets/base",
            "top": null,
            "grid_column": null,
            "overflow_y": null,
            "overflow_x": null,
            "grid_auto_flow": null,
            "grid_area": null,
            "grid_template_columns": null,
            "flex": null,
            "_model_name": "LayoutModel",
            "justify_items": null,
            "grid_row": null,
            "max_height": null,
            "align_content": null,
            "visibility": null,
            "align_self": null,
            "height": null,
            "min_height": null,
            "padding": null,
            "grid_auto_rows": null,
            "grid_gap": null,
            "max_width": null,
            "order": null,
            "_view_module_version": "1.2.0",
            "grid_template_areas": null,
            "object_position": null,
            "object_fit": null,
            "grid_auto_columns": null,
            "margin": null,
            "display": null,
            "left": null
          }
        },
        "4890c292865348b4a679c0fd59a857f3": {
          "model_module": "@jupyter-widgets/controls",
          "model_name": "VBoxModel",
          "state": {
            "_view_name": "VBoxView",
            "_dom_classes": [
              "widget-interact"
            ],
            "_model_name": "VBoxModel",
            "_view_module": "@jupyter-widgets/controls",
            "_model_module_version": "1.5.0",
            "_view_count": null,
            "_view_module_version": "1.5.0",
            "box_style": "",
            "layout": "IPY_MODEL_91a3eb7de9894a7c88d7fa3d860984ee",
            "_model_module": "@jupyter-widgets/controls",
            "children": [
              "IPY_MODEL_79f337150e9a4454aaff78e2521b9754",
              "IPY_MODEL_19a31da3f85a4cf0aecfd103e4b2c91f",
              "IPY_MODEL_008a7e647ff04c77b74eed1a7233b2fa",
              "IPY_MODEL_7a25023feaf545ac925657e35e44a622",
              "IPY_MODEL_6a44b70010804158b9b9bdef49441a12",
              "IPY_MODEL_f3c09d0c50be426cb0f8689de052c6b5",
              "IPY_MODEL_b9511fca968e473ab0570a2cc1c48483",
              "IPY_MODEL_f72e95707f0b46c39df30482fbb5e4d8"
            ]
          }
        },
        "91a3eb7de9894a7c88d7fa3d860984ee": {
          "model_module": "@jupyter-widgets/base",
          "model_name": "LayoutModel",
          "state": {
            "_view_name": "LayoutView",
            "grid_template_rows": null,
            "right": null,
            "justify_content": null,
            "_view_module": "@jupyter-widgets/base",
            "overflow": null,
            "_model_module_version": "1.2.0",
            "_view_count": null,
            "flex_flow": null,
            "width": null,
            "min_width": null,
            "border": null,
            "align_items": null,
            "bottom": null,
            "_model_module": "@jupyter-widgets/base",
            "top": null,
            "grid_column": null,
            "overflow_y": null,
            "overflow_x": null,
            "grid_auto_flow": null,
            "grid_area": null,
            "grid_template_columns": null,
            "flex": null,
            "_model_name": "LayoutModel",
            "justify_items": null,
            "grid_row": null,
            "max_height": null,
            "align_content": null,
            "visibility": null,
            "align_self": null,
            "height": null,
            "min_height": null,
            "padding": null,
            "grid_auto_rows": null,
            "grid_gap": null,
            "max_width": null,
            "order": null,
            "_view_module_version": "1.2.0",
            "grid_template_areas": null,
            "object_position": null,
            "object_fit": null,
            "grid_auto_columns": null,
            "margin": null,
            "display": null,
            "left": null
          }
        },
        "79f337150e9a4454aaff78e2521b9754": {
          "model_module": "@jupyter-widgets/controls",
          "model_name": "FloatSliderModel",
          "state": {
            "_view_name": "FloatSliderView",
            "style": "IPY_MODEL_bde1fa9deec34116adf92f7592fa6225",
            "_dom_classes": [],
            "description": "exp_scale",
            "step": 250,
            "_model_name": "FloatSliderModel",
            "orientation": "horizontal",
            "max": 20000,
            "_view_module": "@jupyter-widgets/controls",
            "_model_module_version": "1.5.0",
            "value": 1000,
            "_view_count": null,
            "disabled": false,
            "_view_module_version": "1.5.0",
            "min": 0,
            "continuous_update": true,
            "readout_format": ".2f",
            "description_tooltip": null,
            "readout": true,
            "_model_module": "@jupyter-widgets/controls",
            "layout": "IPY_MODEL_57bfc34a56a44cf0b69e2d62cb9332d2"
          }
        },
        "19a31da3f85a4cf0aecfd103e4b2c91f": {
          "model_module": "@jupyter-widgets/controls",
          "model_name": "FloatSliderModel",
          "state": {
            "_view_name": "FloatSliderView",
            "style": "IPY_MODEL_53eaaf23ebc84ea3bf7071f7f318f44a",
            "_dom_classes": [],
            "description": "exp_rate",
            "step": 1,
            "_model_name": "FloatSliderModel",
            "orientation": "horizontal",
            "max": 50,
            "_view_module": "@jupyter-widgets/controls",
            "_model_module_version": "1.5.0",
            "value": -34,
            "_view_count": null,
            "disabled": false,
            "_view_module_version": "1.5.0",
            "min": -200,
            "continuous_update": true,
            "readout_format": ".2f",
            "description_tooltip": null,
            "readout": true,
            "_model_module": "@jupyter-widgets/controls",
            "layout": "IPY_MODEL_8beeab2315c44fb98eb827a06e35b9d7"
          }
        },
        "008a7e647ff04c77b74eed1a7233b2fa": {
          "model_module": "@jupyter-widgets/controls",
          "model_name": "FloatSliderModel",
          "state": {
            "_view_name": "FloatSliderView",
            "style": "IPY_MODEL_9ef0e3b456a7483eb6d2ddd4803b229d",
            "_dom_classes": [],
            "description": "exp_x0",
            "step": 0.005,
            "_model_name": "FloatSliderModel",
            "orientation": "horizontal",
            "max": 0.5,
            "_view_module": "@jupyter-widgets/controls",
            "_model_module_version": "1.5.0",
            "value": 0.1,
            "_view_count": null,
            "disabled": false,
            "_view_module_version": "1.5.0",
            "min": -0.5,
            "continuous_update": true,
            "readout_format": ".2f",
            "description_tooltip": null,
            "readout": true,
            "_model_module": "@jupyter-widgets/controls",
            "layout": "IPY_MODEL_0e7f307f3da64a10ba4b877f30333d34"
          }
        },
        "7a25023feaf545ac925657e35e44a622": {
          "model_module": "@jupyter-widgets/controls",
          "model_name": "FloatSliderModel",
          "state": {
            "_view_name": "FloatSliderView",
            "style": "IPY_MODEL_4064c69aa08b4b28a2c05b509a27c6ec",
            "_dom_classes": [],
            "description": "inv_scale",
            "step": 10,
            "_model_name": "FloatSliderModel",
            "orientation": "horizontal",
            "max": 300,
            "_view_module": "@jupyter-widgets/controls",
            "_model_module_version": "1.5.0",
            "value": 120,
            "_view_count": null,
            "disabled": false,
            "_view_module_version": "1.5.0",
            "min": 0,
            "continuous_update": true,
            "readout_format": ".2f",
            "description_tooltip": null,
            "readout": true,
            "_model_module": "@jupyter-widgets/controls",
            "layout": "IPY_MODEL_44a20990199640e09a5d38a2ab112168"
          }
        },
        "6a44b70010804158b9b9bdef49441a12": {
          "model_module": "@jupyter-widgets/controls",
          "model_name": "FloatSliderModel",
          "state": {
            "_view_name": "FloatSliderView",
            "style": "IPY_MODEL_cdbfd8fb1fee4c12b6ec721dabc246e6",
            "_dom_classes": [],
            "description": "inv_x0",
            "step": 0.01,
            "_model_name": "FloatSliderModel",
            "orientation": "horizontal",
            "max": 0.2,
            "_view_module": "@jupyter-widgets/controls",
            "_model_module_version": "1.5.0",
            "value": 0.01,
            "_view_count": null,
            "disabled": false,
            "_view_module_version": "1.5.0",
            "min": -0.2,
            "continuous_update": true,
            "readout_format": ".2f",
            "description_tooltip": null,
            "readout": true,
            "_model_module": "@jupyter-widgets/controls",
            "layout": "IPY_MODEL_841beeba706b446384ea416872b180e6"
          }
        },
        "f3c09d0c50be426cb0f8689de052c6b5": {
          "model_module": "@jupyter-widgets/controls",
          "model_name": "FloatSliderModel",
          "state": {
            "_view_name": "FloatSliderView",
            "style": "IPY_MODEL_3368ccaa3cea457d883e981809d62c71",
            "_dom_classes": [],
            "description": "lin_slope",
            "step": 10000,
            "_model_name": "FloatSliderModel",
            "orientation": "horizontal",
            "max": 100000,
            "_view_module": "@jupyter-widgets/controls",
            "_model_module_version": "1.5.0",
            "value": -160000,
            "_view_count": null,
            "disabled": false,
            "_view_module_version": "1.5.0",
            "min": -600000,
            "continuous_update": true,
            "readout_format": ".2f",
            "description_tooltip": null,
            "readout": true,
            "_model_module": "@jupyter-widgets/controls",
            "layout": "IPY_MODEL_a60150d87268439eb9808259f22869d5"
          }
        },
        "b9511fca968e473ab0570a2cc1c48483": {
          "model_module": "@jupyter-widgets/controls",
          "model_name": "FloatSliderModel",
          "state": {
            "_view_name": "FloatSliderView",
            "style": "IPY_MODEL_d1e67cb7dd77468c855f094fffe0203e",
            "_dom_classes": [],
            "description": "lin_y0",
            "step": 1000,
            "_model_name": "FloatSliderModel",
            "orientation": "horizontal",
            "max": 40000,
            "_view_module": "@jupyter-widgets/controls",
            "_model_module_version": "1.5.0",
            "value": 14000,
            "_view_count": null,
            "disabled": false,
            "_view_module_version": "1.5.0",
            "min": 0,
            "continuous_update": true,
            "readout_format": ".2f",
            "description_tooltip": null,
            "readout": true,
            "_model_module": "@jupyter-widgets/controls",
            "layout": "IPY_MODEL_507e9ca4f34643eb8617860147cebe3d"
          }
        },
        "f72e95707f0b46c39df30482fbb5e4d8": {
          "model_module": "@jupyter-widgets/output",
          "model_name": "OutputModel",
          "state": {
            "_view_name": "OutputView",
            "msg_id": "",
            "_dom_classes": [],
            "_model_name": "OutputModel",
            "outputs": [
              {
                "output_type": "display_data",
                "metadata": {
                  "tags": [],
                  "image/png": {
                    "width": 558,
                    "height": 413
                  },
                  "needs_background": "light"
                },
                "image/png": "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\n",
                "text/plain": "<Figure size 576x432 with 1 Axes>"
              }
            ],
            "_view_module": "@jupyter-widgets/output",
            "_model_module_version": "1.0.0",
            "_view_count": null,
            "_view_module_version": "1.0.0",
            "layout": "IPY_MODEL_6906eaba31f7442bbb3f74c761a1c913",
            "_model_module": "@jupyter-widgets/output"
          }
        },
        "bde1fa9deec34116adf92f7592fa6225": {
          "model_module": "@jupyter-widgets/controls",
          "model_name": "SliderStyleModel",
          "state": {
            "_view_name": "StyleView",
            "handle_color": null,
            "_model_name": "SliderStyleModel",
            "description_width": "",
            "_view_module": "@jupyter-widgets/base",
            "_model_module_version": "1.5.0",
            "_view_count": null,
            "_view_module_version": "1.2.0",
            "_model_module": "@jupyter-widgets/controls"
          }
        },
        "57bfc34a56a44cf0b69e2d62cb9332d2": {
          "model_module": "@jupyter-widgets/base",
          "model_name": "LayoutModel",
          "state": {
            "_view_name": "LayoutView",
            "grid_template_rows": null,
            "right": null,
            "justify_content": null,
            "_view_module": "@jupyter-widgets/base",
            "overflow": null,
            "_model_module_version": "1.2.0",
            "_view_count": null,
            "flex_flow": null,
            "width": null,
            "min_width": null,
            "border": null,
            "align_items": null,
            "bottom": null,
            "_model_module": "@jupyter-widgets/base",
            "top": null,
            "grid_column": null,
            "overflow_y": null,
            "overflow_x": null,
            "grid_auto_flow": null,
            "grid_area": null,
            "grid_template_columns": null,
            "flex": null,
            "_model_name": "LayoutModel",
            "justify_items": null,
            "grid_row": null,
            "max_height": null,
            "align_content": null,
            "visibility": null,
            "align_self": null,
            "height": null,
            "min_height": null,
            "padding": null,
            "grid_auto_rows": null,
            "grid_gap": null,
            "max_width": null,
            "order": null,
            "_view_module_version": "1.2.0",
            "grid_template_areas": null,
            "object_position": null,
            "object_fit": null,
            "grid_auto_columns": null,
            "margin": null,
            "display": null,
            "left": null
          }
        },
        "53eaaf23ebc84ea3bf7071f7f318f44a": {
          "model_module": "@jupyter-widgets/controls",
          "model_name": "SliderStyleModel",
          "state": {
            "_view_name": "StyleView",
            "handle_color": null,
            "_model_name": "SliderStyleModel",
            "description_width": "",
            "_view_module": "@jupyter-widgets/base",
            "_model_module_version": "1.5.0",
            "_view_count": null,
            "_view_module_version": "1.2.0",
            "_model_module": "@jupyter-widgets/controls"
          }
        },
        "8beeab2315c44fb98eb827a06e35b9d7": {
          "model_module": "@jupyter-widgets/base",
          "model_name": "LayoutModel",
          "state": {
            "_view_name": "LayoutView",
            "grid_template_rows": null,
            "right": null,
            "justify_content": null,
            "_view_module": "@jupyter-widgets/base",
            "overflow": null,
            "_model_module_version": "1.2.0",
            "_view_count": null,
            "flex_flow": null,
            "width": null,
            "min_width": null,
            "border": null,
            "align_items": null,
            "bottom": null,
            "_model_module": "@jupyter-widgets/base",
            "top": null,
            "grid_column": null,
            "overflow_y": null,
            "overflow_x": null,
            "grid_auto_flow": null,
            "grid_area": null,
            "grid_template_columns": null,
            "flex": null,
            "_model_name": "LayoutModel",
            "justify_items": null,
            "grid_row": null,
            "max_height": null,
            "align_content": null,
            "visibility": null,
            "align_self": null,
            "height": null,
            "min_height": null,
            "padding": null,
            "grid_auto_rows": null,
            "grid_gap": null,
            "max_width": null,
            "order": null,
            "_view_module_version": "1.2.0",
            "grid_template_areas": null,
            "object_position": null,
            "object_fit": null,
            "grid_auto_columns": null,
            "margin": null,
            "display": null,
            "left": null
          }
        },
        "9ef0e3b456a7483eb6d2ddd4803b229d": {
          "model_module": "@jupyter-widgets/controls",
          "model_name": "SliderStyleModel",
          "state": {
            "_view_name": "StyleView",
            "handle_color": null,
            "_model_name": "SliderStyleModel",
            "description_width": "",
            "_view_module": "@jupyter-widgets/base",
            "_model_module_version": "1.5.0",
            "_view_count": null,
            "_view_module_version": "1.2.0",
            "_model_module": "@jupyter-widgets/controls"
          }
        },
        "0e7f307f3da64a10ba4b877f30333d34": {
          "model_module": "@jupyter-widgets/base",
          "model_name": "LayoutModel",
          "state": {
            "_view_name": "LayoutView",
            "grid_template_rows": null,
            "right": null,
            "justify_content": null,
            "_view_module": "@jupyter-widgets/base",
            "overflow": null,
            "_model_module_version": "1.2.0",
            "_view_count": null,
            "flex_flow": null,
            "width": null,
            "min_width": null,
            "border": null,
            "align_items": null,
            "bottom": null,
            "_model_module": "@jupyter-widgets/base",
            "top": null,
            "grid_column": null,
            "overflow_y": null,
            "overflow_x": null,
            "grid_auto_flow": null,
            "grid_area": null,
            "grid_template_columns": null,
            "flex": null,
            "_model_name": "LayoutModel",
            "justify_items": null,
            "grid_row": null,
            "max_height": null,
            "align_content": null,
            "visibility": null,
            "align_self": null,
            "height": null,
            "min_height": null,
            "padding": null,
            "grid_auto_rows": null,
            "grid_gap": null,
            "max_width": null,
            "order": null,
            "_view_module_version": "1.2.0",
            "grid_template_areas": null,
            "object_position": null,
            "object_fit": null,
            "grid_auto_columns": null,
            "margin": null,
            "display": null,
            "left": null
          }
        },
        "4064c69aa08b4b28a2c05b509a27c6ec": {
          "model_module": "@jupyter-widgets/controls",
          "model_name": "SliderStyleModel",
          "state": {
            "_view_name": "StyleView",
            "handle_color": null,
            "_model_name": "SliderStyleModel",
            "description_width": "",
            "_view_module": "@jupyter-widgets/base",
            "_model_module_version": "1.5.0",
            "_view_count": null,
            "_view_module_version": "1.2.0",
            "_model_module": "@jupyter-widgets/controls"
          }
        },
        "44a20990199640e09a5d38a2ab112168": {
          "model_module": "@jupyter-widgets/base",
          "model_name": "LayoutModel",
          "state": {
            "_view_name": "LayoutView",
            "grid_template_rows": null,
            "right": null,
            "justify_content": null,
            "_view_module": "@jupyter-widgets/base",
            "overflow": null,
            "_model_module_version": "1.2.0",
            "_view_count": null,
            "flex_flow": null,
            "width": null,
            "min_width": null,
            "border": null,
            "align_items": null,
            "bottom": null,
            "_model_module": "@jupyter-widgets/base",
            "top": null,
            "grid_column": null,
            "overflow_y": null,
            "overflow_x": null,
            "grid_auto_flow": null,
            "grid_area": null,
            "grid_template_columns": null,
            "flex": null,
            "_model_name": "LayoutModel",
            "justify_items": null,
            "grid_row": null,
            "max_height": null,
            "align_content": null,
            "visibility": null,
            "align_self": null,
            "height": null,
            "min_height": null,
            "padding": null,
            "grid_auto_rows": null,
            "grid_gap": null,
            "max_width": null,
            "order": null,
            "_view_module_version": "1.2.0",
            "grid_template_areas": null,
            "object_position": null,
            "object_fit": null,
            "grid_auto_columns": null,
            "margin": null,
            "display": null,
            "left": null
          }
        },
        "cdbfd8fb1fee4c12b6ec721dabc246e6": {
          "model_module": "@jupyter-widgets/controls",
          "model_name": "SliderStyleModel",
          "state": {
            "_view_name": "StyleView",
            "handle_color": null,
            "_model_name": "SliderStyleModel",
            "description_width": "",
            "_view_module": "@jupyter-widgets/base",
            "_model_module_version": "1.5.0",
            "_view_count": null,
            "_view_module_version": "1.2.0",
            "_model_module": "@jupyter-widgets/controls"
          }
        },
        "841beeba706b446384ea416872b180e6": {
          "model_module": "@jupyter-widgets/base",
          "model_name": "LayoutModel",
          "state": {
            "_view_name": "LayoutView",
            "grid_template_rows": null,
            "right": null,
            "justify_content": null,
            "_view_module": "@jupyter-widgets/base",
            "overflow": null,
            "_model_module_version": "1.2.0",
            "_view_count": null,
            "flex_flow": null,
            "width": null,
            "min_width": null,
            "border": null,
            "align_items": null,
            "bottom": null,
            "_model_module": "@jupyter-widgets/base",
            "top": null,
            "grid_column": null,
            "overflow_y": null,
            "overflow_x": null,
            "grid_auto_flow": null,
            "grid_area": null,
            "grid_template_columns": null,
            "flex": null,
            "_model_name": "LayoutModel",
            "justify_items": null,
            "grid_row": null,
            "max_height": null,
            "align_content": null,
            "visibility": null,
            "align_self": null,
            "height": null,
            "min_height": null,
            "padding": null,
            "grid_auto_rows": null,
            "grid_gap": null,
            "max_width": null,
            "order": null,
            "_view_module_version": "1.2.0",
            "grid_template_areas": null,
            "object_position": null,
            "object_fit": null,
            "grid_auto_columns": null,
            "margin": null,
            "display": null,
            "left": null
          }
        },
        "3368ccaa3cea457d883e981809d62c71": {
          "model_module": "@jupyter-widgets/controls",
          "model_name": "SliderStyleModel",
          "state": {
            "_view_name": "StyleView",
            "handle_color": null,
            "_model_name": "SliderStyleModel",
            "description_width": "",
            "_view_module": "@jupyter-widgets/base",
            "_model_module_version": "1.5.0",
            "_view_count": null,
            "_view_module_version": "1.2.0",
            "_model_module": "@jupyter-widgets/controls"
          }
        },
        "a60150d87268439eb9808259f22869d5": {
          "model_module": "@jupyter-widgets/base",
          "model_name": "LayoutModel",
          "state": {
            "_view_name": "LayoutView",
            "grid_template_rows": null,
            "right": null,
            "justify_content": null,
            "_view_module": "@jupyter-widgets/base",
            "overflow": null,
            "_model_module_version": "1.2.0",
            "_view_count": null,
            "flex_flow": null,
            "width": null,
            "min_width": null,
            "border": null,
            "align_items": null,
            "bottom": null,
            "_model_module": "@jupyter-widgets/base",
            "top": null,
            "grid_column": null,
            "overflow_y": null,
            "overflow_x": null,
            "grid_auto_flow": null,
            "grid_area": null,
            "grid_template_columns": null,
            "flex": null,
            "_model_name": "LayoutModel",
            "justify_items": null,
            "grid_row": null,
            "max_height": null,
            "align_content": null,
            "visibility": null,
            "align_self": null,
            "height": null,
            "min_height": null,
            "padding": null,
            "grid_auto_rows": null,
            "grid_gap": null,
            "max_width": null,
            "order": null,
            "_view_module_version": "1.2.0",
            "grid_template_areas": null,
            "object_position": null,
            "object_fit": null,
            "grid_auto_columns": null,
            "margin": null,
            "display": null,
            "left": null
          }
        },
        "d1e67cb7dd77468c855f094fffe0203e": {
          "model_module": "@jupyter-widgets/controls",
          "model_name": "SliderStyleModel",
          "state": {
            "_view_name": "StyleView",
            "handle_color": null,
            "_model_name": "SliderStyleModel",
            "description_width": "",
            "_view_module": "@jupyter-widgets/base",
            "_model_module_version": "1.5.0",
            "_view_count": null,
            "_view_module_version": "1.2.0",
            "_model_module": "@jupyter-widgets/controls"
          }
        },
        "507e9ca4f34643eb8617860147cebe3d": {
          "model_module": "@jupyter-widgets/base",
          "model_name": "LayoutModel",
          "state": {
            "_view_name": "LayoutView",
            "grid_template_rows": null,
            "right": null,
            "justify_content": null,
            "_view_module": "@jupyter-widgets/base",
            "overflow": null,
            "_model_module_version": "1.2.0",
            "_view_count": null,
            "flex_flow": null,
            "width": null,
            "min_width": null,
            "border": null,
            "align_items": null,
            "bottom": null,
            "_model_module": "@jupyter-widgets/base",
            "top": null,
            "grid_column": null,
            "overflow_y": null,
            "overflow_x": null,
            "grid_auto_flow": null,
            "grid_area": null,
            "grid_template_columns": null,
            "flex": null,
            "_model_name": "LayoutModel",
            "justify_items": null,
            "grid_row": null,
            "max_height": null,
            "align_content": null,
            "visibility": null,
            "align_self": null,
            "height": null,
            "min_height": null,
            "padding": null,
            "grid_auto_rows": null,
            "grid_gap": null,
            "max_width": null,
            "order": null,
            "_view_module_version": "1.2.0",
            "grid_template_areas": null,
            "object_position": null,
            "object_fit": null,
            "grid_auto_columns": null,
            "margin": null,
            "display": null,
            "left": null
          }
        },
        "6906eaba31f7442bbb3f74c761a1c913": {
          "model_module": "@jupyter-widgets/base",
          "model_name": "LayoutModel",
          "state": {
            "_view_name": "LayoutView",
            "grid_template_rows": null,
            "right": null,
            "justify_content": null,
            "_view_module": "@jupyter-widgets/base",
            "overflow": null,
            "_model_module_version": "1.2.0",
            "_view_count": null,
            "flex_flow": null,
            "width": null,
            "min_width": null,
            "border": null,
            "align_items": null,
            "bottom": null,
            "_model_module": "@jupyter-widgets/base",
            "top": null,
            "grid_column": null,
            "overflow_y": null,
            "overflow_x": null,
            "grid_auto_flow": null,
            "grid_area": null,
            "grid_template_columns": null,
            "flex": null,
            "_model_name": "LayoutModel",
            "justify_items": null,
            "grid_row": null,
            "max_height": null,
            "align_content": null,
            "visibility": null,
            "align_self": null,
            "height": null,
            "min_height": null,
            "padding": null,
            "grid_auto_rows": null,
            "grid_gap": null,
            "max_width": null,
            "order": null,
            "_view_module_version": "1.2.0",
            "grid_template_areas": null,
            "object_position": null,
            "object_fit": null,
            "grid_auto_columns": null,
            "margin": null,
            "display": null,
            "left": null
          }
        },
        "1538117e5bbd4fdc9c95a0d37f708730": {
          "model_module": "@jupyter-widgets/controls",
          "model_name": "TabModel",
          "state": {
            "_view_name": "TabView",
            "_dom_classes": [],
            "_titles": {
              "0": "Youtube",
              "1": "Bilibili"
            },
            "_model_name": "TabModel",
            "_view_module": "@jupyter-widgets/controls",
            "selected_index": 0,
            "_model_module_version": "1.5.0",
            "_view_count": null,
            "_view_module_version": "1.5.0",
            "box_style": "",
            "layout": "IPY_MODEL_fa98843666fa4419abe7dc0eba144288",
            "_model_module": "@jupyter-widgets/controls",
            "children": [
              "IPY_MODEL_aa04fedf1aec4e4080ee9309d2763dfb",
              "IPY_MODEL_e965dd494bab4dd69d8d26eea0ecc7cb"
            ]
          }
        },
        "fa98843666fa4419abe7dc0eba144288": {
          "model_module": "@jupyter-widgets/base",
          "model_name": "LayoutModel",
          "state": {
            "_view_name": "LayoutView",
            "grid_template_rows": null,
            "right": null,
            "justify_content": null,
            "_view_module": "@jupyter-widgets/base",
            "overflow": null,
            "_model_module_version": "1.2.0",
            "_view_count": null,
            "flex_flow": null,
            "width": null,
            "min_width": null,
            "border": null,
            "align_items": null,
            "bottom": null,
            "_model_module": "@jupyter-widgets/base",
            "top": null,
            "grid_column": null,
            "overflow_y": null,
            "overflow_x": null,
            "grid_auto_flow": null,
            "grid_area": null,
            "grid_template_columns": null,
            "flex": null,
            "_model_name": "LayoutModel",
            "justify_items": null,
            "grid_row": null,
            "max_height": null,
            "align_content": null,
            "visibility": null,
            "align_self": null,
            "height": null,
            "min_height": null,
            "padding": null,
            "grid_auto_rows": null,
            "grid_gap": null,
            "max_width": null,
            "order": null,
            "_view_module_version": "1.2.0",
            "grid_template_areas": null,
            "object_position": null,
            "object_fit": null,
            "grid_auto_columns": null,
            "margin": null,
            "display": null,
            "left": null
          }
        },
        "aa04fedf1aec4e4080ee9309d2763dfb": {
          "model_module": "@jupyter-widgets/output",
          "model_name": "OutputModel",
          "state": {
            "_view_name": "OutputView",
            "msg_id": "",
            "_dom_classes": [],
            "_model_name": "OutputModel",
            "outputs": [
              {
                "output_type": "stream",
                "metadata": {
                  "tags": []
                },
                "text": "Video available at https://youtube.com/watch?v=uW2HDk_4-wk\n",
                "stream": "stdout"
              },
              {
                "output_type": "display_data",
                "metadata": {
                  "tags": []
                },
                "text/html": "\n        <iframe\n            width=\"854\"\n            height=\"480\"\n            src=\"https://www.youtube.com/embed/uW2HDk_4-wk?fs=1&rel=0\"\n            frameborder=\"0\"\n            allowfullscreen\n        ></iframe>\n        ",
                "text/plain": "<IPython.lib.display.YouTubeVideo at 0x7efc4c2a3d90>",
                "image/jpeg": "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\n"
              }
            ],
            "_view_module": "@jupyter-widgets/output",
            "_model_module_version": "1.0.0",
            "_view_count": null,
            "_view_module_version": "1.0.0",
            "layout": "IPY_MODEL_b581a66c1ade4c13afe8400474a7be2c",
            "_model_module": "@jupyter-widgets/output"
          }
        },
        "e965dd494bab4dd69d8d26eea0ecc7cb": {
          "model_module": "@jupyter-widgets/output",
          "model_name": "OutputModel",
          "state": {
            "_view_name": "OutputView",
            "msg_id": "",
            "_dom_classes": [],
            "_model_name": "OutputModel",
            "outputs": [
              {
                "output_type": "stream",
                "metadata": {
                  "tags": []
                },
                "text": "Video available at https://www.bilibili.com/video/BV1w54y1S7Eb\n",
                "stream": "stdout"
              },
              {
                "output_type": "display_data",
                "metadata": {
                  "tags": []
                },
                "text/html": "\n        <iframe\n            width=\"854\"\n            height=\"480\"\n            src=\"https://player.bilibili.com/player.html?bvid=BV1w54y1S7Eb&page=1?fs=1\"\n            frameborder=\"0\"\n            allowfullscreen\n        ></iframe>\n        ",
                "text/plain": "<__main__.BiliVideo at 0x7efc4ded7ed0>"
              }
            ],
            "_view_module": "@jupyter-widgets/output",
            "_model_module_version": "1.0.0",
            "_view_count": null,
            "_view_module_version": "1.0.0",
            "layout": "IPY_MODEL_f17ffb4cdfb34c46b05f0228e25cf073",
            "_model_module": "@jupyter-widgets/output"
          }
        },
        "b581a66c1ade4c13afe8400474a7be2c": {
          "model_module": "@jupyter-widgets/base",
          "model_name": "LayoutModel",
          "state": {
            "_view_name": "LayoutView",
            "grid_template_rows": null,
            "right": null,
            "justify_content": null,
            "_view_module": "@jupyter-widgets/base",
            "overflow": null,
            "_model_module_version": "1.2.0",
            "_view_count": null,
            "flex_flow": null,
            "width": null,
            "min_width": null,
            "border": null,
            "align_items": null,
            "bottom": null,
            "_model_module": "@jupyter-widgets/base",
            "top": null,
            "grid_column": null,
            "overflow_y": null,
            "overflow_x": null,
            "grid_auto_flow": null,
            "grid_area": null,
            "grid_template_columns": null,
            "flex": null,
            "_model_name": "LayoutModel",
            "justify_items": null,
            "grid_row": null,
            "max_height": null,
            "align_content": null,
            "visibility": null,
            "align_self": null,
            "height": null,
            "min_height": null,
            "padding": null,
            "grid_auto_rows": null,
            "grid_gap": null,
            "max_width": null,
            "order": null,
            "_view_module_version": "1.2.0",
            "grid_template_areas": null,
            "object_position": null,
            "object_fit": null,
            "grid_auto_columns": null,
            "margin": null,
            "display": null,
            "left": null
          }
        },
        "f17ffb4cdfb34c46b05f0228e25cf073": {
          "model_module": "@jupyter-widgets/base",
          "model_name": "LayoutModel",
          "state": {
            "_view_name": "LayoutView",
            "grid_template_rows": null,
            "right": null,
            "justify_content": null,
            "_view_module": "@jupyter-widgets/base",
            "overflow": null,
            "_model_module_version": "1.2.0",
            "_view_count": null,
            "flex_flow": null,
            "width": null,
            "min_width": null,
            "border": null,
            "align_items": null,
            "bottom": null,
            "_model_module": "@jupyter-widgets/base",
            "top": null,
            "grid_column": null,
            "overflow_y": null,
            "overflow_x": null,
            "grid_auto_flow": null,
            "grid_area": null,
            "grid_template_columns": null,
            "flex": null,
            "_model_name": "LayoutModel",
            "justify_items": null,
            "grid_row": null,
            "max_height": null,
            "align_content": null,
            "visibility": null,
            "align_self": null,
            "height": null,
            "min_height": null,
            "padding": null,
            "grid_auto_rows": null,
            "grid_gap": null,
            "max_width": null,
            "order": null,
            "_view_module_version": "1.2.0",
            "grid_template_areas": null,
            "object_position": null,
            "object_fit": null,
            "grid_auto_columns": null,
            "margin": null,
            "display": null,
            "left": null
          }
        }
      }
    }
  },
  "cells": [
    {
      "cell_type": "markdown",
      "metadata": {
        "id": "view-in-github",
        "colab_type": "text"
      },
      "source": [
        "<a href=\"https://colab.research.google.com/github/alexenge/nma-course-content/blob/solutions_alex/tutorials/W1D1_ModelTypes/student/W1D1_Tutorial1.ipynb\" target=\"_parent\"><img src=\"https://colab.research.google.com/assets/colab-badge.svg\" alt=\"Open In Colab\"/></a>"
      ]
    },
    {
      "cell_type": "markdown",
      "metadata": {
        "id": "p7BO2CmodYY4"
      },
      "source": [
        "# Tutorial 1: \"What\" models\n",
        "**Week 1, Day 1: Model Types**\n",
        "\n",
        "**By Neuromatch Academy**\n",
        "\n",
        "__Content creators:__ Matt Laporte, Byron Galbraith, Konrad Kording\n",
        "\n",
        "__Content reviewers:__ Dalin Guo, Aishwarya Balwani, Madineh Sarvestani, Maryam Vaziri-Pashkam, Michael Waskom, Ella Batty\n",
        "\n",
        "We would like to acknowledge [Steinmetz _et al._ (2019)](https://www.nature.com/articles/s41586-019-1787-x) for sharing their data, a subset of which is used here.\n"
      ]
    },
    {
      "cell_type": "markdown",
      "metadata": {
        "id": "1SFgJ7PJdYY7"
      },
      "source": [
        "**Our 2021 Sponsors, including Presenting Sponsor Facebook Reality Labs**\n",
        "\n",
        "<p align='center'><img src='https://github.com/NeuromatchAcademy/widgets/blob/master/sponsors.png?raw=True'/></p>"
      ]
    },
    {
      "cell_type": "markdown",
      "metadata": {
        "id": "w_9zSnjAdYY7"
      },
      "source": [
        "___\n",
        "# Tutorial Objectives\n",
        "\n",
        "*Estimated timing of tutorial: 50 minutes*\n",
        "\n",
        "This is tutorial 1 of a 3-part series on different flavors of models used to understand neural data. In this tutorial we will explore 'What' models, used to describe the data. To understand what our data looks like, we will visualize it in different ways. Then we will compare it to simple mathematical models. Specifically, we will:\n",
        "\n",
        "- Load a dataset with spiking activity from hundreds of neurons and understand how it is organized\n",
        "- Make plots to visualize characteristics of the spiking activity across the population\n",
        "- Compute the distribution of \"inter-spike intervals\" (ISIs) for a single neuron\n",
        "- Consider several formal models of this distribution's shape and fit them to the data \"by hand\""
      ]
    },
    {
      "cell_type": "code",
      "metadata": {
        "cellView": "form",
        "execution": {
          "iopub.execute_input": "2021-07-03T17:54:16.068512Z",
          "iopub.status.busy": "2021-07-03T17:54:16.067851Z",
          "iopub.status.idle": "2021-07-03T17:54:16.078805Z",
          "shell.execute_reply": "2021-07-03T17:54:16.079308Z"
        },
        "id": "XklUpWTBdYY8",
        "outputId": "238d43de-ed86-421a-da76-47f16342ed1c",
        "colab": {
          "base_uri": "https://localhost:8080/",
          "height": 501
        }
      },
      "source": [
        "# @title Tutorial slides\n",
        "\n",
        "# @markdown These are the slides for the videos in all tutorials today\n",
        "from IPython.display import IFrame\n",
        "IFrame(src=f\"https://mfr.ca-1.osf.io/render?url=https://osf.io/6dxwe/?direct%26mode=render%26action=download%26mode=render\", width=854, height=480)"
      ],
      "execution_count": 1,
      "outputs": [
        {
          "output_type": "execute_result",
          "data": {
            "text/html": [
              "\n",
              "        <iframe\n",
              "            width=\"854\"\n",
              "            height=\"480\"\n",
              "            src=\"https://mfr.ca-1.osf.io/render?url=https://osf.io/6dxwe/?direct%26mode=render%26action=download%26mode=render\"\n",
              "            frameborder=\"0\"\n",
              "            allowfullscreen\n",
              "        ></iframe>\n",
              "        "
            ],
            "text/plain": [
              "<IPython.lib.display.IFrame at 0x7efc60966850>"
            ]
          },
          "metadata": {
            "tags": []
          },
          "execution_count": 1
        }
      ]
    },
    {
      "cell_type": "code",
      "metadata": {
        "cellView": "form",
        "execution": {
          "iopub.execute_input": "2021-07-03T17:54:16.087459Z",
          "iopub.status.busy": "2021-07-03T17:54:16.086818Z",
          "iopub.status.idle": "2021-07-03T17:54:16.200795Z",
          "shell.execute_reply": "2021-07-03T17:54:16.198330Z"
        },
        "id": "4sIXirvzdYY9",
        "outputId": "3f8399f9-4469-4956-80df-aede800d751d",
        "colab": {
          "base_uri": "https://localhost:8080/",
          "height": 580,
          "referenced_widgets": [
            "38261326886d4e87a4b02b6407c3ec70",
            "1635b2b9c35141228376a4cfd519e109",
            "74fc1cc79ecd4979904ac70906eec9cd",
            "8e29945f460a4e9fa5a3f9de54d3dd27",
            "c4714cb03243405b99fadb0f09a60473",
            "fc38de74092c49859e97e551872bbda9"
          ]
        }
      },
      "source": [
        "# @title Video 1: \"What\" Models\n",
        "from ipywidgets import widgets\n",
        "\n",
        "out2 = widgets.Output()\n",
        "with out2:\n",
        "  from IPython.display import IFrame\n",
        "  class BiliVideo(IFrame):\n",
        "      def __init__(self, id, page=1, width=400, height=300, **kwargs):\n",
        "          self.id=id\n",
        "          src = 'https://player.bilibili.com/player.html?bvid={0}&page={1}'.format(id, page)\n",
        "          super(BiliVideo, self).__init__(src, width, height, **kwargs)\n",
        "\n",
        "  video = BiliVideo(id=\"BV1mz4y1X7ot\", width=854, height=480, fs=1)\n",
        "  print('Video available at https://www.bilibili.com/video/{0}'.format(video.id))\n",
        "  display(video)\n",
        "\n",
        "out1 = widgets.Output()\n",
        "with out1:\n",
        "  from IPython.display import YouTubeVideo\n",
        "  video = YouTubeVideo(id=\"KgqR_jbjMQg\", width=854, height=480, fs=1, rel=0)\n",
        "  print('Video available at https://youtube.com/watch?v=' + video.id)\n",
        "  display(video)\n",
        "\n",
        "out = widgets.Tab([out1, out2])\n",
        "out.set_title(0, 'Youtube')\n",
        "out.set_title(1, 'Bilibili')\n",
        "\n",
        "display(out)"
      ],
      "execution_count": 2,
      "outputs": [
        {
          "output_type": "display_data",
          "data": {
            "application/vnd.jupyter.widget-view+json": {
              "model_id": "38261326886d4e87a4b02b6407c3ec70",
              "version_minor": 0,
              "version_major": 2
            },
            "text/plain": [
              "Tab(children=(Output(), Output()), _titles={'0': 'Youtube', '1': 'Bilibili'})"
            ]
          },
          "metadata": {
            "tags": []
          }
        }
      ]
    },
    {
      "cell_type": "markdown",
      "metadata": {
        "id": "jk0SNkoQdYZD"
      },
      "source": [
        "# Setup\n",
        "\n"
      ]
    },
    {
      "cell_type": "markdown",
      "metadata": {
        "id": "xz-5P_n8dYZE"
      },
      "source": [
        "Python requires you to explictly \"import\" libraries before their functions are available to use. We will always specify our imports at the beginning of each notebook or script."
      ]
    },
    {
      "cell_type": "code",
      "metadata": {
        "execution": {
          "iopub.execute_input": "2021-07-03T17:54:16.207642Z",
          "iopub.status.busy": "2021-07-03T17:54:16.207031Z",
          "iopub.status.idle": "2021-07-03T17:54:18.019171Z",
          "shell.execute_reply": "2021-07-03T17:54:18.018238Z"
        },
        "pycharm": {
          "name": "#%%\n"
        },
        "id": "_lnU7kjIdYZF"
      },
      "source": [
        "import numpy as np\n",
        "import matplotlib.pyplot as plt"
      ],
      "execution_count": 3,
      "outputs": []
    },
    {
      "cell_type": "markdown",
      "metadata": {
        "id": "CZhF70oydYZF"
      },
      "source": [
        "Tutorial notebooks typically begin with several set-up steps that are hidden from view by default.\n",
        "\n",
        "**Important:** Even though the code is hidden, you still need to run it so that the rest of the notebook can work properly. Step through each cell, either by pressing the play button in the upper-left-hand corner or with a keyboard shortcut (`Cmd-Return` on a Mac, `Ctrl-Enter` otherwise). A number will appear inside the brackets (e.g. `[3]`) to tell you that the cell was executed and what order that happened in.\n",
        "\n",
        "If you are curious to see what is going on inside each cell, you can double click to expand. Once expanded, double-click the white space to the right of the editor to collapse again."
      ]
    },
    {
      "cell_type": "code",
      "metadata": {
        "execution": {
          "iopub.execute_input": "2021-07-03T17:54:18.035304Z",
          "iopub.status.busy": "2021-07-03T17:54:18.031341Z",
          "iopub.status.idle": "2021-07-03T17:54:18.199819Z",
          "shell.execute_reply": "2021-07-03T17:54:18.200358Z"
        },
        "pycharm": {
          "name": "#%%\n"
        },
        "cellView": "form",
        "id": "pinXELJGdYZG"
      },
      "source": [
        "# @title Figure Settings\n",
        "import ipywidgets as widgets #interactive display\n",
        "\n",
        "%matplotlib inline\n",
        "%config InlineBackend.figure_format = 'retina'\n",
        "plt.style.use(\"https://raw.githubusercontent.com/NeuromatchAcademy/course-content/master/nma.mplstyle\")"
      ],
      "execution_count": 4,
      "outputs": []
    },
    {
      "cell_type": "code",
      "metadata": {
        "cellView": "form",
        "execution": {
          "iopub.execute_input": "2021-07-03T17:54:18.206360Z",
          "iopub.status.busy": "2021-07-03T17:54:18.202786Z",
          "iopub.status.idle": "2021-07-03T17:54:18.209079Z",
          "shell.execute_reply": "2021-07-03T17:54:18.209943Z"
        },
        "id": "0koCl9ktdYZG"
      },
      "source": [
        "# @title Plotting functions\n",
        "\n",
        "def plot_isis(single_neuron_isis):\n",
        "  plt.hist(single_neuron_isis, bins=50, histtype=\"stepfilled\")\n",
        "  plt.axvline(single_neuron_isis.mean(), color=\"orange\", label=\"Mean ISI\")\n",
        "  plt.xlabel(\"ISI duration (s)\")\n",
        "  plt.ylabel(\"Number of spikes\")\n",
        "  plt.legend()"
      ],
      "execution_count": 5,
      "outputs": []
    },
    {
      "cell_type": "code",
      "metadata": {
        "execution": {
          "iopub.execute_input": "2021-07-03T17:54:18.216099Z",
          "iopub.status.busy": "2021-07-03T17:54:18.215112Z",
          "iopub.status.idle": "2021-07-03T17:54:20.671000Z",
          "shell.execute_reply": "2021-07-03T17:54:20.671442Z"
        },
        "pycharm": {
          "name": "#%%\n"
        },
        "cellView": "form",
        "id": "8I034lIpdYZG"
      },
      "source": [
        "#@title Data retrieval\n",
        "#@markdown This cell downloads the example dataset that we will use in this tutorial.\n",
        "import io\n",
        "import requests\n",
        "r = requests.get('https://osf.io/sy5xt/download')\n",
        "if r.status_code != 200:\n",
        "  print('Failed to download data')\n",
        "else:\n",
        "  spike_times = np.load(io.BytesIO(r.content), allow_pickle=True)['spike_times']"
      ],
      "execution_count": 6,
      "outputs": []
    },
    {
      "cell_type": "markdown",
      "metadata": {
        "id": "FHOK-CbUdYZH"
      },
      "source": [
        "---\n",
        "\n",
        "# Section 1: Exploring the Steinmetz dataset\n",
        "\n",
        "In this tutorial we will explore the structure of a neuroscience dataset.\n",
        "\n",
        "We consider a subset of data from a study of [Steinmetz _et al._ (2019)](https://www.nature.com/articles/s41586-019-1787-x). In this study, Neuropixels probes were implanted in the brains of mice. Electrical potentials were measured by hundreds of electrodes along the length of each probe. Each electrode's measurements captured local variations in the electric field due to nearby spiking neurons. A spike sorting algorithm was used to infer spike times and cluster spikes according to common origin: a single cluster of sorted spikes is causally attributed to a single neuron.\n",
        "\n",
        "In particular, a single recording session of spike times and neuron assignments was loaded and assigned to `spike_times` in the preceding setup.\n",
        "\n",
        "Typically a dataset comes with some information about its structure. However, this information may be incomplete. You might also apply some transformations or \"pre-processing\" to create a working representation of the data of interest, which might go partly undocumented depending on the circumstances. In any case it is important to be able to use the available tools to investigate unfamiliar aspects of a data structure.\n",
        "\n",
        "Let's see what our data looks like..."
      ]
    },
    {
      "cell_type": "markdown",
      "metadata": {
        "id": "pTfWAcIvdYZH"
      },
      "source": [
        "## Section 1.1: Warming up with `spike_times`"
      ]
    },
    {
      "cell_type": "markdown",
      "metadata": {
        "id": "IRQQ9kasdYZH"
      },
      "source": [
        "What is the Python type of our variable?"
      ]
    },
    {
      "cell_type": "code",
      "metadata": {
        "execution": {
          "iopub.execute_input": "2021-07-03T17:54:20.676871Z",
          "iopub.status.busy": "2021-07-03T17:54:20.676106Z",
          "iopub.status.idle": "2021-07-03T17:54:20.682191Z",
          "shell.execute_reply": "2021-07-03T17:54:20.681644Z"
        },
        "pycharm": {
          "name": "#%%\n"
        },
        "id": "GtGshHE0dYZI",
        "outputId": "a4f311ae-3701-40e0-d5e3-5e8e4fb4e46e",
        "colab": {
          "base_uri": "https://localhost:8080/"
        }
      },
      "source": [
        "type(spike_times)"
      ],
      "execution_count": 7,
      "outputs": [
        {
          "output_type": "execute_result",
          "data": {
            "text/plain": [
              "numpy.ndarray"
            ]
          },
          "metadata": {
            "tags": []
          },
          "execution_count": 7
        }
      ]
    },
    {
      "cell_type": "markdown",
      "metadata": {
        "id": "dlZSdoWBdYZI"
      },
      "source": [
        "You should see `numpy.ndarray`, which means that it's a normal NumPy array.\n",
        "\n",
        "If you see an error message, it probably means that you did not execute the set-up cells at the top of the notebook. So go ahead and make sure to do that.\n",
        "\n",
        "Once everything is running properly, we can ask the next question about the dataset: what's its shape?"
      ]
    },
    {
      "cell_type": "code",
      "metadata": {
        "execution": {
          "iopub.execute_input": "2021-07-03T17:54:20.686733Z",
          "iopub.status.busy": "2021-07-03T17:54:20.686101Z",
          "iopub.status.idle": "2021-07-03T17:54:20.691916Z",
          "shell.execute_reply": "2021-07-03T17:54:20.692367Z"
        },
        "pycharm": {
          "name": "#%%\n"
        },
        "id": "UJ-qpERPdYZI",
        "outputId": "b89ae3e9-d9e4-4d16-88be-90ae9c79c22b",
        "colab": {
          "base_uri": "https://localhost:8080/"
        }
      },
      "source": [
        "spike_times.shape"
      ],
      "execution_count": 8,
      "outputs": [
        {
          "output_type": "execute_result",
          "data": {
            "text/plain": [
              "(734,)"
            ]
          },
          "metadata": {
            "tags": []
          },
          "execution_count": 8
        }
      ]
    },
    {
      "cell_type": "markdown",
      "metadata": {
        "id": "WgLI5OFadYZI"
      },
      "source": [
        "There are 734 entries in one dimension, and no other dimensions. What is the Python type of the first entry, and what is *its* shape?"
      ]
    },
    {
      "cell_type": "code",
      "metadata": {
        "execution": {
          "iopub.execute_input": "2021-07-03T17:54:20.697800Z",
          "iopub.status.busy": "2021-07-03T17:54:20.697199Z",
          "iopub.status.idle": "2021-07-03T17:54:20.701384Z",
          "shell.execute_reply": "2021-07-03T17:54:20.700890Z"
        },
        "pycharm": {
          "name": "#%%\n"
        },
        "id": "5tLXpFXWdYZI",
        "outputId": "d2e87e44-b85a-424a-a885-c59cdc78e604",
        "colab": {
          "base_uri": "https://localhost:8080/"
        }
      },
      "source": [
        "idx = 0\n",
        "print(\n",
        "  type(spike_times[idx]),\n",
        "  spike_times[idx].shape,\n",
        "  sep=\"\\n\",\n",
        ")"
      ],
      "execution_count": 9,
      "outputs": [
        {
          "output_type": "stream",
          "text": [
            "<class 'numpy.ndarray'>\n",
            "(826,)\n"
          ],
          "name": "stdout"
        }
      ]
    },
    {
      "cell_type": "markdown",
      "metadata": {
        "id": "6vZS8SvgdYZI"
      },
      "source": [
        "It's also a NumPy array with a 1D shape! Why didn't this show up as a second dimension in the shape of `spike_times`? That is, why not `spike_times.shape == (734, 826)`?\n",
        "\n",
        "To investigate, let's check another entry."
      ]
    },
    {
      "cell_type": "code",
      "metadata": {
        "execution": {
          "iopub.execute_input": "2021-07-03T17:54:20.710021Z",
          "iopub.status.busy": "2021-07-03T17:54:20.707287Z",
          "iopub.status.idle": "2021-07-03T17:54:20.712941Z",
          "shell.execute_reply": "2021-07-03T17:54:20.712371Z"
        },
        "pycharm": {
          "name": "#%%\n"
        },
        "id": "YZ4rRetrdYZJ",
        "outputId": "ac64b2ae-7229-41bb-f373-7e2e5f2e51d9",
        "colab": {
          "base_uri": "https://localhost:8080/"
        }
      },
      "source": [
        "idx = 321\n",
        "print(\n",
        "  type(spike_times[idx]),\n",
        "  spike_times[idx].shape,\n",
        "  sep=\"\\n\",\n",
        ")"
      ],
      "execution_count": 10,
      "outputs": [
        {
          "output_type": "stream",
          "text": [
            "<class 'numpy.ndarray'>\n",
            "(9723,)\n"
          ],
          "name": "stdout"
        }
      ]
    },
    {
      "cell_type": "markdown",
      "metadata": {
        "id": "MY4uset_dYZJ"
      },
      "source": [
        "It's also a 1D NumPy array, but it has a different shape. Checking the NumPy types of the values in these arrays, and their first few elements, we see they are composed of floating point numbers (not another level of `np.ndarray`):"
      ]
    },
    {
      "cell_type": "code",
      "metadata": {
        "execution": {
          "iopub.execute_input": "2021-07-03T17:54:20.722331Z",
          "iopub.status.busy": "2021-07-03T17:54:20.720941Z",
          "iopub.status.idle": "2021-07-03T17:54:20.724840Z",
          "shell.execute_reply": "2021-07-03T17:54:20.724270Z"
        },
        "pycharm": {
          "name": "#%%\n"
        },
        "id": "GksETTl-dYZJ",
        "outputId": "50599a9f-7262-4138-cb29-93e93d548958",
        "colab": {
          "base_uri": "https://localhost:8080/"
        }
      },
      "source": [
        "i_neurons = [0, 321]\n",
        "i_print = slice(0, 5)\n",
        "\n",
        "for i in i_neurons:\n",
        "  print(\n",
        "    \"Neuron {}:\".format(i),\n",
        "    spike_times[i].dtype,\n",
        "    spike_times[i][i_print],\n",
        "    \"\\n\",\n",
        "    sep=\"\\n\"\n",
        "  )"
      ],
      "execution_count": 11,
      "outputs": [
        {
          "output_type": "stream",
          "text": [
            "Neuron 0:\n",
            "float32\n",
            "[ 0.8149   14.822467 24.9646   25.1436   38.8709  ]\n",
            "\n",
            "\n",
            "Neuron 321:\n",
            "float32\n",
            "[1.0698667 1.1536334 1.2403667 1.7072    1.799    ]\n",
            "\n",
            "\n"
          ],
          "name": "stdout"
        }
      ]
    },
    {
      "cell_type": "markdown",
      "metadata": {
        "id": "zwPXa38ddYZJ"
      },
      "source": [
        "Note that this time we've checked the NumPy `dtype` rather than the Python variable type. These two arrays contain floating point numbers (\"floats\") with 32 bits of precision.\n",
        "\n",
        "The basic picture is coming together:\n",
        "- `spike_times` is 1D, its entries are NumPy arrays, and its length is the number of neurons (734): by indexing it, we select a subset of neurons.\n",
        "- An array in `spike_times` is also 1D and corresponds to a single neuron; its entries are floating point numbers, and its length is the number of spikes attributed to that neuron. By indexing it, we select a subset of spike times for that neuron.\n",
        "\n",
        "Visually, you can think of the data structure as looking something like this:\n",
        "\n",
        "```\n",
        "| . . . . . |\n",
        "| . . . . . . . . |\n",
        "| . . . |\n",
        "| . . . . . . . |\n",
        "```\n",
        "\n",
        "Before moving on, we'll calculate and store the number of neurons in the dataset and the number of spikes per neuron:"
      ]
    },
    {
      "cell_type": "code",
      "metadata": {
        "execution": {
          "iopub.execute_input": "2021-07-03T17:54:20.731464Z",
          "iopub.status.busy": "2021-07-03T17:54:20.730149Z",
          "iopub.status.idle": "2021-07-03T17:54:20.733629Z",
          "shell.execute_reply": "2021-07-03T17:54:20.733072Z"
        },
        "pycharm": {
          "name": "#%%\n"
        },
        "id": "ypBl95WldYZK",
        "outputId": "f8205d27-fdd1-42c7-b4da-65b868a362c7",
        "colab": {
          "base_uri": "https://localhost:8080/"
        }
      },
      "source": [
        "n_neurons = len(spike_times)\n",
        "total_spikes_per_neuron = [len(spike_times_i) for spike_times_i in spike_times]\n",
        "\n",
        "print(f\"Number of neurons: {n_neurons}\")\n",
        "print(f\"Number of spikes for first five neurons: {total_spikes_per_neuron[:5]}\")"
      ],
      "execution_count": 13,
      "outputs": [
        {
          "output_type": "stream",
          "text": [
            "Number of neurons: 734\n",
            "Number of spikes for first five neurons: [826, 2818, 3953, 646, 1115]\n"
          ],
          "name": "stdout"
        }
      ]
    },
    {
      "cell_type": "code",
      "metadata": {
        "cellView": "form",
        "execution": {
          "iopub.execute_input": "2021-07-03T17:54:20.748484Z",
          "iopub.status.busy": "2021-07-03T17:54:20.746673Z",
          "iopub.status.idle": "2021-07-03T17:54:20.806460Z",
          "shell.execute_reply": "2021-07-03T17:54:20.803939Z"
        },
        "id": "XErPHBpTdYZK",
        "outputId": "ffccbcdb-b827-4667-ea38-93126caffd69",
        "colab": {
          "base_uri": "https://localhost:8080/",
          "height": 580,
          "referenced_widgets": [
            "347b4965e0a54e6ebbb13486e3791537",
            "0ee3a96892ae4f73b4bc3ceec80e2961",
            "eb640ea99c4145a49ab338021b723294",
            "0d2717c471e040f7bbc1b7d1d1e04e66",
            "df417e381c204cc9a71059590cafdd86",
            "1519342aeb67483a8f5a208fe2d10793"
          ]
        }
      },
      "source": [
        "# @title Video 2: Exploring the dataset\n",
        "from ipywidgets import widgets\n",
        "\n",
        "out2 = widgets.Output()\n",
        "with out2:\n",
        "  from IPython.display import IFrame\n",
        "  class BiliVideo(IFrame):\n",
        "      def __init__(self, id, page=1, width=400, height=300, **kwargs):\n",
        "          self.id=id\n",
        "          src = 'https://player.bilibili.com/player.html?bvid={0}&page={1}'.format(id, page)\n",
        "          super(BiliVideo, self).__init__(src, width, height, **kwargs)\n",
        "\n",
        "  video = BiliVideo(id=\"BV1Hp4y1S7Au\", width=854, height=480, fs=1)\n",
        "  print('Video available at https://www.bilibili.com/video/{0}'.format(video.id))\n",
        "  display(video)\n",
        "\n",
        "out1 = widgets.Output()\n",
        "with out1:\n",
        "  from IPython.display import YouTubeVideo\n",
        "  video = YouTubeVideo(id=\"oHwYWUI_o1U\", width=854, height=480, fs=1, rel=0)\n",
        "  print('Video available at https://youtube.com/watch?v=' + video.id)\n",
        "  display(video)\n",
        "\n",
        "out = widgets.Tab([out1, out2])\n",
        "out.set_title(0, 'Youtube')\n",
        "out.set_title(1, 'Bilibili')\n",
        "\n",
        "display(out)"
      ],
      "execution_count": 12,
      "outputs": [
        {
          "output_type": "display_data",
          "data": {
            "application/vnd.jupyter.widget-view+json": {
              "model_id": "347b4965e0a54e6ebbb13486e3791537",
              "version_minor": 0,
              "version_major": 2
            },
            "text/plain": [
              "Tab(children=(Output(), Output()), _titles={'0': 'Youtube', '1': 'Bilibili'})"
            ]
          },
          "metadata": {
            "tags": []
          }
        }
      ]
    },
    {
      "cell_type": "markdown",
      "metadata": {
        "id": "EaaROXDgdYZK"
      },
      "source": [
        "## Section 1.2: Getting warmer: counting and plotting total spike counts\n",
        "\n",
        "As we've seen, the number of spikes over the entire recording is variable between neurons. More generally, some neurons tend to spike more than others in a given period. Lets explore what the distribution of spiking looks like across all the neurons in the dataset."
      ]
    },
    {
      "cell_type": "markdown",
      "metadata": {
        "id": "N515kdogdYZK"
      },
      "source": [
        "Are most neurons \"loud\" or \"quiet\", compared to the average? To see, we'll define bins of constant width in terms of total spikes and count the neurons that fall in each bin. This is known as a \"histogram\".\n",
        "\n",
        "You can plot a histogram with the matplotlib function `plt.hist`. If you just need to compute it, you can use the numpy function `np.histogram` instead."
      ]
    },
    {
      "cell_type": "code",
      "metadata": {
        "execution": {
          "iopub.execute_input": "2021-07-03T17:54:20.831106Z",
          "iopub.status.busy": "2021-07-03T17:54:20.830471Z",
          "iopub.status.idle": "2021-07-03T17:54:21.104468Z",
          "shell.execute_reply": "2021-07-03T17:54:21.103509Z"
        },
        "pycharm": {
          "name": "#%%\n"
        },
        "id": "mwbv7NUndYZK",
        "outputId": "e6c5e31f-3889-4f19-a532-d4eef9edbebc",
        "colab": {
          "base_uri": "https://localhost:8080/",
          "height": 431
        }
      },
      "source": [
        "plt.hist(total_spikes_per_neuron, bins=50, histtype=\"stepfilled\")\n",
        "plt.xlabel(\"Total spikes per neuron\")\n",
        "plt.ylabel(\"Number of neurons\");"
      ],
      "execution_count": 14,
      "outputs": [
        {
          "output_type": "display_data",
          "data": {
            "image/png": "[encoded data removed]",
            "text/plain": [
              "<Figure size 576x432 with 1 Axes>"
            ]
          },
          "metadata": {
            "tags": [],
            "image/png": {
              "width": 558,
              "height": 414
            },
            "needs_background": "light"
          }
        }
      ]
    },
    {
      "cell_type": "markdown",
      "metadata": {
        "id": "TnTLCR6EdYZK"
      },
      "source": [
        "Let's see what percentage of neurons have a below-average spike count:"
      ]
    },
    {
      "cell_type": "code",
      "metadata": {
        "execution": {
          "iopub.execute_input": "2021-07-03T17:54:21.109765Z",
          "iopub.status.busy": "2021-07-03T17:54:21.109111Z",
          "iopub.status.idle": "2021-07-03T17:54:21.113872Z",
          "shell.execute_reply": "2021-07-03T17:54:21.113384Z"
        },
        "pycharm": {
          "name": "#%%\n"
        },
        "id": "E4axfYlZdYZK",
        "outputId": "46c57dbc-a5e9-40cd-9868-ef0e58a1d433",
        "colab": {
          "base_uri": "https://localhost:8080/"
        }
      },
      "source": [
        "mean_spike_count = np.mean(total_spikes_per_neuron)\n",
        "frac_below_mean = (total_spikes_per_neuron < mean_spike_count).mean()\n",
        "print(f\"{frac_below_mean:2.1%} of neurons are below the mean\")"
      ],
      "execution_count": 15,
      "outputs": [
        {
          "output_type": "stream",
          "text": [
            "68.0% of neurons are below the mean\n"
          ],
          "name": "stdout"
        }
      ]
    },
    {
      "cell_type": "markdown",
      "metadata": {
        "id": "uaUusdo6dYZL"
      },
      "source": [
        "We can also see this by adding the average spike count to the histogram plot:"
      ]
    },
    {
      "cell_type": "code",
      "metadata": {
        "execution": {
          "iopub.execute_input": "2021-07-03T17:54:21.143165Z",
          "iopub.status.busy": "2021-07-03T17:54:21.142193Z",
          "iopub.status.idle": "2021-07-03T17:54:21.408641Z",
          "shell.execute_reply": "2021-07-03T17:54:21.408096Z"
        },
        "pycharm": {
          "name": "#%%\n"
        },
        "id": "lYUQZuVrdYZL",
        "outputId": "e3cf3ddf-4f02-48de-f574-52f78b67e90c",
        "colab": {
          "base_uri": "https://localhost:8080/",
          "height": 431
        }
      },
      "source": [
        "plt.hist(total_spikes_per_neuron, bins=50, histtype=\"stepfilled\")\n",
        "plt.xlabel(\"Total spikes per neuron\")\n",
        "plt.ylabel(\"Number of neurons\")\n",
        "plt.axvline(mean_spike_count, color=\"orange\", label=\"Mean neuron\")\n",
        "plt.legend();"
      ],
      "execution_count": 16,
      "outputs": [
        {
          "output_type": "display_data",
          "data": {
            "image/png": "[encoded data removed]",
            "text/plain": [
              "<Figure size 576x432 with 1 Axes>"
            ]
          },
          "metadata": {
            "tags": [],
            "image/png": {
              "width": 558,
              "height": 414
            },
            "needs_background": "light"
          }
        }
      ]
    },
    {
      "cell_type": "markdown",
      "metadata": {
        "id": "tZ_-7kJadYZL"
      },
      "source": [
        "This shows that the majority of neurons are relatively \"quiet\" compared to the mean, while a small number of neurons are exceptionally \"loud\": they must have spiked more often to reach a large count.\n",
        "\n",
        "### Coding Exercise 1.2: Comparing mean and median neurons\n",
        "\n",
        "If the mean neuron is more active than 68% of the population, what does that imply about the relationship between the mean neuron and the median neuron?\n",
        "\n",
        "*Exercise objective:* Reproduce the plot above, but add the median neuron.\n"
      ]
    },
    {
      "cell_type": "code",
      "metadata": {
        "execution": {
          "iopub.execute_input": "2021-07-03T17:54:21.417212Z",
          "iopub.status.busy": "2021-07-03T17:54:21.416528Z",
          "iopub.status.idle": "2021-07-03T17:54:21.534528Z",
          "shell.execute_reply": "2021-07-03T17:54:21.532642Z"
        },
        "pycharm": {
          "name": "#%%\n"
        },
        "id": "D_cuBgFpdYZL",
        "outputId": "94cfb147-b779-43bc-df9f-ff3a777fab2e",
        "colab": {
          "base_uri": "https://localhost:8080/",
          "height": 448
        }
      },
      "source": [
        "#################################################################################\n",
        "## TODO for students:\n",
        "# Fill out function and remove\n",
        "# raise NotImplementedError(\"Student exercise: complete histogram plotting with median\")\n",
        "#################################################################################\n",
        "\n",
        "# Compute median spike count\n",
        "median_spike_count = np.median(total_spikes_per_neuron)  # Hint: Try the function np.median\n",
        "\n",
        "# Visualize median, mean, and histogram\n",
        "plt.hist(total_spikes_per_neuron, bins=50, histtype=\"stepfilled\")\n",
        "plt.axvline(median_spike_count, color=\"limegreen\", label=\"Median neuron\")\n",
        "plt.axvline(mean_spike_count, color=\"orange\", label=\"Mean neuron\")\n",
        "plt.xlabel(\"Total spikes per neuron\")\n",
        "plt.ylabel(\"Number of neurons\")\n",
        "plt.legend()"
      ],
      "execution_count": 18,
      "outputs": [
        {
          "output_type": "execute_result",
          "data": {
            "text/plain": [
              "<matplotlib.legend.Legend at 0x7efc51e4e590>"
            ]
          },
          "metadata": {
            "tags": []
          },
          "execution_count": 18
        },
        {
          "output_type": "display_data",
          "data": {
            "image/png": "[encoded data removed]",
            "text/plain": [
              "<Figure size 576x432 with 1 Axes>"
            ]
          },
          "metadata": {
            "tags": [],
            "image/png": {
              "width": 558,
              "height": 414
            },
            "needs_background": "light"
          }
        }
      ]
    },
    {
      "cell_type": "markdown",
      "metadata": {
        "execution": {
          "iopub.execute_input": "2021-07-03T17:54:21.567423Z",
          "iopub.status.busy": "2021-07-03T17:54:21.566322Z",
          "iopub.status.idle": "2021-07-03T17:54:21.931828Z",
          "shell.execute_reply": "2021-07-03T17:54:21.932371Z"
        },
        "pycharm": {
          "name": "#%%\n"
        },
        "id": "IhueMOvudYZL"
      },
      "source": [
        "[*Click for solution*](https://github.com/NeuromatchAcademy/course-content/tree/master//tutorials/W1D1_ModelTypes/solutions/W1D1_Tutorial1_Solution_9af91fe0.py)\n",
        "\n",
        "*Example output:*\n",
        "\n",
        "<img alt='Solution hint' align='left' width=1116.0 height=827.0 src=https://raw.githubusercontent.com/NeuromatchAcademy/course-content/master/tutorials/W1D1_ModelTypes/static/W1D1_Tutorial1_Solution_9af91fe0_0.png>\n",
        "\n"
      ]
    },
    {
      "cell_type": "markdown",
      "metadata": {
        "id": "5eGZYnb6dYZL"
      },
      "source": [
        "\n",
        "*Bonus:* The median is the 50th percentile. What about other percentiles? Can you show the interquartile range on the histogram?"
      ]
    },
    {
      "cell_type": "markdown",
      "metadata": {
        "id": "dSg44k9ldYZM"
      },
      "source": [
        "---\n",
        "\n",
        "# Section 2: Visualizing neuronal spiking activity\n",
        "\n",
        "*Estimated timing to here from start of tutorial: 15 min*"
      ]
    },
    {
      "cell_type": "markdown",
      "metadata": {
        "id": "2EzXD6RVdYZM"
      },
      "source": [
        "## Section 2.1: Getting a subset of the data\n",
        "\n",
        "Now we'll visualize trains of spikes. Because the recordings are long, we will first define a short time interval and restrict the visualization to only the spikes in this interval. We defined a helper function, `restrict_spike_times`, to do this for you. If you call `help()` on the function, it will tell you a little bit about itself:"
      ]
    },
    {
      "cell_type": "code",
      "metadata": {
        "execution": {
          "iopub.execute_input": "2021-07-03T17:54:21.939391Z",
          "iopub.status.busy": "2021-07-03T17:54:21.938026Z",
          "iopub.status.idle": "2021-07-03T17:54:21.940041Z",
          "shell.execute_reply": "2021-07-03T17:54:21.940561Z"
        },
        "cellView": "form",
        "id": "27soYPfQdYZM"
      },
      "source": [
        "# @markdown Execute this cell for helper function `restrict_spike_times`\n",
        "def restrict_spike_times(spike_times, interval):\n",
        "  \"\"\"Given a spike_time dataset, restrict to spikes within given interval.\n",
        "\n",
        "  Args:\n",
        "    spike_times (sequence of np.ndarray): List or array of arrays,\n",
        "      each inner array has spike times for a single neuron.\n",
        "    interval (tuple): Min, max time values; keep min <= t < max.\n",
        "\n",
        "  Returns:\n",
        "    np.ndarray: like `spike_times`, but only within `interval`\n",
        "  \"\"\"\n",
        "  interval_spike_times = []\n",
        "  for spikes in spike_times:\n",
        "    interval_mask = (spikes >= interval[0]) & (spikes < interval[1])\n",
        "    interval_spike_times.append(spikes[interval_mask])\n",
        "  return np.array(interval_spike_times, object)"
      ],
      "execution_count": 19,
      "outputs": []
    },
    {
      "cell_type": "code",
      "metadata": {
        "execution": {
          "iopub.execute_input": "2021-07-03T17:54:21.946273Z",
          "iopub.status.busy": "2021-07-03T17:54:21.944852Z",
          "iopub.status.idle": "2021-07-03T17:54:21.948195Z",
          "shell.execute_reply": "2021-07-03T17:54:21.947642Z"
        },
        "pycharm": {
          "name": "#%%\n"
        },
        "id": "qwxbqFZDdYZM",
        "outputId": "f1fd07a3-b56d-4a7a-a9d6-72aa602f710c",
        "colab": {
          "base_uri": "https://localhost:8080/"
        }
      },
      "source": [
        "help(restrict_spike_times)"
      ],
      "execution_count": 20,
      "outputs": [
        {
          "output_type": "stream",
          "text": [
            "Help on function restrict_spike_times in module __main__:\n",
            "\n",
            "restrict_spike_times(spike_times, interval)\n",
            "    Given a spike_time dataset, restrict to spikes within given interval.\n",
            "    \n",
            "    Args:\n",
            "      spike_times (sequence of np.ndarray): List or array of arrays,\n",
            "        each inner array has spike times for a single neuron.\n",
            "      interval (tuple): Min, max time values; keep min <= t < max.\n",
            "    \n",
            "    Returns:\n",
            "      np.ndarray: like `spike_times`, but only within `interval`\n",
            "\n"
          ],
          "name": "stdout"
        }
      ]
    },
    {
      "cell_type": "code",
      "metadata": {
        "execution": {
          "iopub.execute_input": "2021-07-03T17:54:21.952491Z",
          "iopub.status.busy": "2021-07-03T17:54:21.951885Z",
          "iopub.status.idle": "2021-07-03T17:54:21.967180Z",
          "shell.execute_reply": "2021-07-03T17:54:21.966623Z"
        },
        "pycharm": {
          "name": "#%%\n"
        },
        "id": "jULLu6kldYZM"
      },
      "source": [
        "t_interval = (5, 15)  # units are seconds after start of recording\n",
        "interval_spike_times = restrict_spike_times(spike_times, t_interval)"
      ],
      "execution_count": 21,
      "outputs": []
    },
    {
      "cell_type": "markdown",
      "metadata": {
        "id": "HoLLQ_ordYZM"
      },
      "source": [
        "Is this a representative interval? What fraction of the total spikes fall in this interval?"
      ]
    },
    {
      "cell_type": "code",
      "metadata": {
        "execution": {
          "iopub.execute_input": "2021-07-03T17:54:21.973917Z",
          "iopub.status.busy": "2021-07-03T17:54:21.972504Z",
          "iopub.status.idle": "2021-07-03T17:54:21.976061Z",
          "shell.execute_reply": "2021-07-03T17:54:21.975519Z"
        },
        "pycharm": {
          "name": "#%%\n"
        },
        "id": "2yCd0gMbdYZM",
        "outputId": "7c0f1696-8b95-4db9-e705-6fc84c47a021",
        "colab": {
          "base_uri": "https://localhost:8080/"
        }
      },
      "source": [
        "original_counts = sum([len(spikes) for spikes in spike_times])\n",
        "interval_counts = sum([len(spikes) for spikes in interval_spike_times])\n",
        "frac_interval_spikes = interval_counts / original_counts\n",
        "print(f\"{frac_interval_spikes:.2%} of the total spikes are in the interval\")"
      ],
      "execution_count": 22,
      "outputs": [
        {
          "output_type": "stream",
          "text": [
            "0.33% of the total spikes are in the interval\n"
          ],
          "name": "stdout"
        }
      ]
    },
    {
      "cell_type": "markdown",
      "metadata": {
        "id": "3gyqA86HdYZN"
      },
      "source": [
        "How does this compare to the ratio between the interval duration and the experiment duration? (What fraction of the total time is in this interval?)\n",
        "\n",
        "We can approximate the experiment duration by taking the minimum and maximum spike time in the whole dataset. To do that, we \"concatenate\" all of the neurons into one array and then use `np.ptp` (\"peak-to-peak\") to get the difference between the maximum and minimum value:"
      ]
    },
    {
      "cell_type": "code",
      "metadata": {
        "execution": {
          "iopub.execute_input": "2021-07-03T17:54:21.980602Z",
          "iopub.status.busy": "2021-07-03T17:54:21.980011Z",
          "iopub.status.idle": "2021-07-03T17:54:21.999935Z",
          "shell.execute_reply": "2021-07-03T17:54:22.000568Z"
        },
        "pycharm": {
          "name": "#%%\n"
        },
        "id": "TdXmsZBLdYZN",
        "outputId": "807799fb-b707-4373-cbe4-0e0792bddf8d",
        "colab": {
          "base_uri": "https://localhost:8080/"
        }
      },
      "source": [
        "spike_times_flat = np.concatenate(spike_times)\n",
        "experiment_duration = np.ptp(spike_times_flat)\n",
        "interval_duration = t_interval[1] - t_interval[0]\n",
        "\n",
        "frac_interval_time = interval_duration / experiment_duration\n",
        "print(f\"{frac_interval_time:.2%} of the total time is in the interval\")"
      ],
      "execution_count": 23,
      "outputs": [
        {
          "output_type": "stream",
          "text": [
            "0.37% of the total time is in the interval\n"
          ],
          "name": "stdout"
        }
      ]
    },
    {
      "cell_type": "markdown",
      "metadata": {
        "id": "MGYZ3blldYZN"
      },
      "source": [
        "These two values—the fraction of total spikes and the fraction of total time—are similar. This suggests the average spike rate of the neuronal population is not very different in this interval compared to the entire recording.\n",
        "\n",
        "## Section 2.2: Plotting spike trains and rasters\n",
        "\n",
        "Now that we have a representative subset, we're ready to plot the spikes, using the matplotlib `plt.eventplot` function. Let's look at a single neuron first:"
      ]
    },
    {
      "cell_type": "code",
      "metadata": {
        "execution": {
          "iopub.execute_input": "2021-07-03T17:54:22.019853Z",
          "iopub.status.busy": "2021-07-03T17:54:22.019192Z",
          "iopub.status.idle": "2021-07-03T17:54:22.196514Z",
          "shell.execute_reply": "2021-07-03T17:54:22.195642Z"
        },
        "pycharm": {
          "name": "#%%\n"
        },
        "id": "DvYMK4w2dYZN",
        "outputId": "7079a4c9-626f-4c99-c2f4-76cb967f3d3b",
        "colab": {
          "base_uri": "https://localhost:8080/",
          "height": 431
        }
      },
      "source": [
        "neuron_idx = 1\n",
        "plt.eventplot(interval_spike_times[neuron_idx], color=\".2\")\n",
        "plt.xlabel(\"Time (s)\")\n",
        "plt.yticks([]);"
      ],
      "execution_count": 24,
      "outputs": [
        {
          "output_type": "display_data",
          "data": {
            "image/png": "[encoded data removed]",
            "text/plain": [
              "<Figure size 576x432 with 1 Axes>"
            ]
          },
          "metadata": {
            "tags": [],
            "image/png": {
              "width": 557,
              "height": 414
            },
            "needs_background": "light"
          }
        }
      ]
    },
    {
      "cell_type": "markdown",
      "metadata": {
        "id": "gJ44dFcKdYZO"
      },
      "source": [
        "We can also plot multiple neurons. Here are three:"
      ]
    },
    {
      "cell_type": "code",
      "metadata": {
        "execution": {
          "iopub.execute_input": "2021-07-03T17:54:22.270761Z",
          "iopub.status.busy": "2021-07-03T17:54:22.270162Z",
          "iopub.status.idle": "2021-07-03T17:54:22.424884Z",
          "shell.execute_reply": "2021-07-03T17:54:22.423869Z"
        },
        "pycharm": {
          "name": "#%%\n"
        },
        "id": "JTob5NtbdYZO",
        "outputId": "25f92f3f-35a1-4dc5-c2e6-0fb5eeee2665",
        "colab": {
          "base_uri": "https://localhost:8080/",
          "height": 430
        }
      },
      "source": [
        "neuron_idx = [1, 11, 51]\n",
        "plt.eventplot(interval_spike_times[neuron_idx], color=\".2\")\n",
        "plt.xlabel(\"Time (s)\")\n",
        "plt.yticks([]);"
      ],
      "execution_count": 25,
      "outputs": [
        {
          "output_type": "display_data",
          "data": {
            "image/png": "[encoded data removed]",
            "text/plain": [
              "<Figure size 576x432 with 1 Axes>"
            ]
          },
          "metadata": {
            "tags": [],
            "image/png": {
              "width": 557,
              "height": 413
            },
            "needs_background": "light"
          }
        }
      ]
    },
    {
      "cell_type": "markdown",
      "metadata": {
        "id": "Z9Y5NuaWdYZO"
      },
      "source": [
        "This makes a \"raster\" plot, where the spikes from each neuron appear in a different row.\n",
        "\n",
        "Plotting a large number of neurons can give you a sense for the characteristics in the population. Let's show every 5th neuron that was recorded:"
      ]
    },
    {
      "cell_type": "code",
      "metadata": {
        "execution": {
          "iopub.execute_input": "2021-07-03T17:54:22.439900Z",
          "iopub.status.busy": "2021-07-03T17:54:22.438828Z",
          "iopub.status.idle": "2021-07-03T17:54:22.879608Z",
          "shell.execute_reply": "2021-07-03T17:54:22.878363Z"
        },
        "pycharm": {
          "name": "#%%\n"
        },
        "id": "5qR7IwqNdYZO",
        "outputId": "fc4e73f2-7c20-45b5-f40f-c0a1ac70c5de",
        "colab": {
          "base_uri": "https://localhost:8080/",
          "height": 430
        }
      },
      "source": [
        "neuron_idx = np.arange(0, len(spike_times), 5)\n",
        "plt.eventplot(interval_spike_times[neuron_idx], color=\".2\")\n",
        "plt.xlabel(\"Time (s)\")\n",
        "plt.yticks([]);"
      ],
      "execution_count": 26,
      "outputs": [
        {
          "output_type": "display_data",
          "data": {
            "image/png": "[encoded data removed]",
            "text/plain": [
              "<Figure size 576x432 with 1 Axes>"
            ]
          },
          "metadata": {
            "tags": [],
            "image/png": {
              "width": 558,
              "height": 413
            },
            "needs_background": "light"
          }
        }
      ]
    },
    {
      "cell_type": "markdown",
      "metadata": {
        "id": "PSNzRiAfdYZO"
      },
      "source": [
        "*Question*: How does the information in this plot relate to the histogram of total spike counts that you saw above?"
      ]
    },
    {
      "cell_type": "markdown",
      "metadata": {
        "execution": {
          "iopub.execute_input": "2021-07-03T17:54:22.884637Z",
          "iopub.status.busy": "2021-07-03T17:54:22.883994Z",
          "iopub.status.idle": "2021-07-03T17:54:22.889216Z",
          "shell.execute_reply": "2021-07-03T17:54:22.890231Z"
        },
        "id": "CzeOO6vxdYZO"
      },
      "source": [
        "[*Click for solution*](https://github.com/NeuromatchAcademy/course-content/tree/master//tutorials/W1D1_ModelTypes/solutions/W1D1_Tutorial1_Solution_b01195c9.py)\n",
        "\n"
      ]
    },
    {
      "cell_type": "code",
      "metadata": {
        "cellView": "form",
        "execution": {
          "iopub.execute_input": "2021-07-03T17:54:22.903300Z",
          "iopub.status.busy": "2021-07-03T17:54:22.902309Z",
          "iopub.status.idle": "2021-07-03T17:54:22.968449Z",
          "shell.execute_reply": "2021-07-03T17:54:22.967927Z"
        },
        "id": "2t3d4oA9dYZP",
        "outputId": "4ad893ac-8423-4f46-fb10-16f11eb2235c",
        "colab": {
          "base_uri": "https://localhost:8080/",
          "height": 580,
          "referenced_widgets": [
            "8f61f6b12e6b418eba6c594a6bc012ee",
            "546018c1eb514434948de4da39065faf",
            "e2df0b84f7c94658a5e54c040e34e1a4",
            "978ace717cc8426fb30c96944a02b887",
            "47be207d118f4040a95afd71bc7d69e9",
            "894132d94e6d44f687f9f1ad4793e1bb"
          ]
        }
      },
      "source": [
        "# @title Video 3: Visualizing activity\n",
        "from ipywidgets import widgets\n",
        "\n",
        "out2 = widgets.Output()\n",
        "with out2:\n",
        "  from IPython.display import IFrame\n",
        "  class BiliVideo(IFrame):\n",
        "      def __init__(self, id, page=1, width=400, height=300, **kwargs):\n",
        "          self.id=id\n",
        "          src = 'https://player.bilibili.com/player.html?bvid={0}&page={1}'.format(id, page)\n",
        "          super(BiliVideo, self).__init__(src, width, height, **kwargs)\n",
        "\n",
        "  video = BiliVideo(id=\"BV1dt4y1Q7C5\", width=854, height=480, fs=1)\n",
        "  print('Video available at https://www.bilibili.com/video/{0}'.format(video.id))\n",
        "  display(video)\n",
        "\n",
        "out1 = widgets.Output()\n",
        "with out1:\n",
        "  from IPython.display import YouTubeVideo\n",
        "  video = YouTubeVideo(id=\"QGA5FCW7kkA\", width=854, height=480, fs=1, rel=0)\n",
        "  print('Video available at https://youtube.com/watch?v=' + video.id)\n",
        "  display(video)\n",
        "\n",
        "out = widgets.Tab([out1, out2])\n",
        "out.set_title(0, 'Youtube')\n",
        "out.set_title(1, 'Bilibili')\n",
        "\n",
        "display(out)"
      ],
      "execution_count": 27,
      "outputs": [
        {
          "output_type": "display_data",
          "data": {
            "application/vnd.jupyter.widget-view+json": {
              "model_id": "8f61f6b12e6b418eba6c594a6bc012ee",
              "version_minor": 0,
              "version_major": 2
            },
            "text/plain": [
              "Tab(children=(Output(), Output()), _titles={'0': 'Youtube', '1': 'Bilibili'})"
            ]
          },
          "metadata": {
            "tags": []
          }
        }
      ]
    },
    {
      "cell_type": "markdown",
      "metadata": {
        "id": "4rlm0dQ1dYZP"
      },
      "source": [
        "---\n",
        "\n",
        "# Section 3: Inter-spike intervals and their distributions\n",
        "\n",
        "*Estimated timing to here from start of tutorial: 25 min*"
      ]
    },
    {
      "cell_type": "markdown",
      "metadata": {
        "id": "xUfn2JmvdYZP"
      },
      "source": [
        "Given the ordered arrays of spike times for each neuron in `spike_times`, which we've just visualized, what can we ask next?\n",
        "\n",
        "Scientific questions are informed by existing models. So, what knowledge do we already have that can inform questions about this data?\n",
        "\n",
        "We know that there are physical constraints on neuron spiking. Spiking costs energy, which the neuron's cellular machinery can only obtain at a finite rate. Therefore neurons should have a refractory period: they can only fire as quickly as their metabolic processes can support, and there is a minimum delay between consecutive spikes of the same neuron.\n",
        "\n",
        "More generally, we can ask \"how long does a neuron wait to spike again?\" or \"what is the longest a neuron will wait?\" Can we transform spike times into something else, to address questions like these more directly?\n",
        "\n",
        "We can consider the inter-spike times (or interspike intervals: ISIs). These are simply the time differences between consecutive spikes of the same neuron.\n",
        "\n",
        "### Exercise 3: Plot the distribution of ISIs for a single neuron\n",
        "\n",
        "*Exercise objective:* make a histogram, like we did for spike counts, to show the distribution of ISIs for one of the neurons in the dataset.\n",
        "\n",
        "Do this in three steps:\n",
        "\n",
        "1. Extract the spike times for one of the neurons\n",
        "2. Compute the ISIs (the amount of time between spikes, or equivalently, the difference between adjacent spike times)\n",
        "3. Plot a histogram with the array of individual ISIs"
      ]
    },
    {
      "cell_type": "code",
      "metadata": {
        "execution": {
          "iopub.execute_input": "2021-07-03T17:54:22.982203Z",
          "iopub.status.busy": "2021-07-03T17:54:22.981593Z",
          "iopub.status.idle": "2021-07-03T17:54:22.989786Z",
          "shell.execute_reply": "2021-07-03T17:54:22.989137Z"
        },
        "pycharm": {
          "name": "#%%\n"
        },
        "id": "AESfVzpKdYZP",
        "outputId": "63a8e33b-8748-43e5-dcb1-f8ca01550912",
        "colab": {
          "base_uri": "https://localhost:8080/",
          "height": 430
        }
      },
      "source": [
        "def compute_single_neuron_isis(spike_times, neuron_idx):\n",
        "  \"\"\"Compute a vector of ISIs for a single neuron given spike times.\n",
        "\n",
        "  Args:\n",
        "    spike_times (list of 1D arrays): Spike time dataset, with the first\n",
        "      dimension corresponding to different neurons.\n",
        "    neuron_idx (int): Index of the unit to compute ISIs for.\n",
        "\n",
        "  Returns:\n",
        "    isis (1D array): Duration of time between each spike from one neuron.\n",
        "  \"\"\"\n",
        "  #############################################################################\n",
        "  # Students: Fill in missing code (...) and comment or remove the next line\n",
        "  # raise NotImplementedError(\"Exercise: compute single neuron ISIs\")\n",
        "  #############################################################################\n",
        "\n",
        "  # Extract the spike times for the specified neuron\n",
        "  single_neuron_spikes = spike_times[neuron_idx]\n",
        "\n",
        "  # Compute the ISIs for this set of spikes\n",
        "  # Hint: the function np.diff computes discrete differences along an array\n",
        "  isis = np.diff(single_neuron_spikes)\n",
        "\n",
        "  return isis\n",
        "\n",
        "# Compute ISIs\n",
        "single_neuron_isis = compute_single_neuron_isis(spike_times, neuron_idx=283)\n",
        "\n",
        "# Visualize ISIs\n",
        "plot_isis(single_neuron_isis)"
      ],
      "execution_count": 32,
      "outputs": [
        {
          "output_type": "display_data",
          "data": {
            "image/png": "[encoded data removed]",
            "text/plain": [
              "<Figure size 576x432 with 1 Axes>"
            ]
          },
          "metadata": {
            "tags": [],
            "image/png": {
              "width": 558,
              "height": 413
            },
            "needs_background": "light"
          }
        }
      ]
    },
    {
      "cell_type": "markdown",
      "metadata": {
        "execution": {
          "iopub.execute_input": "2021-07-03T17:54:22.998186Z",
          "iopub.status.busy": "2021-07-03T17:54:22.997577Z",
          "iopub.status.idle": "2021-07-03T17:54:23.356486Z",
          "shell.execute_reply": "2021-07-03T17:54:23.355980Z"
        },
        "pycharm": {
          "name": "#%%\n"
        },
        "id": "3JYuduD1dYZP"
      },
      "source": [
        "[*Click for solution*](https://github.com/NeuromatchAcademy/course-content/tree/master//tutorials/W1D1_ModelTypes/solutions/W1D1_Tutorial1_Solution_2972c168.py)\n",
        "\n",
        "*Example output:*\n",
        "\n",
        "<img alt='Solution hint' align='left' width=1116.0 height=828.0 src=https://raw.githubusercontent.com/NeuromatchAcademy/course-content/master/tutorials/W1D1_ModelTypes/static/W1D1_Tutorial1_Solution_2972c168_0.png>\n",
        "\n"
      ]
    },
    {
      "cell_type": "markdown",
      "metadata": {
        "id": "dv0HzHFUdYZP"
      },
      "source": [
        "---\n",
        "\n",
        "In general, the shorter ISIs are predominant, with counts decreasing rapidly (and smoothly, more or less) with increasing ISI. However, counts also rapidly decrease to zero with _decreasing_ ISI below the maximum of the distribution (8-11 ms). The absence of these very low ISIs agrees with the refractory period hypothesis: the neuron cannot fire quickly enough to populate this region of the ISI distribution.\n",
        "\n",
        "Check the distributions of some other neurons. To resolve various features of the distributions, you might need to play with the value of `n_bins`. Using too few bins might smooth over interesting details, but if you use too many bins, the random variability will start to dominate.\n",
        "\n",
        "You might also want to restrict the range to see the shape of the distribution when focusing on relatively short or long ISIs. *Hint:* `plt.hist` takes a `range` argument"
      ]
    },
    {
      "cell_type": "markdown",
      "metadata": {
        "id": "sVvKaNWHdYZP"
      },
      "source": [
        "---\n",
        "\n",
        "# Section 4: What is the functional form of an ISI distribution?\n",
        "\n",
        "*Estimated timing to here from start of tutorial: 35 min*"
      ]
    },
    {
      "cell_type": "code",
      "metadata": {
        "cellView": "form",
        "execution": {
          "iopub.execute_input": "2021-07-03T17:54:23.369679Z",
          "iopub.status.busy": "2021-07-03T17:54:23.369060Z",
          "iopub.status.idle": "2021-07-03T17:54:23.429414Z",
          "shell.execute_reply": "2021-07-03T17:54:23.428823Z"
        },
        "id": "UByK2nugdYZP",
        "outputId": "4d268bb4-0e5b-4498-83ca-dcfb8f642227",
        "colab": {
          "base_uri": "https://localhost:8080/",
          "height": 580,
          "referenced_widgets": [
            "947c59984b7d4fc8ba974aa49abf1e8b",
            "1807d665d62d4664b00c006fc0f0dc98",
            "8ab7a48be4744361967350abed4c5b22",
            "5a4319171c22457e9a50c4d799d9dae2",
            "5a435c802c8147dead71b1f6bfd03879",
            "b401ba2ec3ad4c15a7e5760724547366"
          ]
        }
      },
      "source": [
        "# @title Video 4: ISI distribution\n",
        "from ipywidgets import widgets\n",
        "\n",
        "out2 = widgets.Output()\n",
        "with out2:\n",
        "  from IPython.display import IFrame\n",
        "  class BiliVideo(IFrame):\n",
        "      def __init__(self, id, page=1, width=400, height=300, **kwargs):\n",
        "          self.id=id\n",
        "          src = 'https://player.bilibili.com/player.html?bvid={0}&page={1}'.format(id, page)\n",
        "          super(BiliVideo, self).__init__(src, width, height, **kwargs)\n",
        "\n",
        "  video = BiliVideo(id=\"BV1ov411B7Pm\", width=854, height=480, fs=1)\n",
        "  print('Video available at https://www.bilibili.com/video/{0}'.format(video.id))\n",
        "  display(video)\n",
        "\n",
        "out1 = widgets.Output()\n",
        "with out1:\n",
        "  from IPython.display import YouTubeVideo\n",
        "  video = YouTubeVideo(id=\"DHhM80MOTe8\", width=854, height=480, fs=1, rel=0)\n",
        "  print('Video available at https://youtube.com/watch?v=' + video.id)\n",
        "  display(video)\n",
        "\n",
        "out = widgets.Tab([out1, out2])\n",
        "out.set_title(0, 'Youtube')\n",
        "out.set_title(1, 'Bilibili')\n",
        "\n",
        "display(out)"
      ],
      "execution_count": 33,
      "outputs": [
        {
          "output_type": "display_data",
          "data": {
            "application/vnd.jupyter.widget-view+json": {
              "model_id": "947c59984b7d4fc8ba974aa49abf1e8b",
              "version_minor": 0,
              "version_major": 2
            },
            "text/plain": [
              "Tab(children=(Output(), Output()), _titles={'0': 'Youtube', '1': 'Bilibili'})"
            ]
          },
          "metadata": {
            "tags": []
          }
        }
      ]
    },
    {
      "cell_type": "markdown",
      "metadata": {
        "id": "6zzFydxddYZQ"
      },
      "source": [
        "The ISI histograms seem to follow continuous, monotonically decreasing functions above their maxima. The function is clearly non-linear. Could it belong to a single family of functions?\n",
        "\n",
        "To motivate the idea of using a mathematical function to explain physiological phenomena, let's define a few different function forms that we might expect the relationship to follow: exponential, inverse, and linear."
      ]
    },
    {
      "cell_type": "code",
      "metadata": {
        "execution": {
          "iopub.execute_input": "2021-07-03T17:54:23.445271Z",
          "iopub.status.busy": "2021-07-03T17:54:23.443840Z",
          "iopub.status.idle": "2021-07-03T17:54:23.446205Z",
          "shell.execute_reply": "2021-07-03T17:54:23.446819Z"
        },
        "pycharm": {
          "name": "#%%\n"
        },
        "id": "nyQEFNtFdYZQ"
      },
      "source": [
        "def exponential(xs, scale, rate, x0):\n",
        "  \"\"\"A simple parametrized exponential function, applied element-wise.\n",
        "\n",
        "  Args:\n",
        "    xs (np.ndarray or float): Input(s) to the function.\n",
        "    scale (float): Linear scaling factor.\n",
        "    rate (float): Exponential growth (positive) or decay (negative) rate.\n",
        "    x0 (float): Horizontal offset.\n",
        "\n",
        "  \"\"\"\n",
        "  ys = scale * np.exp(rate * (xs - x0))\n",
        "  return ys\n",
        "\n",
        "def inverse(xs, scale, x0):\n",
        "  \"\"\"A simple parametrized inverse function (`1/x`), applied element-wise.\n",
        "\n",
        "  Args:\n",
        "    xs (np.ndarray or float): Input(s) to the function.\n",
        "    scale (float): Linear scaling factor.\n",
        "    x0 (float): Horizontal offset.\n",
        "\n",
        "  \"\"\"\n",
        "  ys = scale / (xs - x0)\n",
        "  return ys\n",
        "\n",
        "def linear(xs, slope, y0):\n",
        "  \"\"\"A simple linear function, applied element-wise.\n",
        "\n",
        "  Args:\n",
        "    xs (np.ndarray or float): Input(s) to the function.\n",
        "    slope (float): Slope of the line.\n",
        "    y0 (float): y-intercept of the line.\n",
        "\n",
        "  \"\"\"\n",
        "  ys = slope * xs + y0\n",
        "  return ys"
      ],
      "execution_count": 34,
      "outputs": []
    },
    {
      "cell_type": "markdown",
      "metadata": {
        "id": "ofAM5o-1dYZQ"
      },
      "source": [
        "### Interactive Demo 4: ISI functions explorer\n",
        "\n",
        "Here is an interactive demo where you can vary the parameters of these functions and see how well the resulting outputs correspond to the data. Adjust the parameters by moving the sliders and see how close you can get the lines to follow the falling curve of the histogram. This will give you a taste of what you're trying to do when you *fit a model* to data.\n",
        "\n",
        "\"Interactive demo\" cells have hidden code that defines an interface where you can play with the parameters of some function using sliders. You don't need to worry about how the code works – but you do need to **run the cell** to enable the sliders.\n",
        "\n",
        "- Which type of function (exponential/inverse/linear) can you make match the data best?\n"
      ]
    },
    {
      "cell_type": "code",
      "metadata": {
        "cellView": "form",
        "execution": {
          "iopub.execute_input": "2021-07-03T17:54:23.458648Z",
          "iopub.status.busy": "2021-07-03T17:54:23.454106Z",
          "iopub.status.idle": "2021-07-03T17:54:23.875898Z",
          "shell.execute_reply": "2021-07-03T17:54:23.876365Z"
        },
        "pycharm": {
          "name": "#%%\n"
        },
        "id": "RKRAxY1ZdYZQ",
        "outputId": "9f14cf0b-33d6-4d9d-89c4-7c6ce7055be9",
        "colab": {
          "base_uri": "https://localhost:8080/",
          "height": 654,
          "referenced_widgets": [
            "4890c292865348b4a679c0fd59a857f3",
            "91a3eb7de9894a7c88d7fa3d860984ee",
            "79f337150e9a4454aaff78e2521b9754",
            "19a31da3f85a4cf0aecfd103e4b2c91f",
            "008a7e647ff04c77b74eed1a7233b2fa",
            "7a25023feaf545ac925657e35e44a622",
            "6a44b70010804158b9b9bdef49441a12",
            "f3c09d0c50be426cb0f8689de052c6b5",
            "b9511fca968e473ab0570a2cc1c48483",
            "f72e95707f0b46c39df30482fbb5e4d8",
            "bde1fa9deec34116adf92f7592fa6225",
            "57bfc34a56a44cf0b69e2d62cb9332d2",
            "53eaaf23ebc84ea3bf7071f7f318f44a",
            "8beeab2315c44fb98eb827a06e35b9d7",
            "9ef0e3b456a7483eb6d2ddd4803b229d",
            "0e7f307f3da64a10ba4b877f30333d34",
            "4064c69aa08b4b28a2c05b509a27c6ec",
            "44a20990199640e09a5d38a2ab112168",
            "cdbfd8fb1fee4c12b6ec721dabc246e6",
            "841beeba706b446384ea416872b180e6",
            "3368ccaa3cea457d883e981809d62c71",
            "a60150d87268439eb9808259f22869d5",
            "d1e67cb7dd77468c855f094fffe0203e",
            "507e9ca4f34643eb8617860147cebe3d",
            "6906eaba31f7442bbb3f74c761a1c913"
          ]
        }
      },
      "source": [
        "#@title\n",
        "\n",
        "#@markdown Be sure to run this cell to enable the demo\n",
        "# Don't worry about understanding this code! It's to setup an interactive plot.\n",
        "single_neuron_idx = 283\n",
        "single_neuron_spikes = spike_times[single_neuron_idx]\n",
        "single_neuron_isis = np.diff(single_neuron_spikes)\n",
        "\n",
        "counts, edges = np.histogram(\n",
        "  single_neuron_isis,\n",
        "  bins=50,\n",
        "  range=(0, single_neuron_isis.max())\n",
        ")\n",
        "\n",
        "functions = dict(\n",
        "  exponential=exponential,\n",
        "  inverse=inverse,\n",
        "  linear=linear,\n",
        ")\n",
        "\n",
        "colors = dict(\n",
        "  exponential=\"C1\",\n",
        "  inverse=\"C2\",\n",
        "  linear=\"C4\",\n",
        ")\n",
        "\n",
        "@widgets.interact(\n",
        "  exp_scale=widgets.FloatSlider(1000, min=0, max=20000, step=250),\n",
        "  exp_rate=widgets.FloatSlider(-10, min=-200, max=50, step=1),\n",
        "  exp_x0=widgets.FloatSlider(0.1, min=-0.5, max=0.5, step=0.005),\n",
        "  inv_scale=widgets.FloatSlider(1000, min=0, max=3e2, step=10),\n",
        "  inv_x0=widgets.FloatSlider(0, min=-0.2, max=0.2, step=0.01),\n",
        "  lin_slope=widgets.FloatSlider(-1e5, min=-6e5, max=1e5, step=10000),\n",
        "  lin_y0=widgets.FloatSlider(10000, min=0, max=4e4, step=1000),\n",
        ")\n",
        "def fit_plot(\n",
        "  exp_scale=1000, exp_rate=-10, exp_x0=0.1,\n",
        "  inv_scale=1000, inv_x0=0,\n",
        "  lin_slope=-1e5, lin_y0=2000,\n",
        "):\n",
        "  \"\"\"Helper function for plotting function fits with interactive sliders.\"\"\"\n",
        "  func_params = dict(\n",
        "    exponential=(exp_scale, exp_rate, exp_x0),\n",
        "    inverse=(inv_scale, inv_x0),\n",
        "    linear=(lin_slope, lin_y0),\n",
        "  )\n",
        "  f, ax = plt.subplots()\n",
        "  ax.fill_between(edges[:-1], counts, step=\"post\", alpha=.5)\n",
        "  xs = np.linspace(1e-10, edges.max())\n",
        "  for name, function in functions.items():\n",
        "    ys = function(xs, *func_params[name])\n",
        "    ax.plot(xs, ys, lw=3, color=colors[name], label=name);\n",
        "  ax.set(\n",
        "      xlim=(edges.min(), edges.max()),\n",
        "      ylim=(0, counts.max() * 1.1),\n",
        "      xlabel=\"ISI (s)\",\n",
        "      ylabel=\"Number of spikes\",\n",
        "  )\n",
        "  ax.legend()"
      ],
      "execution_count": 35,
      "outputs": [
        {
          "output_type": "display_data",
          "data": {
            "application/vnd.jupyter.widget-view+json": {
              "model_id": "4890c292865348b4a679c0fd59a857f3",
              "version_minor": 0,
              "version_major": 2
            },
            "text/plain": [
              "interactive(children=(FloatSlider(value=1000.0, description='exp_scale', max=20000.0, step=250.0), FloatSlider…"
            ]
          },
          "metadata": {
            "tags": []
          }
        }
      ]
    },
    {
      "cell_type": "markdown",
      "metadata": {
        "execution": {
          "iopub.execute_input": "2021-07-03T17:54:23.881204Z",
          "iopub.status.busy": "2021-07-03T17:54:23.880570Z",
          "iopub.status.idle": "2021-07-03T17:54:23.884239Z",
          "shell.execute_reply": "2021-07-03T17:54:23.884689Z"
        },
        "id": "QfVYIBJ3dYZQ"
      },
      "source": [
        "[*Click for solution*](https://github.com/NeuromatchAcademy/course-content/tree/master//tutorials/W1D1_ModelTypes/solutions/W1D1_Tutorial1_Solution_b6cd7761.py)\n",
        "\n"
      ]
    },
    {
      "cell_type": "code",
      "metadata": {
        "cellView": "form",
        "execution": {
          "iopub.execute_input": "2021-07-03T17:54:23.896459Z",
          "iopub.status.busy": "2021-07-03T17:54:23.892167Z",
          "iopub.status.idle": "2021-07-03T17:54:23.957580Z",
          "shell.execute_reply": "2021-07-03T17:54:23.958179Z"
        },
        "id": "N2-6oaJ9dYZQ",
        "outputId": "90c19711-4655-4aa0-9d4f-e45e473c51c5",
        "colab": {
          "base_uri": "https://localhost:8080/",
          "height": 580,
          "referenced_widgets": [
            "1538117e5bbd4fdc9c95a0d37f708730",
            "fa98843666fa4419abe7dc0eba144288",
            "aa04fedf1aec4e4080ee9309d2763dfb",
            "e965dd494bab4dd69d8d26eea0ecc7cb",
            "b581a66c1ade4c13afe8400474a7be2c",
            "f17ffb4cdfb34c46b05f0228e25cf073"
          ]
        }
      },
      "source": [
        "# @title Video 5: Fitting models by hand\n",
        "from ipywidgets import widgets\n",
        "\n",
        "out2 = widgets.Output()\n",
        "with out2:\n",
        "  from IPython.display import IFrame\n",
        "  class BiliVideo(IFrame):\n",
        "      def __init__(self, id, page=1, width=400, height=300, **kwargs):\n",
        "          self.id=id\n",
        "          src = 'https://player.bilibili.com/player.html?bvid={0}&page={1}'.format(id, page)\n",
        "          super(BiliVideo, self).__init__(src, width, height, **kwargs)\n",
        "\n",
        "  video = BiliVideo(id=\"BV1w54y1S7Eb\", width=854, height=480, fs=1)\n",
        "  print('Video available at https://www.bilibili.com/video/{0}'.format(video.id))\n",
        "  display(video)\n",
        "\n",
        "out1 = widgets.Output()\n",
        "with out1:\n",
        "  from IPython.display import YouTubeVideo\n",
        "  video = YouTubeVideo(id=\"uW2HDk_4-wk\", width=854, height=480, fs=1, rel=0)\n",
        "  print('Video available at https://youtube.com/watch?v=' + video.id)\n",
        "  display(video)\n",
        "\n",
        "out = widgets.Tab([out1, out2])\n",
        "out.set_title(0, 'Youtube')\n",
        "out.set_title(1, 'Bilibili')\n",
        "\n",
        "display(out)"
      ],
      "execution_count": 36,
      "outputs": [
        {
          "output_type": "display_data",
          "data": {
            "application/vnd.jupyter.widget-view+json": {
              "model_id": "1538117e5bbd4fdc9c95a0d37f708730",
              "version_minor": 0,
              "version_major": 2
            },
            "text/plain": [
              "Tab(children=(Output(), Output()), _titles={'0': 'Youtube', '1': 'Bilibili'})"
            ]
          },
          "metadata": {
            "tags": []
          }
        }
      ]
    },
    {
      "cell_type": "markdown",
      "metadata": {
        "id": "uvMBgir_dYZQ"
      },
      "source": [
        "---\n",
        "# Section 5: Reflecting on what models\n",
        "\n",
        "*Estimated timing to here from start of tutorial: 40 min*"
      ]
    },
    {
      "cell_type": "markdown",
      "metadata": {
        "id": "769NdJTOdYZQ"
      },
      "source": [
        "## Think! 5: Reflecting on what models\n",
        "\n",
        "Please discuss the following questions for around 10 minutes with your group:\n",
        "- Have you seen what models before?\n",
        "- Have you ever done one?\n",
        "- Why are what models useful?\n",
        "- When are they possible? Does your field have what models?\n",
        "- What do we learn from constructing them?"
      ]
    },
    {
      "cell_type": "markdown",
      "metadata": {
        "id": "70JcsV_2dYZQ"
      },
      "source": [
        "---\n",
        "# Summary\n",
        "\n",
        "*Estimated timing of tutorial: 50 minutes*\n",
        "\n",
        "In this tutorial, we loaded some neural data and poked at it to understand how the dataset is organized. Then we made some basic plots to visualize (1) the average level of activity across the population and (2) the distribution of ISIs for an individual neuron. In the very last bit, we started to think about using mathematical formalisms to understand or explain some physiological phenomenon. All of this only allowed us to understand \"What\" the data looks like.\n",
        "\n",
        "This is the first step towards developing models that can tell us something about the brain. That's what we'll focus on in the next two tutorials."
      ]
    }
  ]
}