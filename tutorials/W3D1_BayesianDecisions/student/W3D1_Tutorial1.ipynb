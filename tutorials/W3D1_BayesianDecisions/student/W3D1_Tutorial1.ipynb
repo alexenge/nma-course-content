{
  "nbformat": 4,
  "nbformat_minor": 0,
  "metadata": {
    "colab": {
      "name": "W3D1_Tutorial1",
      "provenance": [],
      "collapsed_sections": [
        "jWmfLbhzBpfz"
      ],
      "include_colab_link": true
    },
    "interpreter": {
      "hash": "3e19903e646247cead5404f55ff575624523d45cf244c3f93aaf5fa10367032a"
    },
    "kernel": {
      "display_name": "Python 3",
      "language": "python",
      "name": "python3"
    },
    "kernelspec": {
      "display_name": "Python 3.7.10 64-bit ('nma': conda)",
      "name": "python3"
    },
    "language_info": {
      "codemirror_mode": {
        "name": "ipython",
        "version": 3
      },
      "file_extension": ".py",
      "mimetype": "text/x-python",
      "name": "python",
      "nbconvert_exporter": "python",
      "pygments_lexer": "ipython3",
      "version": "3.7.11"
    },
    "widgets": {
      "application/vnd.jupyter.widget-state+json": {
        "c3b71b8eeced43f698a8c7c7cc052f3c": {
          "model_module": "@jupyter-widgets/controls",
          "model_name": "TabModel",
          "state": {
            "_view_name": "TabView",
            "_dom_classes": [],
            "_titles": {
              "0": "Youtube",
              "1": "Bilibili"
            },
            "_model_name": "TabModel",
            "_view_module": "@jupyter-widgets/controls",
            "selected_index": 0,
            "_model_module_version": "1.5.0",
            "_view_count": null,
            "_view_module_version": "1.5.0",
            "box_style": "",
            "layout": "IPY_MODEL_86281278e4b94f61adef4220be4d74fa",
            "_model_module": "@jupyter-widgets/controls",
            "children": [
              "IPY_MODEL_d2f72f333a84480c890f8b9129244ba6",
              "IPY_MODEL_fb5935d79c234bd188de0f31e57e0b0a"
            ]
          }
        },
        "86281278e4b94f61adef4220be4d74fa": {
          "model_module": "@jupyter-widgets/base",
          "model_name": "LayoutModel",
          "state": {
            "_view_name": "LayoutView",
            "grid_template_rows": null,
            "right": null,
            "justify_content": null,
            "_view_module": "@jupyter-widgets/base",
            "overflow": null,
            "_model_module_version": "1.2.0",
            "_view_count": null,
            "flex_flow": null,
            "width": null,
            "min_width": null,
            "border": null,
            "align_items": null,
            "bottom": null,
            "_model_module": "@jupyter-widgets/base",
            "top": null,
            "grid_column": null,
            "overflow_y": null,
            "overflow_x": null,
            "grid_auto_flow": null,
            "grid_area": null,
            "grid_template_columns": null,
            "flex": null,
            "_model_name": "LayoutModel",
            "justify_items": null,
            "grid_row": null,
            "max_height": null,
            "align_content": null,
            "visibility": null,
            "align_self": null,
            "height": null,
            "min_height": null,
            "padding": null,
            "grid_auto_rows": null,
            "grid_gap": null,
            "max_width": null,
            "order": null,
            "_view_module_version": "1.2.0",
            "grid_template_areas": null,
            "object_position": null,
            "object_fit": null,
            "grid_auto_columns": null,
            "margin": null,
            "display": null,
            "left": null
          }
        },
        "d2f72f333a84480c890f8b9129244ba6": {
          "model_module": "@jupyter-widgets/output",
          "model_name": "OutputModel",
          "state": {
            "_view_name": "OutputView",
            "msg_id": "",
            "_dom_classes": [],
            "_model_name": "OutputModel",
            "outputs": [
              {
                "output_type": "stream",
                "metadata": {
                  "tags": []
                },
                "text": "Video available at https://youtube.com/watch?v=Hcx2_JTpf2M\n",
                "stream": "stdout"
              },
              {
                "output_type": "display_data",
                "metadata": {
                  "tags": []
                },
                "text/html": "\n        <iframe\n            width=\"854\"\n            height=\"480\"\n            src=\"https://www.youtube.com/embed/Hcx2_JTpf2M?fs=1&rel=0\"\n            frameborder=\"0\"\n            allowfullscreen\n        ></iframe>\n        ",
                "text/plain": "<IPython.lib.display.YouTubeVideo at 0x7f23298f6c50>",
                "image/jpeg": "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\n"
              }
            ],
            "_view_module": "@jupyter-widgets/output",
            "_model_module_version": "1.0.0",
            "_view_count": null,
            "_view_module_version": "1.0.0",
            "layout": "IPY_MODEL_c0f8b0bd583b4a9080cc97ea5e97dd80",
            "_model_module": "@jupyter-widgets/output"
          }
        },
        "fb5935d79c234bd188de0f31e57e0b0a": {
          "model_module": "@jupyter-widgets/output",
          "model_name": "OutputModel",
          "state": {
            "_view_name": "OutputView",
            "msg_id": "",
            "_dom_classes": [],
            "_model_name": "OutputModel",
            "outputs": [
              {
                "output_type": "stream",
                "metadata": {
                  "tags": []
                },
                "text": "Video available at https://www.bilibili.com/video/BV1Ch41167jN\n",
                "stream": "stdout"
              },
              {
                "output_type": "display_data",
                "metadata": {
                  "tags": []
                },
                "text/html": "\n        <iframe\n            width=\"854\"\n            height=\"480\"\n            src=\"https://player.bilibili.com/player.html?bvid=BV1Ch41167jN&page=1?fs=1\"\n            frameborder=\"0\"\n            allowfullscreen\n        ></iframe>\n        ",
                "text/plain": "<__main__.BiliVideo at 0x7f232d3670d0>"
              }
            ],
            "_view_module": "@jupyter-widgets/output",
            "_model_module_version": "1.0.0",
            "_view_count": null,
            "_view_module_version": "1.0.0",
            "layout": "IPY_MODEL_765954f4581a4d1688c05e4f6f97ca26",
            "_model_module": "@jupyter-widgets/output"
          }
        },
        "c0f8b0bd583b4a9080cc97ea5e97dd80": {
          "model_module": "@jupyter-widgets/base",
          "model_name": "LayoutModel",
          "state": {
            "_view_name": "LayoutView",
            "grid_template_rows": null,
            "right": null,
            "justify_content": null,
            "_view_module": "@jupyter-widgets/base",
            "overflow": null,
            "_model_module_version": "1.2.0",
            "_view_count": null,
            "flex_flow": null,
            "width": null,
            "min_width": null,
            "border": null,
            "align_items": null,
            "bottom": null,
            "_model_module": "@jupyter-widgets/base",
            "top": null,
            "grid_column": null,
            "overflow_y": null,
            "overflow_x": null,
            "grid_auto_flow": null,
            "grid_area": null,
            "grid_template_columns": null,
            "flex": null,
            "_model_name": "LayoutModel",
            "justify_items": null,
            "grid_row": null,
            "max_height": null,
            "align_content": null,
            "visibility": null,
            "align_self": null,
            "height": null,
            "min_height": null,
            "padding": null,
            "grid_auto_rows": null,
            "grid_gap": null,
            "max_width": null,
            "order": null,
            "_view_module_version": "1.2.0",
            "grid_template_areas": null,
            "object_position": null,
            "object_fit": null,
            "grid_auto_columns": null,
            "margin": null,
            "display": null,
            "left": null
          }
        },
        "765954f4581a4d1688c05e4f6f97ca26": {
          "model_module": "@jupyter-widgets/base",
          "model_name": "LayoutModel",
          "state": {
            "_view_name": "LayoutView",
            "grid_template_rows": null,
            "right": null,
            "justify_content": null,
            "_view_module": "@jupyter-widgets/base",
            "overflow": null,
            "_model_module_version": "1.2.0",
            "_view_count": null,
            "flex_flow": null,
            "width": null,
            "min_width": null,
            "border": null,
            "align_items": null,
            "bottom": null,
            "_model_module": "@jupyter-widgets/base",
            "top": null,
            "grid_column": null,
            "overflow_y": null,
            "overflow_x": null,
            "grid_auto_flow": null,
            "grid_area": null,
            "grid_template_columns": null,
            "flex": null,
            "_model_name": "LayoutModel",
            "justify_items": null,
            "grid_row": null,
            "max_height": null,
            "align_content": null,
            "visibility": null,
            "align_self": null,
            "height": null,
            "min_height": null,
            "padding": null,
            "grid_auto_rows": null,
            "grid_gap": null,
            "max_width": null,
            "order": null,
            "_view_module_version": "1.2.0",
            "grid_template_areas": null,
            "object_position": null,
            "object_fit": null,
            "grid_auto_columns": null,
            "margin": null,
            "display": null,
            "left": null
          }
        },
        "996491318e67400c81288edc1376926c": {
          "model_module": "@jupyter-widgets/controls",
          "model_name": "TabModel",
          "state": {
            "_view_name": "TabView",
            "_dom_classes": [],
            "_titles": {
              "0": "Youtube",
              "1": "Bilibili"
            },
            "_model_name": "TabModel",
            "_view_module": "@jupyter-widgets/controls",
            "selected_index": 0,
            "_model_module_version": "1.5.0",
            "_view_count": null,
            "_view_module_version": "1.5.0",
            "box_style": "",
            "layout": "IPY_MODEL_4b77cea055964e67a5244c2e31b1830c",
            "_model_module": "@jupyter-widgets/controls",
            "children": [
              "IPY_MODEL_cd0812a04ad44809a4a0affb73f229e3",
              "IPY_MODEL_fb270e6f38044425b20b36d4b84f551d"
            ]
          }
        },
        "4b77cea055964e67a5244c2e31b1830c": {
          "model_module": "@jupyter-widgets/base",
          "model_name": "LayoutModel",
          "state": {
            "_view_name": "LayoutView",
            "grid_template_rows": null,
            "right": null,
            "justify_content": null,
            "_view_module": "@jupyter-widgets/base",
            "overflow": null,
            "_model_module_version": "1.2.0",
            "_view_count": null,
            "flex_flow": null,
            "width": null,
            "min_width": null,
            "border": null,
            "align_items": null,
            "bottom": null,
            "_model_module": "@jupyter-widgets/base",
            "top": null,
            "grid_column": null,
            "overflow_y": null,
            "overflow_x": null,
            "grid_auto_flow": null,
            "grid_area": null,
            "grid_template_columns": null,
            "flex": null,
            "_model_name": "LayoutModel",
            "justify_items": null,
            "grid_row": null,
            "max_height": null,
            "align_content": null,
            "visibility": null,
            "align_self": null,
            "height": null,
            "min_height": null,
            "padding": null,
            "grid_auto_rows": null,
            "grid_gap": null,
            "max_width": null,
            "order": null,
            "_view_module_version": "1.2.0",
            "grid_template_areas": null,
            "object_position": null,
            "object_fit": null,
            "grid_auto_columns": null,
            "margin": null,
            "display": null,
            "left": null
          }
        },
        "cd0812a04ad44809a4a0affb73f229e3": {
          "model_module": "@jupyter-widgets/output",
          "model_name": "OutputModel",
          "state": {
            "_view_name": "OutputView",
            "msg_id": "",
            "_dom_classes": [],
            "_model_name": "OutputModel",
            "outputs": [
              {
                "output_type": "stream",
                "metadata": {
                  "tags": []
                },
                "text": "Video available at https://youtube.com/watch?v=kAdBjWOI_yE\n",
                "stream": "stdout"
              },
              {
                "output_type": "display_data",
                "metadata": {
                  "tags": []
                },
                "text/html": "\n        <iframe\n            width=\"854\"\n            height=\"480\"\n            src=\"https://www.youtube.com/embed/kAdBjWOI_yE?fs=1&rel=0\"\n            frameborder=\"0\"\n            allowfullscreen\n        ></iframe>\n        ",
                "text/plain": "<IPython.lib.display.YouTubeVideo at 0x7f231e0c94d0>",
                "image/jpeg": "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\n"
              }
            ],
            "_view_module": "@jupyter-widgets/output",
            "_model_module_version": "1.0.0",
            "_view_count": null,
            "_view_module_version": "1.0.0",
            "layout": "IPY_MODEL_c6c0e69f26a346c9a88b53390fd8187f",
            "_model_module": "@jupyter-widgets/output"
          }
        },
        "fb270e6f38044425b20b36d4b84f551d": {
          "model_module": "@jupyter-widgets/output",
          "model_name": "OutputModel",
          "state": {
            "_view_name": "OutputView",
            "msg_id": "",
            "_dom_classes": [],
            "_model_name": "OutputModel",
            "outputs": [
              {
                "output_type": "stream",
                "metadata": {
                  "tags": []
                },
                "text": "Video available at https://www.bilibili.com/video/BV1TP4y147pJ\n",
                "stream": "stdout"
              },
              {
                "output_type": "display_data",
                "metadata": {
                  "tags": []
                },
                "text/html": "\n        <iframe\n            width=\"854\"\n            height=\"480\"\n            src=\"https://player.bilibili.com/player.html?bvid=BV1TP4y147pJ&page=1?fs=1\"\n            frameborder=\"0\"\n            allowfullscreen\n        ></iframe>\n        ",
                "text/plain": "<__main__.BiliVideo at 0x7f231e0cdd10>"
              }
            ],
            "_view_module": "@jupyter-widgets/output",
            "_model_module_version": "1.0.0",
            "_view_count": null,
            "_view_module_version": "1.0.0",
            "layout": "IPY_MODEL_917cd43fdf47401abc9a0e51630cfea0",
            "_model_module": "@jupyter-widgets/output"
          }
        },
        "c6c0e69f26a346c9a88b53390fd8187f": {
          "model_module": "@jupyter-widgets/base",
          "model_name": "LayoutModel",
          "state": {
            "_view_name": "LayoutView",
            "grid_template_rows": null,
            "right": null,
            "justify_content": null,
            "_view_module": "@jupyter-widgets/base",
            "overflow": null,
            "_model_module_version": "1.2.0",
            "_view_count": null,
            "flex_flow": null,
            "width": null,
            "min_width": null,
            "border": null,
            "align_items": null,
            "bottom": null,
            "_model_module": "@jupyter-widgets/base",
            "top": null,
            "grid_column": null,
            "overflow_y": null,
            "overflow_x": null,
            "grid_auto_flow": null,
            "grid_area": null,
            "grid_template_columns": null,
            "flex": null,
            "_model_name": "LayoutModel",
            "justify_items": null,
            "grid_row": null,
            "max_height": null,
            "align_content": null,
            "visibility": null,
            "align_self": null,
            "height": null,
            "min_height": null,
            "padding": null,
            "grid_auto_rows": null,
            "grid_gap": null,
            "max_width": null,
            "order": null,
            "_view_module_version": "1.2.0",
            "grid_template_areas": null,
            "object_position": null,
            "object_fit": null,
            "grid_auto_columns": null,
            "margin": null,
            "display": null,
            "left": null
          }
        },
        "917cd43fdf47401abc9a0e51630cfea0": {
          "model_module": "@jupyter-widgets/base",
          "model_name": "LayoutModel",
          "state": {
            "_view_name": "LayoutView",
            "grid_template_rows": null,
            "right": null,
            "justify_content": null,
            "_view_module": "@jupyter-widgets/base",
            "overflow": null,
            "_model_module_version": "1.2.0",
            "_view_count": null,
            "flex_flow": null,
            "width": null,
            "min_width": null,
            "border": null,
            "align_items": null,
            "bottom": null,
            "_model_module": "@jupyter-widgets/base",
            "top": null,
            "grid_column": null,
            "overflow_y": null,
            "overflow_x": null,
            "grid_auto_flow": null,
            "grid_area": null,
            "grid_template_columns": null,
            "flex": null,
            "_model_name": "LayoutModel",
            "justify_items": null,
            "grid_row": null,
            "max_height": null,
            "align_content": null,
            "visibility": null,
            "align_self": null,
            "height": null,
            "min_height": null,
            "padding": null,
            "grid_auto_rows": null,
            "grid_gap": null,
            "max_width": null,
            "order": null,
            "_view_module_version": "1.2.0",
            "grid_template_areas": null,
            "object_position": null,
            "object_fit": null,
            "grid_auto_columns": null,
            "margin": null,
            "display": null,
            "left": null
          }
        },
        "a3d95dcf84564ff7926a08f0951fd4a2": {
          "model_module": "@jupyter-widgets/controls",
          "model_name": "TabModel",
          "state": {
            "_view_name": "TabView",
            "_dom_classes": [],
            "_titles": {
              "0": "Youtube",
              "1": "Bilibili"
            },
            "_model_name": "TabModel",
            "_view_module": "@jupyter-widgets/controls",
            "selected_index": 0,
            "_model_module_version": "1.5.0",
            "_view_count": null,
            "_view_module_version": "1.5.0",
            "box_style": "",
            "layout": "IPY_MODEL_f2565d8c22b84f87b54175c8150cbe2c",
            "_model_module": "@jupyter-widgets/controls",
            "children": [
              "IPY_MODEL_2e1106331234459990b62c803ba13cf9",
              "IPY_MODEL_3424e585285340ef9d68add15a65d53a"
            ]
          }
        },
        "f2565d8c22b84f87b54175c8150cbe2c": {
          "model_module": "@jupyter-widgets/base",
          "model_name": "LayoutModel",
          "state": {
            "_view_name": "LayoutView",
            "grid_template_rows": null,
            "right": null,
            "justify_content": null,
            "_view_module": "@jupyter-widgets/base",
            "overflow": null,
            "_model_module_version": "1.2.0",
            "_view_count": null,
            "flex_flow": null,
            "width": null,
            "min_width": null,
            "border": null,
            "align_items": null,
            "bottom": null,
            "_model_module": "@jupyter-widgets/base",
            "top": null,
            "grid_column": null,
            "overflow_y": null,
            "overflow_x": null,
            "grid_auto_flow": null,
            "grid_area": null,
            "grid_template_columns": null,
            "flex": null,
            "_model_name": "LayoutModel",
            "justify_items": null,
            "grid_row": null,
            "max_height": null,
            "align_content": null,
            "visibility": null,
            "align_self": null,
            "height": null,
            "min_height": null,
            "padding": null,
            "grid_auto_rows": null,
            "grid_gap": null,
            "max_width": null,
            "order": null,
            "_view_module_version": "1.2.0",
            "grid_template_areas": null,
            "object_position": null,
            "object_fit": null,
            "grid_auto_columns": null,
            "margin": null,
            "display": null,
            "left": null
          }
        },
        "2e1106331234459990b62c803ba13cf9": {
          "model_module": "@jupyter-widgets/output",
          "model_name": "OutputModel",
          "state": {
            "_view_name": "OutputView",
            "msg_id": "",
            "_dom_classes": [],
            "_model_name": "OutputModel",
            "outputs": [
              {
                "output_type": "stream",
                "metadata": {
                  "tags": []
                },
                "text": "Video available at https://youtube.com/watch?v=8-5RM0k3IKE\n",
                "stream": "stdout"
              },
              {
                "output_type": "display_data",
                "metadata": {
                  "tags": []
                },
                "text/html": "\n        <iframe\n            width=\"854\"\n            height=\"480\"\n            src=\"https://www.youtube.com/embed/8-5RM0k3IKE?fs=1&rel=0\"\n            frameborder=\"0\"\n            allowfullscreen\n        ></iframe>\n        ",
                "text/plain": "<IPython.lib.display.YouTubeVideo at 0x7f232fa66ed0>",
                "image/jpeg": "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\n"
              }
            ],
            "_view_module": "@jupyter-widgets/output",
            "_model_module_version": "1.0.0",
            "_view_count": null,
            "_view_module_version": "1.0.0",
            "layout": "IPY_MODEL_c1a995fa3deb4915a3a9acd4b75143a7",
            "_model_module": "@jupyter-widgets/output"
          }
        },
        "3424e585285340ef9d68add15a65d53a": {
          "model_module": "@jupyter-widgets/output",
          "model_name": "OutputModel",
          "state": {
            "_view_name": "OutputView",
            "msg_id": "",
            "_dom_classes": [],
            "_model_name": "OutputModel",
            "outputs": [
              {
                "output_type": "stream",
                "metadata": {
                  "tags": []
                },
                "text": "Video available at https://www.bilibili.com/video/BV1uL411H7ZE\n",
                "stream": "stdout"
              },
              {
                "output_type": "display_data",
                "metadata": {
                  "tags": []
                },
                "text/html": "\n        <iframe\n            width=\"854\"\n            height=\"480\"\n            src=\"https://player.bilibili.com/player.html?bvid=BV1uL411H7ZE&page=1?fs=1\"\n            frameborder=\"0\"\n            allowfullscreen\n        ></iframe>\n        ",
                "text/plain": "<__main__.BiliVideo at 0x7f232d339cd0>"
              }
            ],
            "_view_module": "@jupyter-widgets/output",
            "_model_module_version": "1.0.0",
            "_view_count": null,
            "_view_module_version": "1.0.0",
            "layout": "IPY_MODEL_29d27cb2843844599d8f518b058de68e",
            "_model_module": "@jupyter-widgets/output"
          }
        },
        "c1a995fa3deb4915a3a9acd4b75143a7": {
          "model_module": "@jupyter-widgets/base",
          "model_name": "LayoutModel",
          "state": {
            "_view_name": "LayoutView",
            "grid_template_rows": null,
            "right": null,
            "justify_content": null,
            "_view_module": "@jupyter-widgets/base",
            "overflow": null,
            "_model_module_version": "1.2.0",
            "_view_count": null,
            "flex_flow": null,
            "width": null,
            "min_width": null,
            "border": null,
            "align_items": null,
            "bottom": null,
            "_model_module": "@jupyter-widgets/base",
            "top": null,
            "grid_column": null,
            "overflow_y": null,
            "overflow_x": null,
            "grid_auto_flow": null,
            "grid_area": null,
            "grid_template_columns": null,
            "flex": null,
            "_model_name": "LayoutModel",
            "justify_items": null,
            "grid_row": null,
            "max_height": null,
            "align_content": null,
            "visibility": null,
            "align_self": null,
            "height": null,
            "min_height": null,
            "padding": null,
            "grid_auto_rows": null,
            "grid_gap": null,
            "max_width": null,
            "order": null,
            "_view_module_version": "1.2.0",
            "grid_template_areas": null,
            "object_position": null,
            "object_fit": null,
            "grid_auto_columns": null,
            "margin": null,
            "display": null,
            "left": null
          }
        },
        "29d27cb2843844599d8f518b058de68e": {
          "model_module": "@jupyter-widgets/base",
          "model_name": "LayoutModel",
          "state": {
            "_view_name": "LayoutView",
            "grid_template_rows": null,
            "right": null,
            "justify_content": null,
            "_view_module": "@jupyter-widgets/base",
            "overflow": null,
            "_model_module_version": "1.2.0",
            "_view_count": null,
            "flex_flow": null,
            "width": null,
            "min_width": null,
            "border": null,
            "align_items": null,
            "bottom": null,
            "_model_module": "@jupyter-widgets/base",
            "top": null,
            "grid_column": null,
            "overflow_y": null,
            "overflow_x": null,
            "grid_auto_flow": null,
            "grid_area": null,
            "grid_template_columns": null,
            "flex": null,
            "_model_name": "LayoutModel",
            "justify_items": null,
            "grid_row": null,
            "max_height": null,
            "align_content": null,
            "visibility": null,
            "align_self": null,
            "height": null,
            "min_height": null,
            "padding": null,
            "grid_auto_rows": null,
            "grid_gap": null,
            "max_width": null,
            "order": null,
            "_view_module_version": "1.2.0",
            "grid_template_areas": null,
            "object_position": null,
            "object_fit": null,
            "grid_auto_columns": null,
            "margin": null,
            "display": null,
            "left": null
          }
        },
        "38eec506ba2749eebd51cf54ccf4c6fb": {
          "model_module": "@jupyter-widgets/controls",
          "model_name": "VBoxModel",
          "state": {
            "_view_name": "VBoxView",
            "_dom_classes": [
              "widget-interact"
            ],
            "_model_name": "VBoxModel",
            "_view_module": "@jupyter-widgets/controls",
            "_model_module_version": "1.5.0",
            "_view_count": null,
            "_view_module_version": "1.5.0",
            "box_style": "",
            "layout": "IPY_MODEL_ab371e106cdc4e5fb68b76eb4d517463",
            "_model_module": "@jupyter-widgets/controls",
            "children": [
              "IPY_MODEL_5f5bf49153c140e5a821078360439ee2",
              "IPY_MODEL_27199abb86ea49b98684e6d41d552cfd"
            ]
          }
        },
        "ab371e106cdc4e5fb68b76eb4d517463": {
          "model_module": "@jupyter-widgets/base",
          "model_name": "LayoutModel",
          "state": {
            "_view_name": "LayoutView",
            "grid_template_rows": null,
            "right": null,
            "justify_content": null,
            "_view_module": "@jupyter-widgets/base",
            "overflow": null,
            "_model_module_version": "1.2.0",
            "_view_count": null,
            "flex_flow": null,
            "width": null,
            "min_width": null,
            "border": null,
            "align_items": null,
            "bottom": null,
            "_model_module": "@jupyter-widgets/base",
            "top": null,
            "grid_column": null,
            "overflow_y": null,
            "overflow_x": null,
            "grid_auto_flow": null,
            "grid_area": null,
            "grid_template_columns": null,
            "flex": null,
            "_model_name": "LayoutModel",
            "justify_items": null,
            "grid_row": null,
            "max_height": null,
            "align_content": null,
            "visibility": null,
            "align_self": null,
            "height": null,
            "min_height": null,
            "padding": null,
            "grid_auto_rows": null,
            "grid_gap": null,
            "max_width": null,
            "order": null,
            "_view_module_version": "1.2.0",
            "grid_template_areas": null,
            "object_position": null,
            "object_fit": null,
            "grid_auto_columns": null,
            "margin": null,
            "display": null,
            "left": null
          }
        },
        "5f5bf49153c140e5a821078360439ee2": {
          "model_module": "@jupyter-widgets/controls",
          "model_name": "FloatSliderModel",
          "state": {
            "_view_name": "FloatSliderView",
            "style": "IPY_MODEL_5bb7b702fb0043e6a36f6f722d2aaa55",
            "_dom_classes": [],
            "description": "p(s = left)",
            "step": 0.01,
            "_model_name": "FloatSliderModel",
            "orientation": "horizontal",
            "max": 1,
            "_view_module": "@jupyter-widgets/controls",
            "_model_module_version": "1.5.0",
            "value": 0.4,
            "_view_count": null,
            "disabled": false,
            "_view_module_version": "1.5.0",
            "min": 0,
            "continuous_update": true,
            "readout_format": ".2f",
            "description_tooltip": null,
            "readout": true,
            "_model_module": "@jupyter-widgets/controls",
            "layout": "IPY_MODEL_0312371924a645af85c8aadd57b1552d"
          }
        },
        "27199abb86ea49b98684e6d41d552cfd": {
          "model_module": "@jupyter-widgets/output",
          "model_name": "OutputModel",
          "state": {
            "_view_name": "OutputView",
            "msg_id": "",
            "_dom_classes": [],
            "_model_name": "OutputModel",
            "outputs": [
              {
                "output_type": "display_data",
                "metadata": {
                  "tags": [],
                  "image/png": {
                    "width": 674,
                    "height": 277
                  },
                  "needs_background": "light"
                },
                "image/png": "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\n",
                "text/plain": "<Figure size 1224x216 with 3 Axes>"
              }
            ],
            "_view_module": "@jupyter-widgets/output",
            "_model_module_version": "1.0.0",
            "_view_count": null,
            "_view_module_version": "1.0.0",
            "layout": "IPY_MODEL_3097ec0d8ae247fdb5d0805266937be8",
            "_model_module": "@jupyter-widgets/output"
          }
        },
        "5bb7b702fb0043e6a36f6f722d2aaa55": {
          "model_module": "@jupyter-widgets/controls",
          "model_name": "SliderStyleModel",
          "state": {
            "_view_name": "StyleView",
            "handle_color": null,
            "_model_name": "SliderStyleModel",
            "description_width": "",
            "_view_module": "@jupyter-widgets/base",
            "_model_module_version": "1.5.0",
            "_view_count": null,
            "_view_module_version": "1.2.0",
            "_model_module": "@jupyter-widgets/controls"
          }
        },
        "0312371924a645af85c8aadd57b1552d": {
          "model_module": "@jupyter-widgets/base",
          "model_name": "LayoutModel",
          "state": {
            "_view_name": "LayoutView",
            "grid_template_rows": null,
            "right": null,
            "justify_content": null,
            "_view_module": "@jupyter-widgets/base",
            "overflow": null,
            "_model_module_version": "1.2.0",
            "_view_count": null,
            "flex_flow": null,
            "width": null,
            "min_width": null,
            "border": null,
            "align_items": null,
            "bottom": null,
            "_model_module": "@jupyter-widgets/base",
            "top": null,
            "grid_column": null,
            "overflow_y": null,
            "overflow_x": null,
            "grid_auto_flow": null,
            "grid_area": null,
            "grid_template_columns": null,
            "flex": null,
            "_model_name": "LayoutModel",
            "justify_items": null,
            "grid_row": null,
            "max_height": null,
            "align_content": null,
            "visibility": null,
            "align_self": null,
            "height": null,
            "min_height": null,
            "padding": null,
            "grid_auto_rows": null,
            "grid_gap": null,
            "max_width": null,
            "order": null,
            "_view_module_version": "1.2.0",
            "grid_template_areas": null,
            "object_position": null,
            "object_fit": null,
            "grid_auto_columns": null,
            "margin": null,
            "display": null,
            "left": null
          }
        },
        "3097ec0d8ae247fdb5d0805266937be8": {
          "model_module": "@jupyter-widgets/base",
          "model_name": "LayoutModel",
          "state": {
            "_view_name": "LayoutView",
            "grid_template_rows": null,
            "right": null,
            "justify_content": null,
            "_view_module": "@jupyter-widgets/base",
            "overflow": null,
            "_model_module_version": "1.2.0",
            "_view_count": null,
            "flex_flow": null,
            "width": null,
            "min_width": null,
            "border": null,
            "align_items": null,
            "bottom": null,
            "_model_module": "@jupyter-widgets/base",
            "top": null,
            "grid_column": null,
            "overflow_y": null,
            "overflow_x": null,
            "grid_auto_flow": null,
            "grid_area": null,
            "grid_template_columns": null,
            "flex": null,
            "_model_name": "LayoutModel",
            "justify_items": null,
            "grid_row": null,
            "max_height": null,
            "align_content": null,
            "visibility": null,
            "align_self": null,
            "height": null,
            "min_height": null,
            "padding": null,
            "grid_auto_rows": null,
            "grid_gap": null,
            "max_width": null,
            "order": null,
            "_view_module_version": "1.2.0",
            "grid_template_areas": null,
            "object_position": null,
            "object_fit": null,
            "grid_auto_columns": null,
            "margin": null,
            "display": null,
            "left": null
          }
        },
        "0c2d598846f443319b570a37f9d6245f": {
          "model_module": "@jupyter-widgets/controls",
          "model_name": "TabModel",
          "state": {
            "_view_name": "TabView",
            "_dom_classes": [],
            "_titles": {
              "0": "Youtube",
              "1": "Bilibili"
            },
            "_model_name": "TabModel",
            "_view_module": "@jupyter-widgets/controls",
            "selected_index": 0,
            "_model_module_version": "1.5.0",
            "_view_count": null,
            "_view_module_version": "1.5.0",
            "box_style": "",
            "layout": "IPY_MODEL_e6ca3412ed874e69b3ca2b66480010e9",
            "_model_module": "@jupyter-widgets/controls",
            "children": [
              "IPY_MODEL_b8c3c486f3624280a13f56efa8eb23bb",
              "IPY_MODEL_855b97f724bd4e3c8542f1aa0b769e78"
            ]
          }
        },
        "e6ca3412ed874e69b3ca2b66480010e9": {
          "model_module": "@jupyter-widgets/base",
          "model_name": "LayoutModel",
          "state": {
            "_view_name": "LayoutView",
            "grid_template_rows": null,
            "right": null,
            "justify_content": null,
            "_view_module": "@jupyter-widgets/base",
            "overflow": null,
            "_model_module_version": "1.2.0",
            "_view_count": null,
            "flex_flow": null,
            "width": null,
            "min_width": null,
            "border": null,
            "align_items": null,
            "bottom": null,
            "_model_module": "@jupyter-widgets/base",
            "top": null,
            "grid_column": null,
            "overflow_y": null,
            "overflow_x": null,
            "grid_auto_flow": null,
            "grid_area": null,
            "grid_template_columns": null,
            "flex": null,
            "_model_name": "LayoutModel",
            "justify_items": null,
            "grid_row": null,
            "max_height": null,
            "align_content": null,
            "visibility": null,
            "align_self": null,
            "height": null,
            "min_height": null,
            "padding": null,
            "grid_auto_rows": null,
            "grid_gap": null,
            "max_width": null,
            "order": null,
            "_view_module_version": "1.2.0",
            "grid_template_areas": null,
            "object_position": null,
            "object_fit": null,
            "grid_auto_columns": null,
            "margin": null,
            "display": null,
            "left": null
          }
        },
        "b8c3c486f3624280a13f56efa8eb23bb": {
          "model_module": "@jupyter-widgets/output",
          "model_name": "OutputModel",
          "state": {
            "_view_name": "OutputView",
            "msg_id": "",
            "_dom_classes": [],
            "_model_name": "OutputModel",
            "outputs": [
              {
                "output_type": "stream",
                "metadata": {
                  "tags": []
                },
                "text": "Video available at https://youtube.com/watch?v=GHQbmsEyQjE\n",
                "stream": "stdout"
              },
              {
                "output_type": "display_data",
                "metadata": {
                  "tags": []
                },
                "text/html": "\n        <iframe\n            width=\"854\"\n            height=\"480\"\n            src=\"https://www.youtube.com/embed/GHQbmsEyQjE?fs=1&rel=0\"\n            frameborder=\"0\"\n            allowfullscreen\n        ></iframe>\n        ",
                "text/plain": "<IPython.lib.display.YouTubeVideo at 0x7f231d2ce490>",
                "image/jpeg": "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\n"
              }
            ],
            "_view_module": "@jupyter-widgets/output",
            "_model_module_version": "1.0.0",
            "_view_count": null,
            "_view_module_version": "1.0.0",
            "layout": "IPY_MODEL_91db194fdbfd4050880b01fceb4c10bd",
            "_model_module": "@jupyter-widgets/output"
          }
        },
        "855b97f724bd4e3c8542f1aa0b769e78": {
          "model_module": "@jupyter-widgets/output",
          "model_name": "OutputModel",
          "state": {
            "_view_name": "OutputView",
            "msg_id": "",
            "_dom_classes": [],
            "_model_name": "OutputModel",
            "outputs": [
              {
                "output_type": "stream",
                "metadata": {
                  "tags": []
                },
                "text": "Video available at https://www.bilibili.com/video/BV1po4y1D7Fu\n",
                "stream": "stdout"
              },
              {
                "output_type": "display_data",
                "metadata": {
                  "tags": []
                },
                "text/html": "\n        <iframe\n            width=\"854\"\n            height=\"480\"\n            src=\"https://player.bilibili.com/player.html?bvid=BV1po4y1D7Fu&page=1?fs=1\"\n            frameborder=\"0\"\n            allowfullscreen\n        ></iframe>\n        ",
                "text/plain": "<__main__.BiliVideo at 0x7f231d39ee10>"
              }
            ],
            "_view_module": "@jupyter-widgets/output",
            "_model_module_version": "1.0.0",
            "_view_count": null,
            "_view_module_version": "1.0.0",
            "layout": "IPY_MODEL_31585bb8d5964e2caa318a1b3e3587db",
            "_model_module": "@jupyter-widgets/output"
          }
        },
        "91db194fdbfd4050880b01fceb4c10bd": {
          "model_module": "@jupyter-widgets/base",
          "model_name": "LayoutModel",
          "state": {
            "_view_name": "LayoutView",
            "grid_template_rows": null,
            "right": null,
            "justify_content": null,
            "_view_module": "@jupyter-widgets/base",
            "overflow": null,
            "_model_module_version": "1.2.0",
            "_view_count": null,
            "flex_flow": null,
            "width": null,
            "min_width": null,
            "border": null,
            "align_items": null,
            "bottom": null,
            "_model_module": "@jupyter-widgets/base",
            "top": null,
            "grid_column": null,
            "overflow_y": null,
            "overflow_x": null,
            "grid_auto_flow": null,
            "grid_area": null,
            "grid_template_columns": null,
            "flex": null,
            "_model_name": "LayoutModel",
            "justify_items": null,
            "grid_row": null,
            "max_height": null,
            "align_content": null,
            "visibility": null,
            "align_self": null,
            "height": null,
            "min_height": null,
            "padding": null,
            "grid_auto_rows": null,
            "grid_gap": null,
            "max_width": null,
            "order": null,
            "_view_module_version": "1.2.0",
            "grid_template_areas": null,
            "object_position": null,
            "object_fit": null,
            "grid_auto_columns": null,
            "margin": null,
            "display": null,
            "left": null
          }
        },
        "31585bb8d5964e2caa318a1b3e3587db": {
          "model_module": "@jupyter-widgets/base",
          "model_name": "LayoutModel",
          "state": {
            "_view_name": "LayoutView",
            "grid_template_rows": null,
            "right": null,
            "justify_content": null,
            "_view_module": "@jupyter-widgets/base",
            "overflow": null,
            "_model_module_version": "1.2.0",
            "_view_count": null,
            "flex_flow": null,
            "width": null,
            "min_width": null,
            "border": null,
            "align_items": null,
            "bottom": null,
            "_model_module": "@jupyter-widgets/base",
            "top": null,
            "grid_column": null,
            "overflow_y": null,
            "overflow_x": null,
            "grid_auto_flow": null,
            "grid_area": null,
            "grid_template_columns": null,
            "flex": null,
            "_model_name": "LayoutModel",
            "justify_items": null,
            "grid_row": null,
            "max_height": null,
            "align_content": null,
            "visibility": null,
            "align_self": null,
            "height": null,
            "min_height": null,
            "padding": null,
            "grid_auto_rows": null,
            "grid_gap": null,
            "max_width": null,
            "order": null,
            "_view_module_version": "1.2.0",
            "grid_template_areas": null,
            "object_position": null,
            "object_fit": null,
            "grid_auto_columns": null,
            "margin": null,
            "display": null,
            "left": null
          }
        },
        "4b0edd7733dc413c919040a5313646d8": {
          "model_module": "@jupyter-widgets/controls",
          "model_name": "TabModel",
          "state": {
            "_view_name": "TabView",
            "_dom_classes": [],
            "_titles": {
              "0": "Youtube",
              "1": "Bilibili"
            },
            "_model_name": "TabModel",
            "_view_module": "@jupyter-widgets/controls",
            "selected_index": 0,
            "_model_module_version": "1.5.0",
            "_view_count": null,
            "_view_module_version": "1.5.0",
            "box_style": "",
            "layout": "IPY_MODEL_d74f49d318f345d5942d722bb75a505d",
            "_model_module": "@jupyter-widgets/controls",
            "children": [
              "IPY_MODEL_2dd4bd777bf042b9ba1d200babbcbc66",
              "IPY_MODEL_4b49568d1dcd445d866ac253e42b23f7"
            ]
          }
        },
        "d74f49d318f345d5942d722bb75a505d": {
          "model_module": "@jupyter-widgets/base",
          "model_name": "LayoutModel",
          "state": {
            "_view_name": "LayoutView",
            "grid_template_rows": null,
            "right": null,
            "justify_content": null,
            "_view_module": "@jupyter-widgets/base",
            "overflow": null,
            "_model_module_version": "1.2.0",
            "_view_count": null,
            "flex_flow": null,
            "width": null,
            "min_width": null,
            "border": null,
            "align_items": null,
            "bottom": null,
            "_model_module": "@jupyter-widgets/base",
            "top": null,
            "grid_column": null,
            "overflow_y": null,
            "overflow_x": null,
            "grid_auto_flow": null,
            "grid_area": null,
            "grid_template_columns": null,
            "flex": null,
            "_model_name": "LayoutModel",
            "justify_items": null,
            "grid_row": null,
            "max_height": null,
            "align_content": null,
            "visibility": null,
            "align_self": null,
            "height": null,
            "min_height": null,
            "padding": null,
            "grid_auto_rows": null,
            "grid_gap": null,
            "max_width": null,
            "order": null,
            "_view_module_version": "1.2.0",
            "grid_template_areas": null,
            "object_position": null,
            "object_fit": null,
            "grid_auto_columns": null,
            "margin": null,
            "display": null,
            "left": null
          }
        },
        "2dd4bd777bf042b9ba1d200babbcbc66": {
          "model_module": "@jupyter-widgets/output",
          "model_name": "OutputModel",
          "state": {
            "_view_name": "OutputView",
            "msg_id": "",
            "_dom_classes": [],
            "_model_name": "OutputModel",
            "outputs": [
              {
                "output_type": "stream",
                "metadata": {
                  "tags": []
                },
                "text": "Video available at https://youtube.com/watch?v=Yv8MDjdm1l4\n",
                "stream": "stdout"
              },
              {
                "output_type": "display_data",
                "metadata": {
                  "tags": []
                },
                "text/html": "\n        <iframe\n            width=\"854\"\n            height=\"480\"\n            src=\"https://www.youtube.com/embed/Yv8MDjdm1l4?fs=1&rel=0\"\n            frameborder=\"0\"\n            allowfullscreen\n        ></iframe>\n        ",
                "text/plain": "<IPython.lib.display.YouTubeVideo at 0x7f231d2cea50>",
                "image/jpeg": "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\n"
              }
            ],
            "_view_module": "@jupyter-widgets/output",
            "_model_module_version": "1.0.0",
            "_view_count": null,
            "_view_module_version": "1.0.0",
            "layout": "IPY_MODEL_64460505780641ecbec6803a5a85f641",
            "_model_module": "@jupyter-widgets/output"
          }
        },
        "4b49568d1dcd445d866ac253e42b23f7": {
          "model_module": "@jupyter-widgets/output",
          "model_name": "OutputModel",
          "state": {
            "_view_name": "OutputView",
            "msg_id": "",
            "_dom_classes": [],
            "_model_name": "OutputModel",
            "outputs": [
              {
                "output_type": "stream",
                "metadata": {
                  "tags": []
                },
                "text": "Video available at https://www.bilibili.com/video/BV1EK4y1u7AV\n",
                "stream": "stdout"
              },
              {
                "output_type": "display_data",
                "metadata": {
                  "tags": []
                },
                "text/html": "\n        <iframe\n            width=\"854\"\n            height=\"480\"\n            src=\"https://player.bilibili.com/player.html?bvid=BV1EK4y1u7AV&page=1?fs=1\"\n            frameborder=\"0\"\n            allowfullscreen\n        ></iframe>\n        ",
                "text/plain": "<__main__.BiliVideo at 0x7f231d2c5610>"
              }
            ],
            "_view_module": "@jupyter-widgets/output",
            "_model_module_version": "1.0.0",
            "_view_count": null,
            "_view_module_version": "1.0.0",
            "layout": "IPY_MODEL_df700c80532e4837a3143bc8fbfa27f6",
            "_model_module": "@jupyter-widgets/output"
          }
        },
        "64460505780641ecbec6803a5a85f641": {
          "model_module": "@jupyter-widgets/base",
          "model_name": "LayoutModel",
          "state": {
            "_view_name": "LayoutView",
            "grid_template_rows": null,
            "right": null,
            "justify_content": null,
            "_view_module": "@jupyter-widgets/base",
            "overflow": null,
            "_model_module_version": "1.2.0",
            "_view_count": null,
            "flex_flow": null,
            "width": null,
            "min_width": null,
            "border": null,
            "align_items": null,
            "bottom": null,
            "_model_module": "@jupyter-widgets/base",
            "top": null,
            "grid_column": null,
            "overflow_y": null,
            "overflow_x": null,
            "grid_auto_flow": null,
            "grid_area": null,
            "grid_template_columns": null,
            "flex": null,
            "_model_name": "LayoutModel",
            "justify_items": null,
            "grid_row": null,
            "max_height": null,
            "align_content": null,
            "visibility": null,
            "align_self": null,
            "height": null,
            "min_height": null,
            "padding": null,
            "grid_auto_rows": null,
            "grid_gap": null,
            "max_width": null,
            "order": null,
            "_view_module_version": "1.2.0",
            "grid_template_areas": null,
            "object_position": null,
            "object_fit": null,
            "grid_auto_columns": null,
            "margin": null,
            "display": null,
            "left": null
          }
        },
        "df700c80532e4837a3143bc8fbfa27f6": {
          "model_module": "@jupyter-widgets/base",
          "model_name": "LayoutModel",
          "state": {
            "_view_name": "LayoutView",
            "grid_template_rows": null,
            "right": null,
            "justify_content": null,
            "_view_module": "@jupyter-widgets/base",
            "overflow": null,
            "_model_module_version": "1.2.0",
            "_view_count": null,
            "flex_flow": null,
            "width": null,
            "min_width": null,
            "border": null,
            "align_items": null,
            "bottom": null,
            "_model_module": "@jupyter-widgets/base",
            "top": null,
            "grid_column": null,
            "overflow_y": null,
            "overflow_x": null,
            "grid_auto_flow": null,
            "grid_area": null,
            "grid_template_columns": null,
            "flex": null,
            "_model_name": "LayoutModel",
            "justify_items": null,
            "grid_row": null,
            "max_height": null,
            "align_content": null,
            "visibility": null,
            "align_self": null,
            "height": null,
            "min_height": null,
            "padding": null,
            "grid_auto_rows": null,
            "grid_gap": null,
            "max_width": null,
            "order": null,
            "_view_module_version": "1.2.0",
            "grid_template_areas": null,
            "object_position": null,
            "object_fit": null,
            "grid_auto_columns": null,
            "margin": null,
            "display": null,
            "left": null
          }
        },
        "27d1f88e1fc64191a9de8580d38c569a": {
          "model_module": "@jupyter-widgets/controls",
          "model_name": "TabModel",
          "state": {
            "_view_name": "TabView",
            "_dom_classes": [],
            "_titles": {
              "0": "Youtube",
              "1": "Bilibili"
            },
            "_model_name": "TabModel",
            "_view_module": "@jupyter-widgets/controls",
            "selected_index": 0,
            "_model_module_version": "1.5.0",
            "_view_count": null,
            "_view_module_version": "1.5.0",
            "box_style": "",
            "layout": "IPY_MODEL_ebaa2a71b963453a87b0c5cae0c4517f",
            "_model_module": "@jupyter-widgets/controls",
            "children": [
              "IPY_MODEL_da05dfa739d949b9b9f9c456046f4988",
              "IPY_MODEL_e3b771b4b70e4609a16a4b58c0eee6b7"
            ]
          }
        },
        "ebaa2a71b963453a87b0c5cae0c4517f": {
          "model_module": "@jupyter-widgets/base",
          "model_name": "LayoutModel",
          "state": {
            "_view_name": "LayoutView",
            "grid_template_rows": null,
            "right": null,
            "justify_content": null,
            "_view_module": "@jupyter-widgets/base",
            "overflow": null,
            "_model_module_version": "1.2.0",
            "_view_count": null,
            "flex_flow": null,
            "width": null,
            "min_width": null,
            "border": null,
            "align_items": null,
            "bottom": null,
            "_model_module": "@jupyter-widgets/base",
            "top": null,
            "grid_column": null,
            "overflow_y": null,
            "overflow_x": null,
            "grid_auto_flow": null,
            "grid_area": null,
            "grid_template_columns": null,
            "flex": null,
            "_model_name": "LayoutModel",
            "justify_items": null,
            "grid_row": null,
            "max_height": null,
            "align_content": null,
            "visibility": null,
            "align_self": null,
            "height": null,
            "min_height": null,
            "padding": null,
            "grid_auto_rows": null,
            "grid_gap": null,
            "max_width": null,
            "order": null,
            "_view_module_version": "1.2.0",
            "grid_template_areas": null,
            "object_position": null,
            "object_fit": null,
            "grid_auto_columns": null,
            "margin": null,
            "display": null,
            "left": null
          }
        },
        "da05dfa739d949b9b9f9c456046f4988": {
          "model_module": "@jupyter-widgets/output",
          "model_name": "OutputModel",
          "state": {
            "_view_name": "OutputView",
            "msg_id": "",
            "_dom_classes": [],
            "_model_name": "OutputModel",
            "outputs": [
              {
                "output_type": "stream",
                "metadata": {
                  "tags": []
                },
                "text": "Video available at https://youtube.com/watch?v=iprFMHch2_g\n",
                "stream": "stdout"
              },
              {
                "output_type": "display_data",
                "metadata": {
                  "tags": []
                },
                "text/html": "\n        <iframe\n            width=\"854\"\n            height=\"480\"\n            src=\"https://www.youtube.com/embed/iprFMHch2_g?fs=1&rel=0\"\n            frameborder=\"0\"\n            allowfullscreen\n        ></iframe>\n        ",
                "text/plain": "<IPython.lib.display.YouTubeVideo at 0x7f231d305a90>",
                "image/jpeg": "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\n"
              }
            ],
            "_view_module": "@jupyter-widgets/output",
            "_model_module_version": "1.0.0",
            "_view_count": null,
            "_view_module_version": "1.0.0",
            "layout": "IPY_MODEL_0b8204a158274123878b17bc521f0aae",
            "_model_module": "@jupyter-widgets/output"
          }
        },
        "e3b771b4b70e4609a16a4b58c0eee6b7": {
          "model_module": "@jupyter-widgets/output",
          "model_name": "OutputModel",
          "state": {
            "_view_name": "OutputView",
            "msg_id": "",
            "_dom_classes": [],
            "_model_name": "OutputModel",
            "outputs": [
              {
                "output_type": "stream",
                "metadata": {
                  "tags": []
                },
                "text": "Video available at https://www.bilibili.com/video/BV1Zq4y1p7N6\n",
                "stream": "stdout"
              },
              {
                "output_type": "display_data",
                "metadata": {
                  "tags": []
                },
                "text/html": "\n        <iframe\n            width=\"854\"\n            height=\"480\"\n            src=\"https://player.bilibili.com/player.html?bvid=BV1Zq4y1p7N6&page=1?fs=1\"\n            frameborder=\"0\"\n            allowfullscreen\n        ></iframe>\n        ",
                "text/plain": "<__main__.BiliVideo at 0x7f231d305f90>"
              }
            ],
            "_view_module": "@jupyter-widgets/output",
            "_model_module_version": "1.0.0",
            "_view_count": null,
            "_view_module_version": "1.0.0",
            "layout": "IPY_MODEL_0543a2dd223d42ec8930e321acf8c6b0",
            "_model_module": "@jupyter-widgets/output"
          }
        },
        "0b8204a158274123878b17bc521f0aae": {
          "model_module": "@jupyter-widgets/base",
          "model_name": "LayoutModel",
          "state": {
            "_view_name": "LayoutView",
            "grid_template_rows": null,
            "right": null,
            "justify_content": null,
            "_view_module": "@jupyter-widgets/base",
            "overflow": null,
            "_model_module_version": "1.2.0",
            "_view_count": null,
            "flex_flow": null,
            "width": null,
            "min_width": null,
            "border": null,
            "align_items": null,
            "bottom": null,
            "_model_module": "@jupyter-widgets/base",
            "top": null,
            "grid_column": null,
            "overflow_y": null,
            "overflow_x": null,
            "grid_auto_flow": null,
            "grid_area": null,
            "grid_template_columns": null,
            "flex": null,
            "_model_name": "LayoutModel",
            "justify_items": null,
            "grid_row": null,
            "max_height": null,
            "align_content": null,
            "visibility": null,
            "align_self": null,
            "height": null,
            "min_height": null,
            "padding": null,
            "grid_auto_rows": null,
            "grid_gap": null,
            "max_width": null,
            "order": null,
            "_view_module_version": "1.2.0",
            "grid_template_areas": null,
            "object_position": null,
            "object_fit": null,
            "grid_auto_columns": null,
            "margin": null,
            "display": null,
            "left": null
          }
        },
        "0543a2dd223d42ec8930e321acf8c6b0": {
          "model_module": "@jupyter-widgets/base",
          "model_name": "LayoutModel",
          "state": {
            "_view_name": "LayoutView",
            "grid_template_rows": null,
            "right": null,
            "justify_content": null,
            "_view_module": "@jupyter-widgets/base",
            "overflow": null,
            "_model_module_version": "1.2.0",
            "_view_count": null,
            "flex_flow": null,
            "width": null,
            "min_width": null,
            "border": null,
            "align_items": null,
            "bottom": null,
            "_model_module": "@jupyter-widgets/base",
            "top": null,
            "grid_column": null,
            "overflow_y": null,
            "overflow_x": null,
            "grid_auto_flow": null,
            "grid_area": null,
            "grid_template_columns": null,
            "flex": null,
            "_model_name": "LayoutModel",
            "justify_items": null,
            "grid_row": null,
            "max_height": null,
            "align_content": null,
            "visibility": null,
            "align_self": null,
            "height": null,
            "min_height": null,
            "padding": null,
            "grid_auto_rows": null,
            "grid_gap": null,
            "max_width": null,
            "order": null,
            "_view_module_version": "1.2.0",
            "grid_template_areas": null,
            "object_position": null,
            "object_fit": null,
            "grid_auto_columns": null,
            "margin": null,
            "display": null,
            "left": null
          }
        },
        "943f204dccc94f27865e8516597b363e": {
          "model_module": "@jupyter-widgets/controls",
          "model_name": "VBoxModel",
          "state": {
            "_view_name": "VBoxView",
            "_dom_classes": [
              "widget-interact"
            ],
            "_model_name": "VBoxModel",
            "_view_module": "@jupyter-widgets/controls",
            "_model_module_version": "1.5.0",
            "_view_count": null,
            "_view_module_version": "1.5.0",
            "box_style": "",
            "layout": "IPY_MODEL_95bd3a559db74c59b157fd96236fd8c0",
            "_model_module": "@jupyter-widgets/controls",
            "children": [
              "IPY_MODEL_139875f6b34c407b9b8ed7f580812fbc",
              "IPY_MODEL_aa514af462664ef88386236c2ca9fd61",
              "IPY_MODEL_42b3cc91d52048c9a7c37a4d5b6361b9",
              "IPY_MODEL_0cf086ef55964b889673ea6c3e75e5a6"
            ]
          }
        },
        "95bd3a559db74c59b157fd96236fd8c0": {
          "model_module": "@jupyter-widgets/base",
          "model_name": "LayoutModel",
          "state": {
            "_view_name": "LayoutView",
            "grid_template_rows": null,
            "right": null,
            "justify_content": null,
            "_view_module": "@jupyter-widgets/base",
            "overflow": null,
            "_model_module_version": "1.2.0",
            "_view_count": null,
            "flex_flow": null,
            "width": null,
            "min_width": null,
            "border": null,
            "align_items": null,
            "bottom": null,
            "_model_module": "@jupyter-widgets/base",
            "top": null,
            "grid_column": null,
            "overflow_y": null,
            "overflow_x": null,
            "grid_auto_flow": null,
            "grid_area": null,
            "grid_template_columns": null,
            "flex": null,
            "_model_name": "LayoutModel",
            "justify_items": null,
            "grid_row": null,
            "max_height": null,
            "align_content": null,
            "visibility": null,
            "align_self": null,
            "height": null,
            "min_height": null,
            "padding": null,
            "grid_auto_rows": null,
            "grid_gap": null,
            "max_width": null,
            "order": null,
            "_view_module_version": "1.2.0",
            "grid_template_areas": null,
            "object_position": null,
            "object_fit": null,
            "grid_auto_columns": null,
            "margin": null,
            "display": null,
            "left": null
          }
        },
        "139875f6b34c407b9b8ed7f580812fbc": {
          "model_module": "@jupyter-widgets/controls",
          "model_name": "FloatSliderModel",
          "state": {
            "_view_name": "FloatSliderView",
            "style": "IPY_MODEL_3dac0a2e25b44eb89eb0be9fcb587a27",
            "_dom_classes": [],
            "description": "p(color=golden)",
            "step": 0.01,
            "_model_name": "FloatSliderModel",
            "orientation": "horizontal",
            "max": 0.99,
            "_view_module": "@jupyter-widgets/controls",
            "_model_module_version": "1.5.0",
            "value": 0.65,
            "_view_count": null,
            "disabled": false,
            "_view_module_version": "1.5.0",
            "min": 0.01,
            "continuous_update": true,
            "readout_format": ".2f",
            "description_tooltip": null,
            "readout": true,
            "_model_module": "@jupyter-widgets/controls",
            "layout": "IPY_MODEL_a4c1993420ce4b2fa6754b3c1b67f66a"
          }
        },
        "aa514af462664ef88386236c2ca9fd61": {
          "model_module": "@jupyter-widgets/controls",
          "model_name": "FloatSliderModel",
          "state": {
            "_view_name": "FloatSliderView",
            "style": "IPY_MODEL_bf1f328d6c1d4924a8d223ddc3254a13",
            "_dom_classes": [],
            "description": "p(size=large)",
            "step": 0.01,
            "_model_name": "FloatSliderModel",
            "orientation": "horizontal",
            "max": 0.99,
            "_view_module": "@jupyter-widgets/controls",
            "_model_module_version": "1.5.0",
            "value": 0.65,
            "_view_count": null,
            "disabled": false,
            "_view_module_version": "1.5.0",
            "min": 0.01,
            "continuous_update": true,
            "readout_format": ".2f",
            "description_tooltip": null,
            "readout": true,
            "_model_module": "@jupyter-widgets/controls",
            "layout": "IPY_MODEL_74db223a462f4a3b8882f19db639d5fc"
          }
        },
        "42b3cc91d52048c9a7c37a4d5b6361b9": {
          "model_module": "@jupyter-widgets/controls",
          "model_name": "FloatSliderModel",
          "state": {
            "_view_name": "FloatSliderView",
            "style": "IPY_MODEL_2dadf5b2f1a24411b717af9782232c06",
            "_dom_classes": [],
            "description": "ρ",
            "step": 0.01,
            "_model_name": "FloatSliderModel",
            "orientation": "horizontal",
            "max": 0.99,
            "_view_module": "@jupyter-widgets/controls",
            "_model_module_version": "1.5.0",
            "value": 0.9815384615384616,
            "_view_count": null,
            "disabled": false,
            "_view_module_version": "1.5.0",
            "min": -0.5284615384615384,
            "continuous_update": true,
            "readout_format": ".2f",
            "description_tooltip": null,
            "readout": true,
            "_model_module": "@jupyter-widgets/controls",
            "layout": "IPY_MODEL_f6e3d9170ce94d228c1ca749867c193a"
          }
        },
        "0cf086ef55964b889673ea6c3e75e5a6": {
          "model_module": "@jupyter-widgets/output",
          "model_name": "OutputModel",
          "state": {
            "_view_name": "OutputView",
            "msg_id": "",
            "_dom_classes": [],
            "_model_name": "OutputModel",
            "outputs": [
              {
                "output_type": "display_data",
                "metadata": {
                  "tags": [],
                  "image/png": {
                    "width": 390,
                    "height": 361
                  },
                  "needs_background": "light"
                },
                "image/png": "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\n",
                "text/plain": "<Figure size 360x360 with 3 Axes>"
              }
            ],
            "_view_module": "@jupyter-widgets/output",
            "_model_module_version": "1.0.0",
            "_view_count": null,
            "_view_module_version": "1.0.0",
            "layout": "IPY_MODEL_017c055cf7b740e9a981f36c1f1b5ee2",
            "_model_module": "@jupyter-widgets/output"
          }
        },
        "3dac0a2e25b44eb89eb0be9fcb587a27": {
          "model_module": "@jupyter-widgets/controls",
          "model_name": "SliderStyleModel",
          "state": {
            "_view_name": "StyleView",
            "handle_color": null,
            "_model_name": "SliderStyleModel",
            "description_width": "initial",
            "_view_module": "@jupyter-widgets/base",
            "_model_module_version": "1.5.0",
            "_view_count": null,
            "_view_module_version": "1.2.0",
            "_model_module": "@jupyter-widgets/controls"
          }
        },
        "a4c1993420ce4b2fa6754b3c1b67f66a": {
          "model_module": "@jupyter-widgets/base",
          "model_name": "LayoutModel",
          "state": {
            "_view_name": "LayoutView",
            "grid_template_rows": null,
            "right": null,
            "justify_content": null,
            "_view_module": "@jupyter-widgets/base",
            "overflow": null,
            "_model_module_version": "1.2.0",
            "_view_count": null,
            "flex_flow": null,
            "width": null,
            "min_width": null,
            "border": null,
            "align_items": null,
            "bottom": null,
            "_model_module": "@jupyter-widgets/base",
            "top": null,
            "grid_column": null,
            "overflow_y": null,
            "overflow_x": null,
            "grid_auto_flow": null,
            "grid_area": "widget002",
            "grid_template_columns": null,
            "flex": null,
            "_model_name": "LayoutModel",
            "justify_items": null,
            "grid_row": null,
            "max_height": null,
            "align_content": null,
            "visibility": null,
            "align_self": null,
            "height": null,
            "min_height": null,
            "padding": null,
            "grid_auto_rows": null,
            "grid_gap": null,
            "max_width": null,
            "order": null,
            "_view_module_version": "1.2.0",
            "grid_template_areas": null,
            "object_position": null,
            "object_fit": null,
            "grid_auto_columns": null,
            "margin": null,
            "display": null,
            "left": null
          }
        },
        "bf1f328d6c1d4924a8d223ddc3254a13": {
          "model_module": "@jupyter-widgets/controls",
          "model_name": "SliderStyleModel",
          "state": {
            "_view_name": "StyleView",
            "handle_color": null,
            "_model_name": "SliderStyleModel",
            "description_width": "initial",
            "_view_module": "@jupyter-widgets/base",
            "_model_module_version": "1.5.0",
            "_view_count": null,
            "_view_module_version": "1.2.0",
            "_model_module": "@jupyter-widgets/controls"
          }
        },
        "74db223a462f4a3b8882f19db639d5fc": {
          "model_module": "@jupyter-widgets/base",
          "model_name": "LayoutModel",
          "state": {
            "_view_name": "LayoutView",
            "grid_template_rows": null,
            "right": null,
            "justify_content": null,
            "_view_module": "@jupyter-widgets/base",
            "overflow": null,
            "_model_module_version": "1.2.0",
            "_view_count": null,
            "flex_flow": null,
            "width": null,
            "min_width": null,
            "border": null,
            "align_items": null,
            "bottom": null,
            "_model_module": "@jupyter-widgets/base",
            "top": null,
            "grid_column": null,
            "overflow_y": null,
            "overflow_x": null,
            "grid_auto_flow": null,
            "grid_area": "widget003",
            "grid_template_columns": null,
            "flex": null,
            "_model_name": "LayoutModel",
            "justify_items": null,
            "grid_row": null,
            "max_height": null,
            "align_content": null,
            "visibility": null,
            "align_self": null,
            "height": null,
            "min_height": null,
            "padding": null,
            "grid_auto_rows": null,
            "grid_gap": null,
            "max_width": null,
            "order": null,
            "_view_module_version": "1.2.0",
            "grid_template_areas": null,
            "object_position": null,
            "object_fit": null,
            "grid_auto_columns": null,
            "margin": null,
            "display": null,
            "left": null
          }
        },
        "2dadf5b2f1a24411b717af9782232c06": {
          "model_module": "@jupyter-widgets/controls",
          "model_name": "SliderStyleModel",
          "state": {
            "_view_name": "StyleView",
            "handle_color": null,
            "_model_name": "SliderStyleModel",
            "description_width": "",
            "_view_module": "@jupyter-widgets/base",
            "_model_module_version": "1.5.0",
            "_view_count": null,
            "_view_module_version": "1.2.0",
            "_model_module": "@jupyter-widgets/controls"
          }
        },
        "f6e3d9170ce94d228c1ca749867c193a": {
          "model_module": "@jupyter-widgets/base",
          "model_name": "LayoutModel",
          "state": {
            "_view_name": "LayoutView",
            "grid_template_rows": null,
            "right": null,
            "justify_content": null,
            "_view_module": "@jupyter-widgets/base",
            "overflow": null,
            "_model_module_version": "1.2.0",
            "_view_count": null,
            "flex_flow": null,
            "width": null,
            "min_width": null,
            "border": null,
            "align_items": null,
            "bottom": null,
            "_model_module": "@jupyter-widgets/base",
            "top": null,
            "grid_column": null,
            "overflow_y": null,
            "overflow_x": null,
            "grid_auto_flow": null,
            "grid_area": "widget001",
            "grid_template_columns": null,
            "flex": null,
            "_model_name": "LayoutModel",
            "justify_items": null,
            "grid_row": null,
            "max_height": null,
            "align_content": null,
            "visibility": null,
            "align_self": null,
            "height": null,
            "min_height": null,
            "padding": null,
            "grid_auto_rows": null,
            "grid_gap": null,
            "max_width": null,
            "order": null,
            "_view_module_version": "1.2.0",
            "grid_template_areas": null,
            "object_position": null,
            "object_fit": null,
            "grid_auto_columns": null,
            "margin": null,
            "display": null,
            "left": null
          }
        },
        "017c055cf7b740e9a981f36c1f1b5ee2": {
          "model_module": "@jupyter-widgets/base",
          "model_name": "LayoutModel",
          "state": {
            "_view_name": "LayoutView",
            "grid_template_rows": null,
            "right": null,
            "justify_content": null,
            "_view_module": "@jupyter-widgets/base",
            "overflow": null,
            "_model_module_version": "1.2.0",
            "_view_count": null,
            "flex_flow": null,
            "width": null,
            "min_width": null,
            "border": null,
            "align_items": null,
            "bottom": null,
            "_model_module": "@jupyter-widgets/base",
            "top": null,
            "grid_column": null,
            "overflow_y": null,
            "overflow_x": null,
            "grid_auto_flow": null,
            "grid_area": null,
            "grid_template_columns": null,
            "flex": null,
            "_model_name": "LayoutModel",
            "justify_items": null,
            "grid_row": null,
            "max_height": null,
            "align_content": null,
            "visibility": null,
            "align_self": null,
            "height": null,
            "min_height": null,
            "padding": null,
            "grid_auto_rows": null,
            "grid_gap": null,
            "max_width": null,
            "order": null,
            "_view_module_version": "1.2.0",
            "grid_template_areas": null,
            "object_position": null,
            "object_fit": null,
            "grid_auto_columns": null,
            "margin": null,
            "display": null,
            "left": null
          }
        },
        "d29a465a726940a88de62564dbf2bb4a": {
          "model_module": "@jupyter-widgets/controls",
          "model_name": "TabModel",
          "state": {
            "_view_name": "TabView",
            "_dom_classes": [],
            "_titles": {
              "0": "Youtube",
              "1": "Bilibili"
            },
            "_model_name": "TabModel",
            "_view_module": "@jupyter-widgets/controls",
            "selected_index": 0,
            "_model_module_version": "1.5.0",
            "_view_count": null,
            "_view_module_version": "1.5.0",
            "box_style": "",
            "layout": "IPY_MODEL_8317fcc0e5df4f1fbcb0a7e524b0932b",
            "_model_module": "@jupyter-widgets/controls",
            "children": [
              "IPY_MODEL_b99b841b35d741c2b195e2986fc0bfcb",
              "IPY_MODEL_0eb27f3620ed4f048c0f8b6710c0a6a9"
            ]
          }
        },
        "8317fcc0e5df4f1fbcb0a7e524b0932b": {
          "model_module": "@jupyter-widgets/base",
          "model_name": "LayoutModel",
          "state": {
            "_view_name": "LayoutView",
            "grid_template_rows": null,
            "right": null,
            "justify_content": null,
            "_view_module": "@jupyter-widgets/base",
            "overflow": null,
            "_model_module_version": "1.2.0",
            "_view_count": null,
            "flex_flow": null,
            "width": null,
            "min_width": null,
            "border": null,
            "align_items": null,
            "bottom": null,
            "_model_module": "@jupyter-widgets/base",
            "top": null,
            "grid_column": null,
            "overflow_y": null,
            "overflow_x": null,
            "grid_auto_flow": null,
            "grid_area": null,
            "grid_template_columns": null,
            "flex": null,
            "_model_name": "LayoutModel",
            "justify_items": null,
            "grid_row": null,
            "max_height": null,
            "align_content": null,
            "visibility": null,
            "align_self": null,
            "height": null,
            "min_height": null,
            "padding": null,
            "grid_auto_rows": null,
            "grid_gap": null,
            "max_width": null,
            "order": null,
            "_view_module_version": "1.2.0",
            "grid_template_areas": null,
            "object_position": null,
            "object_fit": null,
            "grid_auto_columns": null,
            "margin": null,
            "display": null,
            "left": null
          }
        },
        "b99b841b35d741c2b195e2986fc0bfcb": {
          "model_module": "@jupyter-widgets/output",
          "model_name": "OutputModel",
          "state": {
            "_view_name": "OutputView",
            "msg_id": "",
            "_dom_classes": [],
            "_model_name": "OutputModel",
            "outputs": [
              {
                "output_type": "stream",
                "metadata": {
                  "tags": []
                },
                "text": "Video available at https://youtube.com/watch?v=cOAJQ4utwD0\n",
                "stream": "stdout"
              },
              {
                "output_type": "display_data",
                "metadata": {
                  "tags": []
                },
                "text/html": "\n        <iframe\n            width=\"854\"\n            height=\"480\"\n            src=\"https://www.youtube.com/embed/cOAJQ4utwD0?fs=1&rel=0\"\n            frameborder=\"0\"\n            allowfullscreen\n        ></iframe>\n        ",
                "text/plain": "<IPython.lib.display.YouTubeVideo at 0x7f231d589c10>",
                "image/jpeg": "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\n"
              }
            ],
            "_view_module": "@jupyter-widgets/output",
            "_model_module_version": "1.0.0",
            "_view_count": null,
            "_view_module_version": "1.0.0",
            "layout": "IPY_MODEL_5da0fe25ae384a3d98f963c478d872a3",
            "_model_module": "@jupyter-widgets/output"
          }
        },
        "0eb27f3620ed4f048c0f8b6710c0a6a9": {
          "model_module": "@jupyter-widgets/output",
          "model_name": "OutputModel",
          "state": {
            "_view_name": "OutputView",
            "msg_id": "",
            "_dom_classes": [],
            "_model_name": "OutputModel",
            "outputs": [
              {
                "output_type": "stream",
                "metadata": {
                  "tags": []
                },
                "text": "Video available at https://www.bilibili.com/video/BV1fK4y1M7EC\n",
                "stream": "stdout"
              },
              {
                "output_type": "display_data",
                "metadata": {
                  "tags": []
                },
                "text/html": "\n        <iframe\n            width=\"854\"\n            height=\"480\"\n            src=\"https://player.bilibili.com/player.html?bvid=BV1fK4y1M7EC&page=1?fs=1\"\n            frameborder=\"0\"\n            allowfullscreen\n        ></iframe>\n        ",
                "text/plain": "<__main__.BiliVideo at 0x7f231d20af10>"
              }
            ],
            "_view_module": "@jupyter-widgets/output",
            "_model_module_version": "1.0.0",
            "_view_count": null,
            "_view_module_version": "1.0.0",
            "layout": "IPY_MODEL_95862f45b5d34abaa9351e3ddd2e3e6c",
            "_model_module": "@jupyter-widgets/output"
          }
        },
        "5da0fe25ae384a3d98f963c478d872a3": {
          "model_module": "@jupyter-widgets/base",
          "model_name": "LayoutModel",
          "state": {
            "_view_name": "LayoutView",
            "grid_template_rows": null,
            "right": null,
            "justify_content": null,
            "_view_module": "@jupyter-widgets/base",
            "overflow": null,
            "_model_module_version": "1.2.0",
            "_view_count": null,
            "flex_flow": null,
            "width": null,
            "min_width": null,
            "border": null,
            "align_items": null,
            "bottom": null,
            "_model_module": "@jupyter-widgets/base",
            "top": null,
            "grid_column": null,
            "overflow_y": null,
            "overflow_x": null,
            "grid_auto_flow": null,
            "grid_area": null,
            "grid_template_columns": null,
            "flex": null,
            "_model_name": "LayoutModel",
            "justify_items": null,
            "grid_row": null,
            "max_height": null,
            "align_content": null,
            "visibility": null,
            "align_self": null,
            "height": null,
            "min_height": null,
            "padding": null,
            "grid_auto_rows": null,
            "grid_gap": null,
            "max_width": null,
            "order": null,
            "_view_module_version": "1.2.0",
            "grid_template_areas": null,
            "object_position": null,
            "object_fit": null,
            "grid_auto_columns": null,
            "margin": null,
            "display": null,
            "left": null
          }
        },
        "95862f45b5d34abaa9351e3ddd2e3e6c": {
          "model_module": "@jupyter-widgets/base",
          "model_name": "LayoutModel",
          "state": {
            "_view_name": "LayoutView",
            "grid_template_rows": null,
            "right": null,
            "justify_content": null,
            "_view_module": "@jupyter-widgets/base",
            "overflow": null,
            "_model_module_version": "1.2.0",
            "_view_count": null,
            "flex_flow": null,
            "width": null,
            "min_width": null,
            "border": null,
            "align_items": null,
            "bottom": null,
            "_model_module": "@jupyter-widgets/base",
            "top": null,
            "grid_column": null,
            "overflow_y": null,
            "overflow_x": null,
            "grid_auto_flow": null,
            "grid_area": null,
            "grid_template_columns": null,
            "flex": null,
            "_model_name": "LayoutModel",
            "justify_items": null,
            "grid_row": null,
            "max_height": null,
            "align_content": null,
            "visibility": null,
            "align_self": null,
            "height": null,
            "min_height": null,
            "padding": null,
            "grid_auto_rows": null,
            "grid_gap": null,
            "max_width": null,
            "order": null,
            "_view_module_version": "1.2.0",
            "grid_template_areas": null,
            "object_position": null,
            "object_fit": null,
            "grid_auto_columns": null,
            "margin": null,
            "display": null,
            "left": null
          }
        },
        "9dfb0bee0afb4ef7a38c36e384b1e9a8": {
          "model_module": "@jupyter-widgets/controls",
          "model_name": "VBoxModel",
          "state": {
            "_view_name": "VBoxView",
            "_dom_classes": [],
            "_model_name": "VBoxModel",
            "_view_module": "@jupyter-widgets/controls",
            "_model_module_version": "1.5.0",
            "_view_count": null,
            "_view_module_version": "1.5.0",
            "box_style": "",
            "layout": "IPY_MODEL_386644269ff345f3906bab67734be476",
            "_model_module": "@jupyter-widgets/controls",
            "children": [
              "IPY_MODEL_9afc069d3b97487299177e02a436e4b4",
              "IPY_MODEL_1064c17bab974e6c8db12ad7528696f8",
              "IPY_MODEL_cce36fb847d446d7b566cdfad1878d91"
            ]
          }
        },
        "386644269ff345f3906bab67734be476": {
          "model_module": "@jupyter-widgets/base",
          "model_name": "LayoutModel",
          "state": {
            "_view_name": "LayoutView",
            "grid_template_rows": null,
            "right": null,
            "justify_content": null,
            "_view_module": "@jupyter-widgets/base",
            "overflow": null,
            "_model_module_version": "1.2.0",
            "_view_count": null,
            "flex_flow": null,
            "width": null,
            "min_width": null,
            "border": null,
            "align_items": null,
            "bottom": null,
            "_model_module": "@jupyter-widgets/base",
            "top": null,
            "grid_column": null,
            "overflow_y": null,
            "overflow_x": null,
            "grid_auto_flow": null,
            "grid_area": null,
            "grid_template_columns": null,
            "flex": null,
            "_model_name": "LayoutModel",
            "justify_items": null,
            "grid_row": null,
            "max_height": null,
            "align_content": null,
            "visibility": null,
            "align_self": null,
            "height": null,
            "min_height": null,
            "padding": null,
            "grid_auto_rows": null,
            "grid_gap": null,
            "max_width": null,
            "order": null,
            "_view_module_version": "1.2.0",
            "grid_template_areas": null,
            "object_position": null,
            "object_fit": null,
            "grid_auto_columns": null,
            "margin": null,
            "display": null,
            "left": null
          }
        },
        "9afc069d3b97487299177e02a436e4b4": {
          "model_module": "@jupyter-widgets/controls",
          "model_name": "FloatSliderModel",
          "state": {
            "_view_name": "FloatSliderView",
            "style": "IPY_MODEL_13993adadf7f4b03a122a7267d6b9a0f",
            "_dom_classes": [],
            "description": "p(s = left)",
            "step": 0.01,
            "_model_name": "FloatSliderModel",
            "orientation": "horizontal",
            "max": 0.99,
            "_view_module": "@jupyter-widgets/controls",
            "_model_module_version": "1.5.0",
            "value": 0.6,
            "_view_count": null,
            "disabled": false,
            "_view_module_version": "1.5.0",
            "min": 0.01,
            "continuous_update": true,
            "readout_format": ".2f",
            "description_tooltip": null,
            "readout": true,
            "_model_module": "@jupyter-widgets/controls",
            "layout": "IPY_MODEL_4cfdf7f514ce4dd5b4c5af496c818c3e"
          }
        },
        "1064c17bab974e6c8db12ad7528696f8": {
          "model_module": "@jupyter-widgets/controls",
          "model_name": "HBoxModel",
          "state": {
            "_view_name": "HBoxView",
            "_dom_classes": [],
            "_model_name": "HBoxModel",
            "_view_module": "@jupyter-widgets/controls",
            "_model_module_version": "1.5.0",
            "_view_count": null,
            "_view_module_version": "1.5.0",
            "box_style": "",
            "layout": "IPY_MODEL_86706c3655364b47bdfaa4da0465e26e",
            "_model_module": "@jupyter-widgets/controls",
            "children": [
              "IPY_MODEL_91679b555edf4c558f8fd8a83fe31a65",
              "IPY_MODEL_607227da27254cf1b2b5e9b6b8db0b89"
            ]
          }
        },
        "cce36fb847d446d7b566cdfad1878d91": {
          "model_module": "@jupyter-widgets/controls",
          "model_name": "ToggleButtonsModel",
          "state": {
            "_options_labels": [
              "Fish",
              "No Fish"
            ],
            "_view_name": "ToggleButtonsView",
            "style": "IPY_MODEL_1fd5a29a2a174b8e9045fb9dbfe1c363",
            "_dom_classes": [],
            "description": "Observation (m) on the left:",
            "_model_name": "ToggleButtonsModel",
            "tooltips": [],
            "index": 0,
            "button_style": "",
            "_view_module": "@jupyter-widgets/controls",
            "_model_module_version": "1.5.0",
            "_view_count": null,
            "disabled": false,
            "_view_module_version": "1.5.0",
            "icons": [],
            "description_tooltip": null,
            "_model_module": "@jupyter-widgets/controls",
            "layout": "IPY_MODEL_0477cd202f5143229c33c8b4af387623"
          }
        },
        "13993adadf7f4b03a122a7267d6b9a0f": {
          "model_module": "@jupyter-widgets/controls",
          "model_name": "SliderStyleModel",
          "state": {
            "_view_name": "StyleView",
            "handle_color": null,
            "_model_name": "SliderStyleModel",
            "description_width": "",
            "_view_module": "@jupyter-widgets/base",
            "_model_module_version": "1.5.0",
            "_view_count": null,
            "_view_module_version": "1.2.0",
            "_model_module": "@jupyter-widgets/controls"
          }
        },
        "4cfdf7f514ce4dd5b4c5af496c818c3e": {
          "model_module": "@jupyter-widgets/base",
          "model_name": "LayoutModel",
          "state": {
            "_view_name": "LayoutView",
            "grid_template_rows": null,
            "right": null,
            "justify_content": null,
            "_view_module": "@jupyter-widgets/base",
            "overflow": null,
            "_model_module_version": "1.2.0",
            "_view_count": null,
            "flex_flow": null,
            "width": null,
            "min_width": null,
            "border": null,
            "align_items": null,
            "bottom": null,
            "_model_module": "@jupyter-widgets/base",
            "top": null,
            "grid_column": null,
            "overflow_y": null,
            "overflow_x": null,
            "grid_auto_flow": null,
            "grid_area": null,
            "grid_template_columns": null,
            "flex": null,
            "_model_name": "LayoutModel",
            "justify_items": null,
            "grid_row": null,
            "max_height": null,
            "align_content": null,
            "visibility": null,
            "align_self": null,
            "height": null,
            "min_height": null,
            "padding": null,
            "grid_auto_rows": null,
            "grid_gap": null,
            "max_width": null,
            "order": null,
            "_view_module_version": "1.2.0",
            "grid_template_areas": null,
            "object_position": null,
            "object_fit": null,
            "grid_auto_columns": null,
            "margin": null,
            "display": null,
            "left": null
          }
        },
        "86706c3655364b47bdfaa4da0465e26e": {
          "model_module": "@jupyter-widgets/base",
          "model_name": "LayoutModel",
          "state": {
            "_view_name": "LayoutView",
            "grid_template_rows": null,
            "right": null,
            "justify_content": null,
            "_view_module": "@jupyter-widgets/base",
            "overflow": null,
            "_model_module_version": "1.2.0",
            "_view_count": null,
            "flex_flow": null,
            "width": null,
            "min_width": null,
            "border": null,
            "align_items": null,
            "bottom": null,
            "_model_module": "@jupyter-widgets/base",
            "top": null,
            "grid_column": null,
            "overflow_y": null,
            "overflow_x": null,
            "grid_auto_flow": null,
            "grid_area": null,
            "grid_template_columns": null,
            "flex": null,
            "_model_name": "LayoutModel",
            "justify_items": null,
            "grid_row": null,
            "max_height": null,
            "align_content": null,
            "visibility": null,
            "align_self": null,
            "height": null,
            "min_height": null,
            "padding": null,
            "grid_auto_rows": null,
            "grid_gap": null,
            "max_width": null,
            "order": null,
            "_view_module_version": "1.2.0",
            "grid_template_areas": null,
            "object_position": null,
            "object_fit": null,
            "grid_auto_columns": null,
            "margin": null,
            "display": null,
            "left": null
          }
        },
        "91679b555edf4c558f8fd8a83fe31a65": {
          "model_module": "@jupyter-widgets/controls",
          "model_name": "FloatSliderModel",
          "state": {
            "_view_name": "FloatSliderView",
            "style": "IPY_MODEL_dc2c768821c343b5a271c171b575ce00",
            "_dom_classes": [],
            "description": "p(fish on left | state = left)",
            "step": 0.01,
            "_model_name": "FloatSliderModel",
            "orientation": "horizontal",
            "max": 0.99,
            "_view_module": "@jupyter-widgets/controls",
            "_model_module_version": "1.5.0",
            "value": 0.37,
            "_view_count": null,
            "disabled": false,
            "_view_module_version": "1.5.0",
            "min": 0.01,
            "continuous_update": true,
            "readout_format": ".2f",
            "description_tooltip": null,
            "readout": true,
            "_model_module": "@jupyter-widgets/controls",
            "layout": "IPY_MODEL_d11f4ab70c554b669541c1d6bb76e4db"
          }
        },
        "607227da27254cf1b2b5e9b6b8db0b89": {
          "model_module": "@jupyter-widgets/controls",
          "model_name": "FloatSliderModel",
          "state": {
            "_view_name": "FloatSliderView",
            "style": "IPY_MODEL_5d7aa125012f4f86b9eded7aa048f218",
            "_dom_classes": [],
            "description": "p(fish on left | state = right)",
            "step": 0.01,
            "_model_name": "FloatSliderModel",
            "orientation": "horizontal",
            "max": 0.99,
            "_view_module": "@jupyter-widgets/controls",
            "_model_module_version": "1.5.0",
            "value": 0.75,
            "_view_count": null,
            "disabled": false,
            "_view_module_version": "1.5.0",
            "min": 0.01,
            "continuous_update": true,
            "readout_format": ".2f",
            "description_tooltip": null,
            "readout": true,
            "_model_module": "@jupyter-widgets/controls",
            "layout": "IPY_MODEL_052fa3ea4966417f93a922883cad2f6e"
          }
        },
        "1fd5a29a2a174b8e9045fb9dbfe1c363": {
          "model_module": "@jupyter-widgets/controls",
          "model_name": "ToggleButtonsStyleModel",
          "state": {
            "_view_name": "StyleView",
            "button_width": "",
            "_model_name": "ToggleButtonsStyleModel",
            "description_width": "initial",
            "_view_module": "@jupyter-widgets/base",
            "_model_module_version": "1.5.0",
            "_view_count": null,
            "font_weight": "",
            "_view_module_version": "1.2.0",
            "_model_module": "@jupyter-widgets/controls"
          }
        },
        "0477cd202f5143229c33c8b4af387623": {
          "model_module": "@jupyter-widgets/base",
          "model_name": "LayoutModel",
          "state": {
            "_view_name": "LayoutView",
            "grid_template_rows": null,
            "right": null,
            "justify_content": null,
            "_view_module": "@jupyter-widgets/base",
            "overflow": null,
            "_model_module_version": "1.2.0",
            "_view_count": null,
            "flex_flow": null,
            "width": "auto",
            "min_width": null,
            "border": null,
            "align_items": null,
            "bottom": null,
            "_model_module": "@jupyter-widgets/base",
            "top": null,
            "grid_column": null,
            "overflow_y": null,
            "overflow_x": null,
            "grid_auto_flow": null,
            "grid_area": null,
            "grid_template_columns": null,
            "flex": null,
            "_model_name": "LayoutModel",
            "justify_items": null,
            "grid_row": null,
            "max_height": null,
            "align_content": null,
            "visibility": null,
            "align_self": null,
            "height": null,
            "min_height": null,
            "padding": null,
            "grid_auto_rows": null,
            "grid_gap": null,
            "max_width": null,
            "order": null,
            "_view_module_version": "1.2.0",
            "grid_template_areas": null,
            "object_position": null,
            "object_fit": null,
            "grid_auto_columns": null,
            "margin": null,
            "display": "flex",
            "left": null
          }
        },
        "dc2c768821c343b5a271c171b575ce00": {
          "model_module": "@jupyter-widgets/controls",
          "model_name": "SliderStyleModel",
          "state": {
            "_view_name": "StyleView",
            "handle_color": null,
            "_model_name": "SliderStyleModel",
            "description_width": "initial",
            "_view_module": "@jupyter-widgets/base",
            "_model_module_version": "1.5.0",
            "_view_count": null,
            "_view_module_version": "1.2.0",
            "_model_module": "@jupyter-widgets/controls"
          }
        },
        "d11f4ab70c554b669541c1d6bb76e4db": {
          "model_module": "@jupyter-widgets/base",
          "model_name": "LayoutModel",
          "state": {
            "_view_name": "LayoutView",
            "grid_template_rows": null,
            "right": null,
            "justify_content": null,
            "_view_module": "@jupyter-widgets/base",
            "overflow": null,
            "_model_module_version": "1.2.0",
            "_view_count": null,
            "flex_flow": null,
            "width": "370px",
            "min_width": null,
            "border": null,
            "align_items": null,
            "bottom": null,
            "_model_module": "@jupyter-widgets/base",
            "top": null,
            "grid_column": null,
            "overflow_y": null,
            "overflow_x": null,
            "grid_auto_flow": null,
            "grid_area": null,
            "grid_template_columns": null,
            "flex": null,
            "_model_name": "LayoutModel",
            "justify_items": null,
            "grid_row": null,
            "max_height": null,
            "align_content": null,
            "visibility": null,
            "align_self": null,
            "height": null,
            "min_height": null,
            "padding": null,
            "grid_auto_rows": null,
            "grid_gap": null,
            "max_width": null,
            "order": null,
            "_view_module_version": "1.2.0",
            "grid_template_areas": null,
            "object_position": null,
            "object_fit": null,
            "grid_auto_columns": null,
            "margin": null,
            "display": null,
            "left": null
          }
        },
        "5d7aa125012f4f86b9eded7aa048f218": {
          "model_module": "@jupyter-widgets/controls",
          "model_name": "SliderStyleModel",
          "state": {
            "_view_name": "StyleView",
            "handle_color": null,
            "_model_name": "SliderStyleModel",
            "description_width": "initial",
            "_view_module": "@jupyter-widgets/base",
            "_model_module_version": "1.5.0",
            "_view_count": null,
            "_view_module_version": "1.2.0",
            "_model_module": "@jupyter-widgets/controls"
          }
        },
        "052fa3ea4966417f93a922883cad2f6e": {
          "model_module": "@jupyter-widgets/base",
          "model_name": "LayoutModel",
          "state": {
            "_view_name": "LayoutView",
            "grid_template_rows": null,
            "right": null,
            "justify_content": null,
            "_view_module": "@jupyter-widgets/base",
            "overflow": null,
            "_model_module_version": "1.2.0",
            "_view_count": null,
            "flex_flow": null,
            "width": "370px",
            "min_width": null,
            "border": null,
            "align_items": null,
            "bottom": null,
            "_model_module": "@jupyter-widgets/base",
            "top": null,
            "grid_column": null,
            "overflow_y": null,
            "overflow_x": null,
            "grid_auto_flow": null,
            "grid_area": null,
            "grid_template_columns": null,
            "flex": null,
            "_model_name": "LayoutModel",
            "justify_items": null,
            "grid_row": null,
            "max_height": null,
            "align_content": null,
            "visibility": null,
            "align_self": null,
            "height": null,
            "min_height": null,
            "padding": null,
            "grid_auto_rows": null,
            "grid_gap": null,
            "max_width": null,
            "order": null,
            "_view_module_version": "1.2.0",
            "grid_template_areas": null,
            "object_position": null,
            "object_fit": null,
            "grid_auto_columns": null,
            "margin": null,
            "display": null,
            "left": null
          }
        },
        "aa626dd72d5d4beab0e68577f05edfc1": {
          "model_module": "@jupyter-widgets/output",
          "model_name": "OutputModel",
          "state": {
            "_view_name": "OutputView",
            "msg_id": "",
            "_dom_classes": [],
            "_model_name": "OutputModel",
            "outputs": [
              {
                "output_type": "display_data",
                "metadata": {
                  "tags": [],
                  "image/png": {
                    "width": 766,
                    "height": 345
                  },
                  "needs_background": "light"
                },
                "image/png": "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\n",
                "text/plain": "<Figure size 864x288 with 3 Axes>"
              }
            ],
            "_view_module": "@jupyter-widgets/output",
            "_model_module_version": "1.0.0",
            "_view_count": null,
            "_view_module_version": "1.0.0",
            "layout": "IPY_MODEL_325982b3a0cd48ba85089e43600c7dc4",
            "_model_module": "@jupyter-widgets/output"
          }
        },
        "325982b3a0cd48ba85089e43600c7dc4": {
          "model_module": "@jupyter-widgets/base",
          "model_name": "LayoutModel",
          "state": {
            "_view_name": "LayoutView",
            "grid_template_rows": null,
            "right": null,
            "justify_content": null,
            "_view_module": "@jupyter-widgets/base",
            "overflow": null,
            "_model_module_version": "1.2.0",
            "_view_count": null,
            "flex_flow": null,
            "width": null,
            "min_width": null,
            "border": null,
            "align_items": null,
            "bottom": null,
            "_model_module": "@jupyter-widgets/base",
            "top": null,
            "grid_column": null,
            "overflow_y": null,
            "overflow_x": null,
            "grid_auto_flow": null,
            "grid_area": null,
            "grid_template_columns": null,
            "flex": null,
            "_model_name": "LayoutModel",
            "justify_items": null,
            "grid_row": null,
            "max_height": null,
            "align_content": null,
            "visibility": null,
            "align_self": null,
            "height": null,
            "min_height": null,
            "padding": null,
            "grid_auto_rows": null,
            "grid_gap": null,
            "max_width": null,
            "order": null,
            "_view_module_version": "1.2.0",
            "grid_template_areas": null,
            "object_position": null,
            "object_fit": null,
            "grid_auto_columns": null,
            "margin": null,
            "display": null,
            "left": null
          }
        },
        "beb9692564e94b55ac352a6eef38fefa": {
          "model_module": "@jupyter-widgets/controls",
          "model_name": "TabModel",
          "state": {
            "_view_name": "TabView",
            "_dom_classes": [],
            "_titles": {
              "0": "Youtube",
              "1": "Bilibili"
            },
            "_model_name": "TabModel",
            "_view_module": "@jupyter-widgets/controls",
            "selected_index": 0,
            "_model_module_version": "1.5.0",
            "_view_count": null,
            "_view_module_version": "1.5.0",
            "box_style": "",
            "layout": "IPY_MODEL_e84d078bc6d54bdd825852f7bfb560ef",
            "_model_module": "@jupyter-widgets/controls",
            "children": [
              "IPY_MODEL_b4e5fb6f03584822bc70fe3530e7483c",
              "IPY_MODEL_ada93155cf7347ca910374b39bc8d155"
            ]
          }
        },
        "e84d078bc6d54bdd825852f7bfb560ef": {
          "model_module": "@jupyter-widgets/base",
          "model_name": "LayoutModel",
          "state": {
            "_view_name": "LayoutView",
            "grid_template_rows": null,
            "right": null,
            "justify_content": null,
            "_view_module": "@jupyter-widgets/base",
            "overflow": null,
            "_model_module_version": "1.2.0",
            "_view_count": null,
            "flex_flow": null,
            "width": null,
            "min_width": null,
            "border": null,
            "align_items": null,
            "bottom": null,
            "_model_module": "@jupyter-widgets/base",
            "top": null,
            "grid_column": null,
            "overflow_y": null,
            "overflow_x": null,
            "grid_auto_flow": null,
            "grid_area": null,
            "grid_template_columns": null,
            "flex": null,
            "_model_name": "LayoutModel",
            "justify_items": null,
            "grid_row": null,
            "max_height": null,
            "align_content": null,
            "visibility": null,
            "align_self": null,
            "height": null,
            "min_height": null,
            "padding": null,
            "grid_auto_rows": null,
            "grid_gap": null,
            "max_width": null,
            "order": null,
            "_view_module_version": "1.2.0",
            "grid_template_areas": null,
            "object_position": null,
            "object_fit": null,
            "grid_auto_columns": null,
            "margin": null,
            "display": null,
            "left": null
          }
        },
        "b4e5fb6f03584822bc70fe3530e7483c": {
          "model_module": "@jupyter-widgets/output",
          "model_name": "OutputModel",
          "state": {
            "_view_name": "OutputView",
            "msg_id": "",
            "_dom_classes": [],
            "_model_name": "OutputModel",
            "outputs": [
              {
                "output_type": "stream",
                "metadata": {
                  "tags": []
                },
                "text": "Video available at https://youtube.com/watch?v=YPQgLVolvBs\n",
                "stream": "stdout"
              },
              {
                "output_type": "display_data",
                "metadata": {
                  "tags": []
                },
                "text/html": "\n        <iframe\n            width=\"854\"\n            height=\"480\"\n            src=\"https://www.youtube.com/embed/YPQgLVolvBs?fs=1&rel=0\"\n            frameborder=\"0\"\n            allowfullscreen\n        ></iframe>\n        ",
                "text/plain": "<IPython.lib.display.YouTubeVideo at 0x7f231d589c10>",
                "image/jpeg": "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\n"
              }
            ],
            "_view_module": "@jupyter-widgets/output",
            "_model_module_version": "1.0.0",
            "_view_count": null,
            "_view_module_version": "1.0.0",
            "layout": "IPY_MODEL_383f28a3d85f40e998a46b4fc39161bc",
            "_model_module": "@jupyter-widgets/output"
          }
        },
        "ada93155cf7347ca910374b39bc8d155": {
          "model_module": "@jupyter-widgets/output",
          "model_name": "OutputModel",
          "state": {
            "_view_name": "OutputView",
            "msg_id": "",
            "_dom_classes": [],
            "_model_name": "OutputModel",
            "outputs": [
              {
                "output_type": "stream",
                "metadata": {
                  "tags": []
                },
                "text": "Video available at https://www.bilibili.com/video/BV1TU4y1G7SM\n",
                "stream": "stdout"
              },
              {
                "output_type": "display_data",
                "metadata": {
                  "tags": []
                },
                "text/html": "\n        <iframe\n            width=\"854\"\n            height=\"480\"\n            src=\"https://player.bilibili.com/player.html?bvid=BV1TU4y1G7SM&page=1?fs=1\"\n            frameborder=\"0\"\n            allowfullscreen\n        ></iframe>\n        ",
                "text/plain": "<__main__.BiliVideo at 0x7f231d6b5350>"
              }
            ],
            "_view_module": "@jupyter-widgets/output",
            "_model_module_version": "1.0.0",
            "_view_count": null,
            "_view_module_version": "1.0.0",
            "layout": "IPY_MODEL_eadcb48db03d4ae7b4de8777823dec0f",
            "_model_module": "@jupyter-widgets/output"
          }
        },
        "383f28a3d85f40e998a46b4fc39161bc": {
          "model_module": "@jupyter-widgets/base",
          "model_name": "LayoutModel",
          "state": {
            "_view_name": "LayoutView",
            "grid_template_rows": null,
            "right": null,
            "justify_content": null,
            "_view_module": "@jupyter-widgets/base",
            "overflow": null,
            "_model_module_version": "1.2.0",
            "_view_count": null,
            "flex_flow": null,
            "width": null,
            "min_width": null,
            "border": null,
            "align_items": null,
            "bottom": null,
            "_model_module": "@jupyter-widgets/base",
            "top": null,
            "grid_column": null,
            "overflow_y": null,
            "overflow_x": null,
            "grid_auto_flow": null,
            "grid_area": null,
            "grid_template_columns": null,
            "flex": null,
            "_model_name": "LayoutModel",
            "justify_items": null,
            "grid_row": null,
            "max_height": null,
            "align_content": null,
            "visibility": null,
            "align_self": null,
            "height": null,
            "min_height": null,
            "padding": null,
            "grid_auto_rows": null,
            "grid_gap": null,
            "max_width": null,
            "order": null,
            "_view_module_version": "1.2.0",
            "grid_template_areas": null,
            "object_position": null,
            "object_fit": null,
            "grid_auto_columns": null,
            "margin": null,
            "display": null,
            "left": null
          }
        },
        "eadcb48db03d4ae7b4de8777823dec0f": {
          "model_module": "@jupyter-widgets/base",
          "model_name": "LayoutModel",
          "state": {
            "_view_name": "LayoutView",
            "grid_template_rows": null,
            "right": null,
            "justify_content": null,
            "_view_module": "@jupyter-widgets/base",
            "overflow": null,
            "_model_module_version": "1.2.0",
            "_view_count": null,
            "flex_flow": null,
            "width": null,
            "min_width": null,
            "border": null,
            "align_items": null,
            "bottom": null,
            "_model_module": "@jupyter-widgets/base",
            "top": null,
            "grid_column": null,
            "overflow_y": null,
            "overflow_x": null,
            "grid_auto_flow": null,
            "grid_area": null,
            "grid_template_columns": null,
            "flex": null,
            "_model_name": "LayoutModel",
            "justify_items": null,
            "grid_row": null,
            "max_height": null,
            "align_content": null,
            "visibility": null,
            "align_self": null,
            "height": null,
            "min_height": null,
            "padding": null,
            "grid_auto_rows": null,
            "grid_gap": null,
            "max_width": null,
            "order": null,
            "_view_module_version": "1.2.0",
            "grid_template_areas": null,
            "object_position": null,
            "object_fit": null,
            "grid_auto_columns": null,
            "margin": null,
            "display": null,
            "left": null
          }
        },
        "9a607ac5604e40778f3db468fb6890d4": {
          "model_module": "@jupyter-widgets/controls",
          "model_name": "TabModel",
          "state": {
            "_view_name": "TabView",
            "_dom_classes": [],
            "_titles": {
              "0": "Youtube",
              "1": "Bilibili"
            },
            "_model_name": "TabModel",
            "_view_module": "@jupyter-widgets/controls",
            "selected_index": 0,
            "_model_module_version": "1.5.0",
            "_view_count": null,
            "_view_module_version": "1.5.0",
            "box_style": "",
            "layout": "IPY_MODEL_e65c9bc4c22c47009edf4f5e9a0f0041",
            "_model_module": "@jupyter-widgets/controls",
            "children": [
              "IPY_MODEL_ceafc17e99354f4a814c7423afd24411",
              "IPY_MODEL_f714f0a2dd304e7c9c41e0f81e45d2a5"
            ]
          }
        },
        "e65c9bc4c22c47009edf4f5e9a0f0041": {
          "model_module": "@jupyter-widgets/base",
          "model_name": "LayoutModel",
          "state": {
            "_view_name": "LayoutView",
            "grid_template_rows": null,
            "right": null,
            "justify_content": null,
            "_view_module": "@jupyter-widgets/base",
            "overflow": null,
            "_model_module_version": "1.2.0",
            "_view_count": null,
            "flex_flow": null,
            "width": null,
            "min_width": null,
            "border": null,
            "align_items": null,
            "bottom": null,
            "_model_module": "@jupyter-widgets/base",
            "top": null,
            "grid_column": null,
            "overflow_y": null,
            "overflow_x": null,
            "grid_auto_flow": null,
            "grid_area": null,
            "grid_template_columns": null,
            "flex": null,
            "_model_name": "LayoutModel",
            "justify_items": null,
            "grid_row": null,
            "max_height": null,
            "align_content": null,
            "visibility": null,
            "align_self": null,
            "height": null,
            "min_height": null,
            "padding": null,
            "grid_auto_rows": null,
            "grid_gap": null,
            "max_width": null,
            "order": null,
            "_view_module_version": "1.2.0",
            "grid_template_areas": null,
            "object_position": null,
            "object_fit": null,
            "grid_auto_columns": null,
            "margin": null,
            "display": null,
            "left": null
          }
        },
        "ceafc17e99354f4a814c7423afd24411": {
          "model_module": "@jupyter-widgets/output",
          "model_name": "OutputModel",
          "state": {
            "_view_name": "OutputView",
            "msg_id": "",
            "_dom_classes": [],
            "_model_name": "OutputModel",
            "outputs": [
              {
                "output_type": "stream",
                "metadata": {
                  "tags": []
                },
                "text": "Video available at https://youtube.com/watch?v=tz9zsmTHR68\n",
                "stream": "stdout"
              },
              {
                "output_type": "display_data",
                "metadata": {
                  "tags": []
                },
                "text/html": "\n        <iframe\n            width=\"854\"\n            height=\"480\"\n            src=\"https://www.youtube.com/embed/tz9zsmTHR68?fs=1&rel=0\"\n            frameborder=\"0\"\n            allowfullscreen\n        ></iframe>\n        ",
                "text/plain": "<IPython.lib.display.YouTubeVideo at 0x7f231d382dd0>",
                "image/jpeg": "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\n"
              }
            ],
            "_view_module": "@jupyter-widgets/output",
            "_model_module_version": "1.0.0",
            "_view_count": null,
            "_view_module_version": "1.0.0",
            "layout": "IPY_MODEL_fc434295086d443aa7bfa39fd688e086",
            "_model_module": "@jupyter-widgets/output"
          }
        },
        "f714f0a2dd304e7c9c41e0f81e45d2a5": {
          "model_module": "@jupyter-widgets/output",
          "model_name": "OutputModel",
          "state": {
            "_view_name": "OutputView",
            "msg_id": "",
            "_dom_classes": [],
            "_model_name": "OutputModel",
            "outputs": [
              {
                "output_type": "stream",
                "metadata": {
                  "tags": []
                },
                "text": "Video available at https://www.bilibili.com/video/BV1954y1n7uH\n",
                "stream": "stdout"
              },
              {
                "output_type": "display_data",
                "metadata": {
                  "tags": []
                },
                "text/html": "\n        <iframe\n            width=\"854\"\n            height=\"480\"\n            src=\"https://player.bilibili.com/player.html?bvid=BV1954y1n7uH&page=1?fs=1\"\n            frameborder=\"0\"\n            allowfullscreen\n        ></iframe>\n        ",
                "text/plain": "<__main__.BiliVideo at 0x7f231e0b2c10>"
              }
            ],
            "_view_module": "@jupyter-widgets/output",
            "_model_module_version": "1.0.0",
            "_view_count": null,
            "_view_module_version": "1.0.0",
            "layout": "IPY_MODEL_6379cc2898ec43d691c181dd8a7adf55",
            "_model_module": "@jupyter-widgets/output"
          }
        },
        "fc434295086d443aa7bfa39fd688e086": {
          "model_module": "@jupyter-widgets/base",
          "model_name": "LayoutModel",
          "state": {
            "_view_name": "LayoutView",
            "grid_template_rows": null,
            "right": null,
            "justify_content": null,
            "_view_module": "@jupyter-widgets/base",
            "overflow": null,
            "_model_module_version": "1.2.0",
            "_view_count": null,
            "flex_flow": null,
            "width": null,
            "min_width": null,
            "border": null,
            "align_items": null,
            "bottom": null,
            "_model_module": "@jupyter-widgets/base",
            "top": null,
            "grid_column": null,
            "overflow_y": null,
            "overflow_x": null,
            "grid_auto_flow": null,
            "grid_area": null,
            "grid_template_columns": null,
            "flex": null,
            "_model_name": "LayoutModel",
            "justify_items": null,
            "grid_row": null,
            "max_height": null,
            "align_content": null,
            "visibility": null,
            "align_self": null,
            "height": null,
            "min_height": null,
            "padding": null,
            "grid_auto_rows": null,
            "grid_gap": null,
            "max_width": null,
            "order": null,
            "_view_module_version": "1.2.0",
            "grid_template_areas": null,
            "object_position": null,
            "object_fit": null,
            "grid_auto_columns": null,
            "margin": null,
            "display": null,
            "left": null
          }
        },
        "6379cc2898ec43d691c181dd8a7adf55": {
          "model_module": "@jupyter-widgets/base",
          "model_name": "LayoutModel",
          "state": {
            "_view_name": "LayoutView",
            "grid_template_rows": null,
            "right": null,
            "justify_content": null,
            "_view_module": "@jupyter-widgets/base",
            "overflow": null,
            "_model_module_version": "1.2.0",
            "_view_count": null,
            "flex_flow": null,
            "width": null,
            "min_width": null,
            "border": null,
            "align_items": null,
            "bottom": null,
            "_model_module": "@jupyter-widgets/base",
            "top": null,
            "grid_column": null,
            "overflow_y": null,
            "overflow_x": null,
            "grid_auto_flow": null,
            "grid_area": null,
            "grid_template_columns": null,
            "flex": null,
            "_model_name": "LayoutModel",
            "justify_items": null,
            "grid_row": null,
            "max_height": null,
            "align_content": null,
            "visibility": null,
            "align_self": null,
            "height": null,
            "min_height": null,
            "padding": null,
            "grid_auto_rows": null,
            "grid_gap": null,
            "max_width": null,
            "order": null,
            "_view_module_version": "1.2.0",
            "grid_template_areas": null,
            "object_position": null,
            "object_fit": null,
            "grid_auto_columns": null,
            "margin": null,
            "display": null,
            "left": null
          }
        },
        "eb2dea84e38d4b83ad69a1db8c4e07cd": {
          "model_module": "@jupyter-widgets/controls",
          "model_name": "VBoxModel",
          "state": {
            "_view_name": "VBoxView",
            "_dom_classes": [],
            "_model_name": "VBoxModel",
            "_view_module": "@jupyter-widgets/controls",
            "_model_module_version": "1.5.0",
            "_view_count": null,
            "_view_module_version": "1.5.0",
            "box_style": "",
            "layout": "IPY_MODEL_be398939d152482c81e68b118f8dbf3a",
            "_model_module": "@jupyter-widgets/controls",
            "children": [
              "IPY_MODEL_0357adf9f4a9469894946fd54edd2434",
              "IPY_MODEL_9685039bfd3346a7894392ecb7bee649",
              "IPY_MODEL_d0ad394d4d4b4b34aab59f1667f2a7ce"
            ]
          }
        },
        "be398939d152482c81e68b118f8dbf3a": {
          "model_module": "@jupyter-widgets/base",
          "model_name": "LayoutModel",
          "state": {
            "_view_name": "LayoutView",
            "grid_template_rows": null,
            "right": null,
            "justify_content": null,
            "_view_module": "@jupyter-widgets/base",
            "overflow": null,
            "_model_module_version": "1.2.0",
            "_view_count": null,
            "flex_flow": null,
            "width": null,
            "min_width": null,
            "border": null,
            "align_items": null,
            "bottom": null,
            "_model_module": "@jupyter-widgets/base",
            "top": null,
            "grid_column": null,
            "overflow_y": null,
            "overflow_x": null,
            "grid_auto_flow": null,
            "grid_area": null,
            "grid_template_columns": null,
            "flex": null,
            "_model_name": "LayoutModel",
            "justify_items": null,
            "grid_row": null,
            "max_height": null,
            "align_content": null,
            "visibility": null,
            "align_self": null,
            "height": null,
            "min_height": null,
            "padding": null,
            "grid_auto_rows": null,
            "grid_gap": null,
            "max_width": null,
            "order": null,
            "_view_module_version": "1.2.0",
            "grid_template_areas": null,
            "object_position": null,
            "object_fit": null,
            "grid_auto_columns": null,
            "margin": null,
            "display": null,
            "left": null
          }
        },
        "0357adf9f4a9469894946fd54edd2434": {
          "model_module": "@jupyter-widgets/controls",
          "model_name": "FloatSliderModel",
          "state": {
            "_view_name": "FloatSliderView",
            "style": "IPY_MODEL_f8bdcd03e1254ed1b884d7180a0cb960",
            "_dom_classes": [],
            "description": "p(s = left)",
            "step": 0.01,
            "_model_name": "FloatSliderModel",
            "orientation": "horizontal",
            "max": 0.99,
            "_view_module": "@jupyter-widgets/controls",
            "_model_module_version": "1.5.0",
            "value": 0.45,
            "_view_count": null,
            "disabled": false,
            "_view_module_version": "1.5.0",
            "min": 0.01,
            "continuous_update": true,
            "readout_format": ".2f",
            "description_tooltip": null,
            "readout": true,
            "_model_module": "@jupyter-widgets/controls",
            "layout": "IPY_MODEL_7ddd9667f2fe454f83b48e7b62fc4caa"
          }
        },
        "9685039bfd3346a7894392ecb7bee649": {
          "model_module": "@jupyter-widgets/controls",
          "model_name": "HBoxModel",
          "state": {
            "_view_name": "HBoxView",
            "_dom_classes": [],
            "_model_name": "HBoxModel",
            "_view_module": "@jupyter-widgets/controls",
            "_model_module_version": "1.5.0",
            "_view_count": null,
            "_view_module_version": "1.5.0",
            "box_style": "",
            "layout": "IPY_MODEL_48b23622525f4b199c7a81fa83888b10",
            "_model_module": "@jupyter-widgets/controls",
            "children": [
              "IPY_MODEL_016f153c4e9441cb9d388790f63bee25",
              "IPY_MODEL_463ac58c49894481be7ec701006764fe"
            ]
          }
        },
        "d0ad394d4d4b4b34aab59f1667f2a7ce": {
          "model_module": "@jupyter-widgets/controls",
          "model_name": "ToggleButtonsModel",
          "state": {
            "_options_labels": [
              "Fish",
              "No Fish"
            ],
            "_view_name": "ToggleButtonsView",
            "style": "IPY_MODEL_f87a48757ac54c528136e78d3422fbd5",
            "_dom_classes": [],
            "description": "Observation (m) on the left:",
            "_model_name": "ToggleButtonsModel",
            "tooltips": [],
            "index": 1,
            "button_style": "",
            "_view_module": "@jupyter-widgets/controls",
            "_model_module_version": "1.5.0",
            "_view_count": null,
            "disabled": false,
            "_view_module_version": "1.5.0",
            "icons": [],
            "description_tooltip": null,
            "_model_module": "@jupyter-widgets/controls",
            "layout": "IPY_MODEL_5ca19689992a456b9e1b8c235d105093"
          }
        },
        "f8bdcd03e1254ed1b884d7180a0cb960": {
          "model_module": "@jupyter-widgets/controls",
          "model_name": "SliderStyleModel",
          "state": {
            "_view_name": "StyleView",
            "handle_color": null,
            "_model_name": "SliderStyleModel",
            "description_width": "",
            "_view_module": "@jupyter-widgets/base",
            "_model_module_version": "1.5.0",
            "_view_count": null,
            "_view_module_version": "1.2.0",
            "_model_module": "@jupyter-widgets/controls"
          }
        },
        "7ddd9667f2fe454f83b48e7b62fc4caa": {
          "model_module": "@jupyter-widgets/base",
          "model_name": "LayoutModel",
          "state": {
            "_view_name": "LayoutView",
            "grid_template_rows": null,
            "right": null,
            "justify_content": null,
            "_view_module": "@jupyter-widgets/base",
            "overflow": null,
            "_model_module_version": "1.2.0",
            "_view_count": null,
            "flex_flow": null,
            "width": "300px",
            "min_width": null,
            "border": null,
            "align_items": null,
            "bottom": null,
            "_model_module": "@jupyter-widgets/base",
            "top": null,
            "grid_column": null,
            "overflow_y": null,
            "overflow_x": null,
            "grid_auto_flow": null,
            "grid_area": null,
            "grid_template_columns": null,
            "flex": null,
            "_model_name": "LayoutModel",
            "justify_items": null,
            "grid_row": null,
            "max_height": null,
            "align_content": null,
            "visibility": null,
            "align_self": null,
            "height": null,
            "min_height": null,
            "padding": null,
            "grid_auto_rows": null,
            "grid_gap": null,
            "max_width": null,
            "order": null,
            "_view_module_version": "1.2.0",
            "grid_template_areas": null,
            "object_position": null,
            "object_fit": null,
            "grid_auto_columns": null,
            "margin": null,
            "display": null,
            "left": null
          }
        },
        "48b23622525f4b199c7a81fa83888b10": {
          "model_module": "@jupyter-widgets/base",
          "model_name": "LayoutModel",
          "state": {
            "_view_name": "LayoutView",
            "grid_template_rows": null,
            "right": null,
            "justify_content": null,
            "_view_module": "@jupyter-widgets/base",
            "overflow": null,
            "_model_module_version": "1.2.0",
            "_view_count": null,
            "flex_flow": null,
            "width": null,
            "min_width": null,
            "border": null,
            "align_items": null,
            "bottom": null,
            "_model_module": "@jupyter-widgets/base",
            "top": null,
            "grid_column": null,
            "overflow_y": null,
            "overflow_x": null,
            "grid_auto_flow": null,
            "grid_area": null,
            "grid_template_columns": null,
            "flex": null,
            "_model_name": "LayoutModel",
            "justify_items": null,
            "grid_row": null,
            "max_height": null,
            "align_content": null,
            "visibility": null,
            "align_self": null,
            "height": null,
            "min_height": null,
            "padding": null,
            "grid_auto_rows": null,
            "grid_gap": null,
            "max_width": null,
            "order": null,
            "_view_module_version": "1.2.0",
            "grid_template_areas": null,
            "object_position": null,
            "object_fit": null,
            "grid_auto_columns": null,
            "margin": null,
            "display": null,
            "left": null
          }
        },
        "016f153c4e9441cb9d388790f63bee25": {
          "model_module": "@jupyter-widgets/controls",
          "model_name": "FloatSliderModel",
          "state": {
            "_view_name": "FloatSliderView",
            "style": "IPY_MODEL_c0532f30b68d429c933fdc144e747416",
            "_dom_classes": [],
            "description": "p(fish on left | state = left)",
            "step": 0.01,
            "_model_name": "FloatSliderModel",
            "orientation": "horizontal",
            "max": 0.99,
            "_view_module": "@jupyter-widgets/controls",
            "_model_module_version": "1.5.0",
            "value": 0.5,
            "_view_count": null,
            "disabled": false,
            "_view_module_version": "1.5.0",
            "min": 0.01,
            "continuous_update": true,
            "readout_format": ".2f",
            "description_tooltip": null,
            "readout": true,
            "_model_module": "@jupyter-widgets/controls",
            "layout": "IPY_MODEL_b7c99c26b96e481d837f0a3bc1191b4b"
          }
        },
        "463ac58c49894481be7ec701006764fe": {
          "model_module": "@jupyter-widgets/controls",
          "model_name": "FloatSliderModel",
          "state": {
            "_view_name": "FloatSliderView",
            "style": "IPY_MODEL_eff8874ed37841fc99cdfc244b602ca9",
            "_dom_classes": [],
            "description": "p(fish on left | state = right)",
            "step": 0.01,
            "_model_name": "FloatSliderModel",
            "orientation": "horizontal",
            "max": 0.99,
            "_view_module": "@jupyter-widgets/controls",
            "_model_module_version": "1.5.0",
            "value": 0.55,
            "_view_count": null,
            "disabled": false,
            "_view_module_version": "1.5.0",
            "min": 0.01,
            "continuous_update": true,
            "readout_format": ".2f",
            "description_tooltip": null,
            "readout": true,
            "_model_module": "@jupyter-widgets/controls",
            "layout": "IPY_MODEL_fe33385c7007436589aa927d362ef97a"
          }
        },
        "f87a48757ac54c528136e78d3422fbd5": {
          "model_module": "@jupyter-widgets/controls",
          "model_name": "ToggleButtonsStyleModel",
          "state": {
            "_view_name": "StyleView",
            "button_width": "",
            "_model_name": "ToggleButtonsStyleModel",
            "description_width": "initial",
            "_view_module": "@jupyter-widgets/base",
            "_model_module_version": "1.5.0",
            "_view_count": null,
            "font_weight": "",
            "_view_module_version": "1.2.0",
            "_model_module": "@jupyter-widgets/controls"
          }
        },
        "5ca19689992a456b9e1b8c235d105093": {
          "model_module": "@jupyter-widgets/base",
          "model_name": "LayoutModel",
          "state": {
            "_view_name": "LayoutView",
            "grid_template_rows": null,
            "right": null,
            "justify_content": null,
            "_view_module": "@jupyter-widgets/base",
            "overflow": null,
            "_model_module_version": "1.2.0",
            "_view_count": null,
            "flex_flow": null,
            "width": "auto",
            "min_width": null,
            "border": null,
            "align_items": null,
            "bottom": null,
            "_model_module": "@jupyter-widgets/base",
            "top": null,
            "grid_column": null,
            "overflow_y": null,
            "overflow_x": null,
            "grid_auto_flow": null,
            "grid_area": null,
            "grid_template_columns": null,
            "flex": null,
            "_model_name": "LayoutModel",
            "justify_items": null,
            "grid_row": null,
            "max_height": null,
            "align_content": null,
            "visibility": null,
            "align_self": null,
            "height": null,
            "min_height": null,
            "padding": null,
            "grid_auto_rows": null,
            "grid_gap": null,
            "max_width": null,
            "order": null,
            "_view_module_version": "1.2.0",
            "grid_template_areas": null,
            "object_position": null,
            "object_fit": null,
            "grid_auto_columns": null,
            "margin": null,
            "display": "flex",
            "left": null
          }
        },
        "c0532f30b68d429c933fdc144e747416": {
          "model_module": "@jupyter-widgets/controls",
          "model_name": "SliderStyleModel",
          "state": {
            "_view_name": "StyleView",
            "handle_color": null,
            "_model_name": "SliderStyleModel",
            "description_width": "initial",
            "_view_module": "@jupyter-widgets/base",
            "_model_module_version": "1.5.0",
            "_view_count": null,
            "_view_module_version": "1.2.0",
            "_model_module": "@jupyter-widgets/controls"
          }
        },
        "b7c99c26b96e481d837f0a3bc1191b4b": {
          "model_module": "@jupyter-widgets/base",
          "model_name": "LayoutModel",
          "state": {
            "_view_name": "LayoutView",
            "grid_template_rows": null,
            "right": null,
            "justify_content": null,
            "_view_module": "@jupyter-widgets/base",
            "overflow": null,
            "_model_module_version": "1.2.0",
            "_view_count": null,
            "flex_flow": null,
            "width": "370px",
            "min_width": null,
            "border": null,
            "align_items": null,
            "bottom": null,
            "_model_module": "@jupyter-widgets/base",
            "top": null,
            "grid_column": null,
            "overflow_y": null,
            "overflow_x": null,
            "grid_auto_flow": null,
            "grid_area": null,
            "grid_template_columns": null,
            "flex": null,
            "_model_name": "LayoutModel",
            "justify_items": null,
            "grid_row": null,
            "max_height": null,
            "align_content": null,
            "visibility": null,
            "align_self": null,
            "height": null,
            "min_height": null,
            "padding": null,
            "grid_auto_rows": null,
            "grid_gap": null,
            "max_width": null,
            "order": null,
            "_view_module_version": "1.2.0",
            "grid_template_areas": null,
            "object_position": null,
            "object_fit": null,
            "grid_auto_columns": null,
            "margin": null,
            "display": null,
            "left": null
          }
        },
        "eff8874ed37841fc99cdfc244b602ca9": {
          "model_module": "@jupyter-widgets/controls",
          "model_name": "SliderStyleModel",
          "state": {
            "_view_name": "StyleView",
            "handle_color": null,
            "_model_name": "SliderStyleModel",
            "description_width": "initial",
            "_view_module": "@jupyter-widgets/base",
            "_model_module_version": "1.5.0",
            "_view_count": null,
            "_view_module_version": "1.2.0",
            "_model_module": "@jupyter-widgets/controls"
          }
        },
        "fe33385c7007436589aa927d362ef97a": {
          "model_module": "@jupyter-widgets/base",
          "model_name": "LayoutModel",
          "state": {
            "_view_name": "LayoutView",
            "grid_template_rows": null,
            "right": null,
            "justify_content": null,
            "_view_module": "@jupyter-widgets/base",
            "overflow": null,
            "_model_module_version": "1.2.0",
            "_view_count": null,
            "flex_flow": null,
            "width": "370px",
            "min_width": null,
            "border": null,
            "align_items": null,
            "bottom": null,
            "_model_module": "@jupyter-widgets/base",
            "top": null,
            "grid_column": null,
            "overflow_y": null,
            "overflow_x": null,
            "grid_auto_flow": null,
            "grid_area": null,
            "grid_template_columns": null,
            "flex": null,
            "_model_name": "LayoutModel",
            "justify_items": null,
            "grid_row": null,
            "max_height": null,
            "align_content": null,
            "visibility": null,
            "align_self": null,
            "height": null,
            "min_height": null,
            "padding": null,
            "grid_auto_rows": null,
            "grid_gap": null,
            "max_width": null,
            "order": null,
            "_view_module_version": "1.2.0",
            "grid_template_areas": null,
            "object_position": null,
            "object_fit": null,
            "grid_auto_columns": null,
            "margin": null,
            "display": null,
            "left": null
          }
        },
        "9ee6ed6fe32749cea99cbbe02aa27eb5": {
          "model_module": "@jupyter-widgets/output",
          "model_name": "OutputModel",
          "state": {
            "_view_name": "OutputView",
            "msg_id": "",
            "_dom_classes": [],
            "_model_name": "OutputModel",
            "outputs": [
              {
                "output_type": "display_data",
                "metadata": {
                  "tags": [],
                  "image/png": {
                    "width": 646,
                    "height": 549
                  },
                  "needs_background": "light"
                },
                "image/png": "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\n",
                "text/plain": "<Figure size 720x648 with 5 Axes>"
              }
            ],
            "_view_module": "@jupyter-widgets/output",
            "_model_module_version": "1.0.0",
            "_view_count": null,
            "_view_module_version": "1.0.0",
            "layout": "IPY_MODEL_b20be6e2d685462c9e39490630b3cbb8",
            "_model_module": "@jupyter-widgets/output"
          }
        },
        "b20be6e2d685462c9e39490630b3cbb8": {
          "model_module": "@jupyter-widgets/base",
          "model_name": "LayoutModel",
          "state": {
            "_view_name": "LayoutView",
            "grid_template_rows": null,
            "right": null,
            "justify_content": null,
            "_view_module": "@jupyter-widgets/base",
            "overflow": null,
            "_model_module_version": "1.2.0",
            "_view_count": null,
            "flex_flow": null,
            "width": null,
            "min_width": null,
            "border": null,
            "align_items": null,
            "bottom": null,
            "_model_module": "@jupyter-widgets/base",
            "top": null,
            "grid_column": null,
            "overflow_y": null,
            "overflow_x": null,
            "grid_auto_flow": null,
            "grid_area": null,
            "grid_template_columns": null,
            "flex": null,
            "_model_name": "LayoutModel",
            "justify_items": null,
            "grid_row": null,
            "max_height": null,
            "align_content": null,
            "visibility": null,
            "align_self": null,
            "height": null,
            "min_height": null,
            "padding": null,
            "grid_auto_rows": null,
            "grid_gap": null,
            "max_width": null,
            "order": null,
            "_view_module_version": "1.2.0",
            "grid_template_areas": null,
            "object_position": null,
            "object_fit": null,
            "grid_auto_columns": null,
            "margin": null,
            "display": null,
            "left": null
          }
        },
        "430ea003161840fb91a476b688767aaa": {
          "model_module": "@jupyter-widgets/controls",
          "model_name": "TabModel",
          "state": {
            "_view_name": "TabView",
            "_dom_classes": [],
            "_titles": {
              "0": "Youtube",
              "1": "Bilibili"
            },
            "_model_name": "TabModel",
            "_view_module": "@jupyter-widgets/controls",
            "selected_index": 0,
            "_model_module_version": "1.5.0",
            "_view_count": null,
            "_view_module_version": "1.5.0",
            "box_style": "",
            "layout": "IPY_MODEL_0fafbe45d6f44720976c9bde8aa613f5",
            "_model_module": "@jupyter-widgets/controls",
            "children": [
              "IPY_MODEL_96280eb14408483eb43c86e49177b8f4",
              "IPY_MODEL_632ca24eeb354143a69ff6aabd1e3dca"
            ]
          }
        },
        "0fafbe45d6f44720976c9bde8aa613f5": {
          "model_module": "@jupyter-widgets/base",
          "model_name": "LayoutModel",
          "state": {
            "_view_name": "LayoutView",
            "grid_template_rows": null,
            "right": null,
            "justify_content": null,
            "_view_module": "@jupyter-widgets/base",
            "overflow": null,
            "_model_module_version": "1.2.0",
            "_view_count": null,
            "flex_flow": null,
            "width": null,
            "min_width": null,
            "border": null,
            "align_items": null,
            "bottom": null,
            "_model_module": "@jupyter-widgets/base",
            "top": null,
            "grid_column": null,
            "overflow_y": null,
            "overflow_x": null,
            "grid_auto_flow": null,
            "grid_area": null,
            "grid_template_columns": null,
            "flex": null,
            "_model_name": "LayoutModel",
            "justify_items": null,
            "grid_row": null,
            "max_height": null,
            "align_content": null,
            "visibility": null,
            "align_self": null,
            "height": null,
            "min_height": null,
            "padding": null,
            "grid_auto_rows": null,
            "grid_gap": null,
            "max_width": null,
            "order": null,
            "_view_module_version": "1.2.0",
            "grid_template_areas": null,
            "object_position": null,
            "object_fit": null,
            "grid_auto_columns": null,
            "margin": null,
            "display": null,
            "left": null
          }
        },
        "96280eb14408483eb43c86e49177b8f4": {
          "model_module": "@jupyter-widgets/output",
          "model_name": "OutputModel",
          "state": {
            "_view_name": "OutputView",
            "msg_id": "",
            "_dom_classes": [],
            "_model_name": "OutputModel",
            "outputs": [
              {
                "output_type": "stream",
                "metadata": {
                  "tags": []
                },
                "text": "Video available at https://youtube.com/watch?v=h9L0EYmUpHs\n",
                "stream": "stdout"
              },
              {
                "output_type": "display_data",
                "metadata": {
                  "tags": []
                },
                "text/html": "\n        <iframe\n            width=\"854\"\n            height=\"480\"\n            src=\"https://www.youtube.com/embed/h9L0EYmUpHs?fs=1&rel=0\"\n            frameborder=\"0\"\n            allowfullscreen\n        ></iframe>\n        ",
                "text/plain": "<IPython.lib.display.YouTubeVideo at 0x7f231d855390>",
                "image/jpeg": "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\n"
              }
            ],
            "_view_module": "@jupyter-widgets/output",
            "_model_module_version": "1.0.0",
            "_view_count": null,
            "_view_module_version": "1.0.0",
            "layout": "IPY_MODEL_e02919ce3deb454383c0f1855a8b8a84",
            "_model_module": "@jupyter-widgets/output"
          }
        },
        "632ca24eeb354143a69ff6aabd1e3dca": {
          "model_module": "@jupyter-widgets/output",
          "model_name": "OutputModel",
          "state": {
            "_view_name": "OutputView",
            "msg_id": "",
            "_dom_classes": [],
            "_model_name": "OutputModel",
            "outputs": [
              {
                "output_type": "stream",
                "metadata": {
                  "tags": []
                },
                "text": "Video available at https://www.bilibili.com/video/BV1QU4y137BS\n",
                "stream": "stdout"
              },
              {
                "output_type": "display_data",
                "metadata": {
                  "tags": []
                },
                "text/html": "\n        <iframe\n            width=\"854\"\n            height=\"480\"\n            src=\"https://player.bilibili.com/player.html?bvid=BV1QU4y137BS&page=1?fs=1\"\n            frameborder=\"0\"\n            allowfullscreen\n        ></iframe>\n        ",
                "text/plain": "<__main__.BiliVideo at 0x7f231d2297d0>"
              }
            ],
            "_view_module": "@jupyter-widgets/output",
            "_model_module_version": "1.0.0",
            "_view_count": null,
            "_view_module_version": "1.0.0",
            "layout": "IPY_MODEL_4dafa763c8fe4e0e9d600bea0c1b4553",
            "_model_module": "@jupyter-widgets/output"
          }
        },
        "e02919ce3deb454383c0f1855a8b8a84": {
          "model_module": "@jupyter-widgets/base",
          "model_name": "LayoutModel",
          "state": {
            "_view_name": "LayoutView",
            "grid_template_rows": null,
            "right": null,
            "justify_content": null,
            "_view_module": "@jupyter-widgets/base",
            "overflow": null,
            "_model_module_version": "1.2.0",
            "_view_count": null,
            "flex_flow": null,
            "width": null,
            "min_width": null,
            "border": null,
            "align_items": null,
            "bottom": null,
            "_model_module": "@jupyter-widgets/base",
            "top": null,
            "grid_column": null,
            "overflow_y": null,
            "overflow_x": null,
            "grid_auto_flow": null,
            "grid_area": null,
            "grid_template_columns": null,
            "flex": null,
            "_model_name": "LayoutModel",
            "justify_items": null,
            "grid_row": null,
            "max_height": null,
            "align_content": null,
            "visibility": null,
            "align_self": null,
            "height": null,
            "min_height": null,
            "padding": null,
            "grid_auto_rows": null,
            "grid_gap": null,
            "max_width": null,
            "order": null,
            "_view_module_version": "1.2.0",
            "grid_template_areas": null,
            "object_position": null,
            "object_fit": null,
            "grid_auto_columns": null,
            "margin": null,
            "display": null,
            "left": null
          }
        },
        "4dafa763c8fe4e0e9d600bea0c1b4553": {
          "model_module": "@jupyter-widgets/base",
          "model_name": "LayoutModel",
          "state": {
            "_view_name": "LayoutView",
            "grid_template_rows": null,
            "right": null,
            "justify_content": null,
            "_view_module": "@jupyter-widgets/base",
            "overflow": null,
            "_model_module_version": "1.2.0",
            "_view_count": null,
            "flex_flow": null,
            "width": null,
            "min_width": null,
            "border": null,
            "align_items": null,
            "bottom": null,
            "_model_module": "@jupyter-widgets/base",
            "top": null,
            "grid_column": null,
            "overflow_y": null,
            "overflow_x": null,
            "grid_auto_flow": null,
            "grid_area": null,
            "grid_template_columns": null,
            "flex": null,
            "_model_name": "LayoutModel",
            "justify_items": null,
            "grid_row": null,
            "max_height": null,
            "align_content": null,
            "visibility": null,
            "align_self": null,
            "height": null,
            "min_height": null,
            "padding": null,
            "grid_auto_rows": null,
            "grid_gap": null,
            "max_width": null,
            "order": null,
            "_view_module_version": "1.2.0",
            "grid_template_areas": null,
            "object_position": null,
            "object_fit": null,
            "grid_auto_columns": null,
            "margin": null,
            "display": null,
            "left": null
          }
        }
      }
    }
  },
  "cells": [
    {
      "cell_type": "markdown",
      "metadata": {
        "id": "view-in-github",
        "colab_type": "text"
      },
      "source": [
        "<a href=\"https://colab.research.google.com/github/alexenge/nma-course-content/blob/solutions_alex/tutorials/W3D1_BayesianDecisions/student/W3D1_Tutorial1.ipynb\" target=\"_parent\"><img src=\"https://colab.research.google.com/assets/colab-badge.svg\" alt=\"Open In Colab\"/></a>"
      ]
    },
    {
      "cell_type": "markdown",
      "metadata": {
        "execution": {},
        "id": "mXgmOaLXfP01"
      },
      "source": [
        "# Tutorial 1: Bayes with a binary hidden state\n",
        "**Week 3, Day 1: Bayesian Decisions**\n",
        "\n",
        "**By Neuromatch Academy**\n",
        "\n",
        "__Content creators:__ Eric DeWitt, Xaq Pitkow, Ella Batty, Saeed Salehi\n",
        "\n",
        "__Content reviewers:__ Hyosub Kim, Zahra Arjmandi, Anoop Kulkarni\n",
        "\n",
        "__Production editor:__ Ella Batty"
      ]
    },
    {
      "cell_type": "markdown",
      "metadata": {
        "execution": {},
        "id": "MXdMMuC2fP03"
      },
      "source": [
        "**Our 2021 Sponsors, including Presenting Sponsor Facebook Reality Labs**\n",
        "\n",
        "<p align='center'><img src='https://github.com/NeuromatchAcademy/widgets/blob/master/sponsors.png?raw=True'/></p>"
      ]
    },
    {
      "cell_type": "markdown",
      "metadata": {
        "execution": {},
        "id": "K4Lc8eSkfP03"
      },
      "source": [
        "# Tutorial Objectives\n",
        "\n",
        "*Estimated timing of tutorial: 1 hour, 30 minutes*\n",
        "\n",
        "This is the first of two core tutorials on Bayesian statistics. In these tutorials, we will explore the fundemental concepts of the Bayesian approach. In this tutorial you will work through an example of Bayesian inference and decision making using a binary hidden state. The second tutorial extends these concepts to a continuous hidden state. In the related NMA days, each of these basic ideas will be extended. In Hidden Dynamics, we consider these idea through time as you explore what happens when we infere a hidden state using repeated observations and when the hidden state changes across time. In the Optimal Control day, we will introduce the notion of how to use inference and decisions to select actions for optimal control.\n",
        "\n",
        "This notebook will introduce the fundamental building blocks for Bayesian statistics: \n",
        "\n",
        "1. How do we combine the possible loss (or gain) for making a decision with our probabilitic knowledge?\n",
        "2. How do we use probability distributions to represent hidden states?\n",
        "3. How does marginalization work and how can we use it?\n",
        "4. How do we combine new information with our prior knowledge? "
      ]
    },
    {
      "cell_type": "code",
      "metadata": {
        "cellView": "form",
        "execution": {},
        "id": "R1MCJBo-fP04"
      },
      "source": [
        "# @title Tutorial slides\n",
        "\n",
        "# @markdown These are the slides for the videos in this tutorial\n",
        "from IPython.display import IFrame\n",
        "IFrame(src=f\"https://mfr.ca-1.osf.io/render?url=https://osf.io/dx7jt/?direct%26mode=render%26action=download%26mode=render\", width=854, height=480)"
      ],
      "execution_count": null,
      "outputs": []
    },
    {
      "cell_type": "code",
      "metadata": {
        "cellView": "form",
        "execution": {},
        "id": "7rj8wgEtfP04",
        "outputId": "02fd11ca-4b18-4160-b9c0-413a767de1a2",
        "colab": {
          "base_uri": "https://localhost:8080/",
          "height": 580,
          "referenced_widgets": [
            "c3b71b8eeced43f698a8c7c7cc052f3c",
            "86281278e4b94f61adef4220be4d74fa",
            "d2f72f333a84480c890f8b9129244ba6",
            "fb5935d79c234bd188de0f31e57e0b0a",
            "c0f8b0bd583b4a9080cc97ea5e97dd80",
            "765954f4581a4d1688c05e4f6f97ca26"
          ]
        }
      },
      "source": [
        "# @title Video 1: Introduction to Bayesian Statistics and Decisions\n",
        "from ipywidgets import widgets\n",
        "\n",
        "out2 = widgets.Output()\n",
        "with out2:\n",
        "  from IPython.display import IFrame\n",
        "  class BiliVideo(IFrame):\n",
        "      def __init__(self, id, page=1, width=400, height=300, **kwargs):\n",
        "          self.id=id\n",
        "          src = 'https://player.bilibili.com/player.html?bvid={0}&page={1}'.format(id, page)\n",
        "          super(BiliVideo, self).__init__(src, width, height, **kwargs)\n",
        "\n",
        "  video = BiliVideo(id=\"BV1Ch41167jN\", width=854, height=480, fs=1)\n",
        "  print('Video available at https://www.bilibili.com/video/{0}'.format(video.id))\n",
        "  display(video)\n",
        "\n",
        "out1 = widgets.Output()\n",
        "with out1:\n",
        "  from IPython.display import YouTubeVideo\n",
        "  video = YouTubeVideo(id=\"Hcx2_JTpf2M\", width=854, height=480, fs=1, rel=0)\n",
        "  print('Video available at https://youtube.com/watch?v=' + video.id)\n",
        "  display(video)\n",
        "\n",
        "out = widgets.Tab([out1, out2])\n",
        "out.set_title(0, 'Youtube')\n",
        "out.set_title(1, 'Bilibili')\n",
        "\n",
        "display(out)"
      ],
      "execution_count": 1,
      "outputs": [
        {
          "output_type": "display_data",
          "data": {
            "application/vnd.jupyter.widget-view+json": {
              "model_id": "c3b71b8eeced43f698a8c7c7cc052f3c",
              "version_minor": 0,
              "version_major": 2
            },
            "text/plain": [
              "Tab(children=(Output(), Output()), _titles={'0': 'Youtube', '1': 'Bilibili'})"
            ]
          },
          "metadata": {
            "tags": []
          }
        }
      ]
    },
    {
      "cell_type": "markdown",
      "metadata": {
        "execution": {},
        "id": "oKGNtYbhfP05"
      },
      "source": [
        "# Setup  \n"
      ]
    },
    {
      "cell_type": "code",
      "metadata": {
        "execution": {},
        "id": "cjEjWAYufP05"
      },
      "source": [
        "# Imports\n",
        "\n",
        "import numpy as np\n",
        "import matplotlib.pyplot as plt\n",
        "from matplotlib import patches, transforms, gridspec\n",
        "from scipy.optimize import fsolve\n",
        "\n",
        "from collections import namedtuple"
      ],
      "execution_count": 2,
      "outputs": []
    },
    {
      "cell_type": "code",
      "metadata": {
        "cellView": "form",
        "execution": {},
        "id": "WMgDAH1IfP06"
      },
      "source": [
        "#@title Figure Settings\n",
        "import ipywidgets as widgets       # interactive display\n",
        "from ipywidgets import GridspecLayout, HBox, VBox, FloatSlider, Layout, ToggleButtons\n",
        "from ipywidgets import interactive, interactive_output, Checkbox, Select\n",
        "from IPython.display import clear_output\n",
        "%config InlineBackend.figure_format = 'retina'\n",
        "plt.style.use(\"https://raw.githubusercontent.com/NeuromatchAcademy/course-content/master/nma.mplstyle\")\n",
        "\n",
        "import warnings\n",
        "warnings.filterwarnings(\"ignore\")"
      ],
      "execution_count": 3,
      "outputs": []
    },
    {
      "cell_type": "code",
      "metadata": {
        "cellView": "form",
        "execution": {},
        "id": "59NqxXlKfP06"
      },
      "source": [
        "# @title Plotting Functions\n",
        "\n",
        "def plot_joint_probs(P, ):\n",
        "    assert np.all(P >= 0), \"probabilities should be >= 0\"\n",
        "    # normalize if not\n",
        "    P = P / np.sum(P)\n",
        "    marginal_y = np.sum(P,axis=1)\n",
        "    marginal_x = np.sum(P,axis=0)\n",
        "\n",
        "    # definitions for the axes\n",
        "    left, width = 0.1, 0.65\n",
        "    bottom, height = 0.1, 0.65\n",
        "    spacing = 0.005\n",
        "\n",
        "    # start with a square Figure\n",
        "    fig = plt.figure(figsize=(5, 5))\n",
        "\n",
        "    joint_prob = [left, bottom, width, height]\n",
        "    rect_histx = [left, bottom + height + spacing, width, 0.2]\n",
        "    rect_histy = [left + width + spacing, bottom, 0.2, height]\n",
        "\n",
        "    rect_x_cmap = plt.cm.Blues\n",
        "    rect_y_cmap = plt.cm.Reds\n",
        "\n",
        "    # Show joint probs and marginals\n",
        "    ax = fig.add_axes(joint_prob)\n",
        "    ax_x = fig.add_axes(rect_histx, sharex=ax)\n",
        "    ax_y = fig.add_axes(rect_histy, sharey=ax)\n",
        "\n",
        "    # Show joint probs and marginals\n",
        "    ax.matshow(P,vmin=0., vmax=1., cmap='Greys')\n",
        "    ax_x.bar(0, marginal_x[0], facecolor=rect_x_cmap(marginal_x[0]))\n",
        "    ax_x.bar(1, marginal_x[1], facecolor=rect_x_cmap(marginal_x[1]))\n",
        "    ax_y.barh(0, marginal_y[0], facecolor=rect_y_cmap(marginal_y[0]))\n",
        "    ax_y.barh(1, marginal_y[1], facecolor=rect_y_cmap(marginal_y[1]))\n",
        "    # set limits\n",
        "    ax_x.set_ylim([0,1])\n",
        "    ax_y.set_xlim([0,1])\n",
        "\n",
        "    # show values\n",
        "    ind = np.arange(2)\n",
        "    x,y = np.meshgrid(ind,ind)\n",
        "    for i,j in zip(x.flatten(), y.flatten()):\n",
        "        c = f\"{P[i,j]:.2f}\"\n",
        "        ax.text(j,i, c, va='center', ha='center', color='black')\n",
        "    for i in ind:\n",
        "        v = marginal_x[i]\n",
        "        c = f\"{v:.2f}\"\n",
        "        ax_x.text(i, v +0.1, c, va='center', ha='center', color='black')\n",
        "        v = marginal_y[i]\n",
        "        c = f\"{v:.2f}\"\n",
        "        ax_y.text(v+0.2, i, c, va='center', ha='center', color='black')\n",
        "\n",
        "    # set up labels\n",
        "    ax.xaxis.tick_bottom()\n",
        "    ax.yaxis.tick_left()\n",
        "    ax.set_xticks([0,1])\n",
        "    ax.set_yticks([0,1])\n",
        "    ax.set_xticklabels(['Silver','Gold'])\n",
        "    ax.set_yticklabels(['Small', 'Large'])\n",
        "    ax.set_xlabel('color')\n",
        "    ax.set_ylabel('size')\n",
        "    ax_x.axis('off')\n",
        "    ax_y.axis('off')\n",
        "    return fig\n",
        "\n",
        "\n",
        "def plot_prior_likelihood_posterior(prior, likelihood, posterior):\n",
        "\n",
        "    # definitions for the axes\n",
        "    left, width = 0.05, 0.3\n",
        "    bottom, height = 0.05, 0.9\n",
        "    padding = 0.12\n",
        "    small_width = 0.1\n",
        "    left_space = left + small_width + padding\n",
        "    added_space = padding + width\n",
        "\n",
        "    fig = plt.figure(figsize=(12, 4))\n",
        "\n",
        "    rect_prior = [left, bottom, small_width, height]\n",
        "    rect_likelihood = [left_space , bottom , width, height]\n",
        "    rect_posterior = [left_space +  added_space, bottom , width, height]\n",
        "\n",
        "    ax_prior = fig.add_axes(rect_prior)\n",
        "    ax_likelihood = fig.add_axes(rect_likelihood, sharey=ax_prior)\n",
        "    ax_posterior = fig.add_axes(rect_posterior, sharey = ax_prior)\n",
        "\n",
        "    rect_colormap = plt.cm.Blues\n",
        "\n",
        "    # Show posterior probs and marginals\n",
        "    ax_prior.barh(0, prior[0], facecolor = rect_colormap(prior[0, 0]))\n",
        "    ax_prior.barh(1, prior[1], facecolor = rect_colormap(prior[1, 0]))\n",
        "    ax_likelihood.matshow(likelihood, vmin=0., vmax=1., cmap='Reds')\n",
        "    ax_posterior.matshow(posterior, vmin=0., vmax=1., cmap='Greens')\n",
        "\n",
        "\n",
        "    # Probabilities plot details\n",
        "    # ax_prior.set(xlim = [1, 0], yticks = [0, 1], yticklabels = ['left', 'right'],\n",
        "    #              ylabel = 'state (s)', title = \"Prior p(s)\")\n",
        "    ax_prior.set(xlim = [1, 0], xticks = [], yticks = [0, 1], yticklabels = ['left', 'right'],\n",
        "                 title = \"Prior p(s)\")\n",
        "    ax_prior.yaxis.tick_right()\n",
        "    ax_prior.spines['left'].set_visible(False)\n",
        "    ax_prior.spines['bottom'].set_visible(False)\n",
        "\n",
        "    # Likelihood plot details\n",
        "    ax_likelihood.set(xticks = [0, 1], xticklabels = ['fish', 'no fish'],\n",
        "                  yticks = [0, 1], yticklabels = ['left', 'right'],\n",
        "                   ylabel = 'state (s)', xlabel = 'measurement (m)',\n",
        "                   title = 'Likelihood p(m (left) | s)')\n",
        "    ax_likelihood.xaxis.set_ticks_position('bottom')\n",
        "    ax_likelihood.spines['left'].set_visible(False)\n",
        "    ax_likelihood.spines['bottom'].set_visible(False)\n",
        "\n",
        "    # Posterior plot details\n",
        "\n",
        "    ax_posterior.set(xticks = [0, 1], xticklabels = ['fish', 'no fish'],\n",
        "                  yticks = [0, 1], yticklabels = ['left', 'right'],\n",
        "                   ylabel = 'state (s)', xlabel = 'measurement (m)',\n",
        "                   title = 'Posterior p(s | m)')\n",
        "    ax_posterior.xaxis.set_ticks_position('bottom')\n",
        "    ax_posterior.spines['left'].set_visible(False)\n",
        "    ax_posterior.spines['bottom'].set_visible(False)\n",
        "\n",
        "\n",
        "    # show values\n",
        "    ind = np.arange(2)\n",
        "    x,y = np.meshgrid(ind,ind)\n",
        "    for i,j in zip(x.flatten(), y.flatten()):\n",
        "        c = f\"{posterior[i,j]:.2f}\"\n",
        "        ax_posterior.text(j,i, c, va='center', ha='center', color='black')\n",
        "    for i,j in zip(x.flatten(), y.flatten()):\n",
        "        c = f\"{likelihood[i,j]:.2f}\"\n",
        "        ax_likelihood.text(j,i, c, va='center', ha='center', color='black')\n",
        "    for i in ind:\n",
        "        v = prior[i, 0]\n",
        "        c = f\"{v:.2f}\"\n",
        "        ax_prior.text(v+0.2, i, c, va='center', ha='center', color='black')\n",
        "\n",
        "\n",
        "def plot_prior_likelihood(ps, p_a_s1, p_a_s0, measurement):\n",
        "    likelihood = np.asarray([[p_a_s1, 1-p_a_s1],[p_a_s0, 1-p_a_s0]])\n",
        "    assert 0.0 <= ps <= 1.0\n",
        "    prior = np.asarray([ps, 1 - ps])\n",
        "    if measurement == \"Fish\":\n",
        "        posterior = likelihood[:, 0] * prior\n",
        "    else:\n",
        "        posterior = (likelihood[:, 1] * prior).reshape(-1)\n",
        "    posterior /= np.sum(posterior)\n",
        "\n",
        "    # definitions for the axes\n",
        "    left, width = 0.05, 0.3\n",
        "    bottom, height = 0.05, 0.9\n",
        "    padding = 0.12\n",
        "    small_width = 0.2\n",
        "    left_space = left + small_width + padding\n",
        "    small_padding = 0.05\n",
        "\n",
        "    fig = plt.figure(figsize=(12, 4))\n",
        "\n",
        "    rect_prior = [left, bottom, small_width, height]\n",
        "    rect_likelihood = [left_space , bottom , width, height]\n",
        "    rect_posterior = [left_space + width + small_padding, bottom , small_width, height]\n",
        "\n",
        "    ax_prior = fig.add_axes(rect_prior)\n",
        "    ax_likelihood = fig.add_axes(rect_likelihood, sharey=ax_prior)\n",
        "    ax_posterior = fig.add_axes(rect_posterior, sharey=ax_prior)\n",
        "\n",
        "    prior_colormap = plt.cm.Blues\n",
        "    posterior_colormap = plt.cm.Greens\n",
        "\n",
        "    # Show posterior probs and marginals\n",
        "    ax_prior.barh(0, prior[0], facecolor = prior_colormap(prior[0]))\n",
        "    ax_prior.barh(1, prior[1], facecolor = prior_colormap(prior[1]))\n",
        "    ax_likelihood.matshow(likelihood, vmin=0., vmax=1., cmap='Reds')\n",
        "    # ax_posterior.matshow(posterior, vmin=0., vmax=1., cmap='')\n",
        "    ax_posterior.barh(0, posterior[0], facecolor = posterior_colormap(posterior[0]))\n",
        "    ax_posterior.barh(1, posterior[1], facecolor = posterior_colormap(posterior[1]))\n",
        "\n",
        "    # Probabilities plot details\n",
        "    ax_prior.set(xlim = [1, 0], yticks = [0, 1], yticklabels = ['left', 'right'],\n",
        "                 title = \"Prior p(s)\", xticks = [])\n",
        "    ax_prior.yaxis.tick_right()\n",
        "    ax_prior.spines['left'].set_visible(False)\n",
        "    ax_prior.spines['bottom'].set_visible(False)\n",
        "\n",
        "    # Likelihood plot details\n",
        "    ax_likelihood.set(xticks = [0, 1], xticklabels = ['fish', 'no fish'],\n",
        "                  yticks = [0, 1], yticklabels = ['left', 'right'],\n",
        "                   ylabel = 'state (s)', xlabel = 'measurement (m)',\n",
        "                   title = 'Likelihood p(m | s)')\n",
        "    ax_likelihood.xaxis.set_ticks_position('bottom')\n",
        "    ax_likelihood.spines['left'].set_visible(False)\n",
        "    ax_likelihood.spines['bottom'].set_visible(False)\n",
        "\n",
        "    # Posterior plot details\n",
        "    ax_posterior.set(xlim = [0, 1], xticks = [], yticks = [0, 1],\n",
        "                     yticklabels = ['left', 'right'], title = \"Posterior p(s | m)\")\n",
        "    ax_posterior.spines['left'].set_visible(False)\n",
        "    ax_posterior.spines['bottom'].set_visible(False)\n",
        "\n",
        "    # show values\n",
        "    ind = np.arange(2)\n",
        "    x,y = np.meshgrid(ind,ind)\n",
        "    # for i,j in zip(x.flatten(), y.flatten()):\n",
        "    #     c = f\"{posterior[i,j]:.2f}\"\n",
        "    #     ax_posterior.text(j,i, c, va='center', ha='center', color='black')\n",
        "    for i in ind:\n",
        "        v = posterior[i]\n",
        "        c = f\"{v:.2f}\"\n",
        "        ax_posterior.text(v+0.2, i, c, va='center', ha='center', color='black')\n",
        "    for i,j in zip(x.flatten(), y.flatten()):\n",
        "        c = f\"{likelihood[i,j]:.2f}\"\n",
        "        ax_likelihood.text(j,i, c, va='center', ha='center', color='black')\n",
        "    for i in ind:\n",
        "        v = prior[i]\n",
        "        c = f\"{v:.2f}\"\n",
        "        ax_prior.text(v+0.2, i, c, va='center', ha='center', color='black')\n",
        "    return fig\n",
        "\n",
        "\n",
        "from matplotlib import colors\n",
        "def plot_utility(ps):\n",
        "    prior = np.asarray([ps, 1 - ps])\n",
        "\n",
        "    utility = np.array([[2, -3], [-2, 1]])\n",
        "\n",
        "    expected = prior @ utility\n",
        "\n",
        "    # definitions for the axes\n",
        "    left, width = 0.05, 0.16\n",
        "    bottom, height = 0.05, 0.9\n",
        "    padding = 0.02\n",
        "    small_width = 0.1\n",
        "    left_space = left + small_width + padding\n",
        "    added_space = padding + width\n",
        "\n",
        "    fig = plt.figure(figsize=(17, 3))\n",
        "\n",
        "    rect_prior = [left, bottom, small_width, height]\n",
        "    rect_utility = [left + added_space , bottom , width, height]\n",
        "    rect_expected = [left + 2* added_space, bottom , width, height]\n",
        "\n",
        "    ax_prior = fig.add_axes(rect_prior)\n",
        "    ax_utility = fig.add_axes(rect_utility, sharey=ax_prior)\n",
        "    ax_expected = fig.add_axes(rect_expected)\n",
        "\n",
        "    rect_colormap = plt.cm.Blues\n",
        "\n",
        "    # Data of plots\n",
        "    ax_prior.barh(0, prior[0], facecolor = rect_colormap(prior[0]))\n",
        "    ax_prior.barh(1, prior[1], facecolor = rect_colormap(prior[1]))\n",
        "    ax_utility.matshow(utility, cmap='cool')\n",
        "    norm = colors.Normalize(vmin=-3, vmax=3)\n",
        "    ax_expected.bar(0, expected[0], facecolor = rect_colormap(norm(expected[0])))\n",
        "    ax_expected.bar(1, expected[1], facecolor = rect_colormap(norm(expected[1])))\n",
        "\n",
        "    # Probabilities plot details\n",
        "    ax_prior.set(xlim = [1, 0], xticks = [], yticks = [0, 1], yticklabels = ['left', 'right'],\n",
        "                 title = \"Probability of state\")\n",
        "    ax_prior.yaxis.tick_right()\n",
        "    ax_prior.spines['left'].set_visible(False)\n",
        "    ax_prior.spines['bottom'].set_visible(False)\n",
        "\n",
        "    # Utility plot details\n",
        "    ax_utility.set(xticks = [0, 1], xticklabels = ['left', 'right'],\n",
        "                  yticks = [0, 1], yticklabels = ['left', 'right'],\n",
        "                   ylabel = 'state (s)', xlabel = 'action (a)',\n",
        "                   title = 'Utility')\n",
        "    ax_utility.xaxis.set_ticks_position('bottom')\n",
        "    ax_utility.spines['left'].set_visible(False)\n",
        "    ax_utility.spines['bottom'].set_visible(False)\n",
        "\n",
        "    # Expected utility plot details\n",
        "    ax_expected.set(title = 'Expected utility', ylim = [-3, 3],\n",
        "                    xticks = [0, 1], xticklabels = ['left', 'right'],\n",
        "                    xlabel = 'action (a)',\n",
        "                    yticks = [])\n",
        "    ax_expected.xaxis.set_ticks_position('bottom')\n",
        "    ax_expected.spines['left'].set_visible(False)\n",
        "    ax_expected.spines['bottom'].set_visible(False)\n",
        "\n",
        "    # show values\n",
        "    ind = np.arange(2)\n",
        "    x,y = np.meshgrid(ind,ind)\n",
        "\n",
        "    for i,j in zip(x.flatten(), y.flatten()):\n",
        "        c = f\"{utility[i,j]:.2f}\"\n",
        "        ax_utility.text(j,i, c, va='center', ha='center', color='black')\n",
        "    for i in ind:\n",
        "        v = prior[i]\n",
        "        c = f\"{v:.2f}\"\n",
        "        ax_prior.text(v+0.2, i, c, va='center', ha='center', color='black')\n",
        "    for i in ind:\n",
        "        v = expected[i]\n",
        "        c = f\"{v:.2f}\"\n",
        "        ax_expected.text(i, 2.5, c, va='center', ha='center', color='black')\n",
        "\n",
        "    return fig\n",
        "\n",
        "\n",
        "def plot_prior_likelihood_utility(ps, p_a_s1, p_a_s0, measurement):\n",
        "    assert 0.0 <= ps <= 1.0\n",
        "    assert 0.0 <= p_a_s1 <= 1.0\n",
        "    assert 0.0 <= p_a_s0 <= 1.0\n",
        "    prior = np.asarray([ps, 1 - ps])\n",
        "    likelihood = np.asarray([[p_a_s1, 1-p_a_s1],[p_a_s0, 1-p_a_s0]])\n",
        "    utility = np.array([[2.0, -3.0], [-2.0, 1.0]])\n",
        "    # expected = np.zeros_like(utility)\n",
        "\n",
        "    if measurement == \"Fish\":\n",
        "        posterior = likelihood[:, 0] * prior\n",
        "    else:\n",
        "        posterior = (likelihood[:, 1] * prior).reshape(-1)\n",
        "    posterior /= np.sum(posterior)\n",
        "    # expected[:, 0] = utility[:, 0] * posterior\n",
        "    # expected[:, 1] = utility[:, 1] * posterior\n",
        "    expected = posterior @ utility\n",
        "\n",
        "    # definitions for the axes\n",
        "    left, width = 0.05, 0.3\n",
        "    bottom, height = 0.05, 0.3\n",
        "    padding = 0.12\n",
        "    small_width = 0.2\n",
        "    left_space = left + small_width + padding\n",
        "    small_padding = 0.05\n",
        "\n",
        "    fig = plt.figure(figsize=(10, 9))\n",
        "\n",
        "    rect_prior = [left, bottom + height + padding, small_width, height]\n",
        "    rect_likelihood = [left_space , bottom + height + padding , width, height]\n",
        "    rect_posterior = [left_space + width + small_padding, bottom + height + padding , small_width, height]\n",
        "\n",
        "    rect_utility = [padding, bottom, width, height]\n",
        "    rect_expected = [padding + width + padding + left, bottom, width, height]\n",
        "\n",
        "    ax_likelihood = fig.add_axes(rect_likelihood)\n",
        "    ax_prior = fig.add_axes(rect_prior, sharey=ax_likelihood)\n",
        "    ax_posterior = fig.add_axes(rect_posterior, sharey=ax_likelihood)\n",
        "    ax_utility = fig.add_axes(rect_utility)\n",
        "    ax_expected = fig.add_axes(rect_expected)\n",
        "\n",
        "    prior_colormap = plt.cm.Blues\n",
        "    posterior_colormap = plt.cm.Greens\n",
        "    expected_colormap = plt.cm.Wistia\n",
        "\n",
        "    # Show posterior probs and marginals\n",
        "    ax_prior.barh(0, prior[0], facecolor = prior_colormap(prior[0]))\n",
        "    ax_prior.barh(1, prior[1], facecolor = prior_colormap(prior[1]))\n",
        "    ax_likelihood.matshow(likelihood, vmin=0., vmax=1., cmap='Reds')\n",
        "    ax_posterior.barh(0, posterior[0], facecolor = posterior_colormap(posterior[0]))\n",
        "    ax_posterior.barh(1, posterior[1], facecolor = posterior_colormap(posterior[1]))\n",
        "    ax_utility.matshow(utility, vmin=0., vmax=1., cmap='cool')\n",
        "    # ax_expected.matshow(expected, vmin=0., vmax=1., cmap='Wistia')\n",
        "    ax_expected.bar(0, expected[0], facecolor = expected_colormap(expected[0]))\n",
        "    ax_expected.bar(1, expected[1], facecolor = expected_colormap(expected[1]))\n",
        "\n",
        "    # Probabilities plot details\n",
        "    ax_prior.set(xlim = [1, 0], yticks = [0, 1], yticklabels = ['left', 'right'],\n",
        "                 title = \"Prior p(s)\", xticks = [])\n",
        "    ax_prior.yaxis.tick_right()\n",
        "    ax_prior.spines['left'].set_visible(False)\n",
        "    ax_prior.spines['bottom'].set_visible(False)\n",
        "\n",
        "    # Likelihood plot details\n",
        "    ax_likelihood.set(xticks = [0, 1], xticklabels = ['fish', 'no fish'],\n",
        "                  yticks = [0, 1], yticklabels = ['left', 'right'],\n",
        "                   ylabel = 'state (s)', xlabel = 'measurement (m)',\n",
        "                   title = 'Likelihood p(m | s)')\n",
        "    ax_likelihood.xaxis.set_ticks_position('bottom')\n",
        "    ax_likelihood.spines['left'].set_visible(False)\n",
        "    ax_likelihood.spines['bottom'].set_visible(False)\n",
        "\n",
        "    # Posterior plot details\n",
        "    ax_posterior.set(xlim = [0, 1], xticks = [], yticks = [0, 1],\n",
        "                     yticklabels = ['left', 'right'], title = \"Posterior p(s | m)\")\n",
        "    ax_posterior.spines['left'].set_visible(False)\n",
        "    ax_posterior.spines['bottom'].set_visible(False)\n",
        "\n",
        "    # Utility plot details\n",
        "    ax_utility.set(xticks = [0, 1], xticklabels = ['left', 'right'],\n",
        "                   xlabel = 'action (a)', yticks = [0, 1], yticklabels = ['left', 'right'],\n",
        "                   title = 'Utility', ylabel = 'state (s)')\n",
        "    ax_utility.xaxis.set_ticks_position('bottom')\n",
        "    ax_utility.spines['left'].set_visible(False)\n",
        "    ax_utility.spines['bottom'].set_visible(False)\n",
        "\n",
        "    # Expected Utility plot details\n",
        "    ax_expected.set(ylim = [-2, 2], xticks = [0, 1], xticklabels = ['left', 'right'],\n",
        "                 xlabel = 'action (a)', title = 'Expected utility', yticks=[])\n",
        "    # ax_expected.axis('off')\n",
        "    ax_expected.spines['left'].set_visible(False)\n",
        "    # ax_expected.set(xticks = [0, 1], xticklabels = ['left', 'right'],\n",
        "    #                 xlabel = 'action (a)',\n",
        "    #                title = 'Expected utility')\n",
        "    # ax_expected.xaxis.set_ticks_position('bottom')\n",
        "    # ax_expected.spines['left'].set_visible(False)\n",
        "    # ax_expected.spines['bottom'].set_visible(False)\n",
        "\n",
        "    # show values\n",
        "    ind = np.arange(2)\n",
        "    x,y = np.meshgrid(ind,ind)\n",
        "    for i in ind:\n",
        "        v = posterior[i]\n",
        "        c = f\"{v:.2f}\"\n",
        "        ax_posterior.text(v+0.2, i, c, va='center', ha='center', color='black')\n",
        "    for i,j in zip(x.flatten(), y.flatten()):\n",
        "        c = f\"{likelihood[i,j]:.2f}\"\n",
        "        ax_likelihood.text(j,i, c, va='center', ha='center', color='black')\n",
        "    for i,j in zip(x.flatten(), y.flatten()):\n",
        "        c = f\"{utility[i,j]:.2f}\"\n",
        "        ax_utility.text(j,i, c, va='center', ha='center', color='black')\n",
        "    # for i,j in zip(x.flatten(), y.flatten()):\n",
        "    #     c = f\"{expected[i,j]:.2f}\"\n",
        "    #     ax_expected.text(j,i, c, va='center', ha='center', color='black')\n",
        "    for i in ind:\n",
        "        v = prior[i]\n",
        "        c = f\"{v:.2f}\"\n",
        "        ax_prior.text(v+0.2, i, c, va='center', ha='center', color='black')\n",
        "    for i in ind:\n",
        "        v = expected[i]\n",
        "        c = f\"{v:.2f}\"\n",
        "        ax_expected.text(i, v, c, va='center', ha='center', color='black')\n",
        "\n",
        "    return fig"
      ],
      "execution_count": 4,
      "outputs": []
    },
    {
      "cell_type": "code",
      "metadata": {
        "cellView": "form",
        "execution": {},
        "id": "0_F2pWCEfP1A"
      },
      "source": [
        "# @title Helper Functions\n",
        "\n",
        "def compute_marginal(px, py, cor):\n",
        "    \"\"\" Calculate 2x2 joint probabilities given marginals p(x=1), p(y=1) and correlation\n",
        "\n",
        "      Args:\n",
        "        px (scalar): marginal probability of x\n",
        "        py (scalar): marginal probability of y\n",
        "        cor (scalar): correlation value\n",
        "\n",
        "      Returns:\n",
        "        ndarray of size (2, 2): joint probability array of x and y\n",
        "    \"\"\"\n",
        "\n",
        "    p11 = px*py + cor*np.sqrt(px*py*(1-px)*(1-py))\n",
        "    p01 = px - p11\n",
        "    p10 = py - p11\n",
        "    p00 = 1.0 - p11 - p01 - p10\n",
        "\n",
        "    return np.asarray([[p00, p01], [p10, p11]])\n",
        "\n",
        "\n",
        "def compute_cor_range(px,py):\n",
        "    \"\"\" Calculate the allowed range of correlation values given marginals p(x=1)\n",
        "      and p(y=1)\n",
        "\n",
        "    Args:\n",
        "      px (scalar): marginal probability of x\n",
        "      py (scalar): marginal probability of y\n",
        "\n",
        "    Returns:\n",
        "      scalar, scalar: minimum and maximum possible values of correlation\n",
        "    \"\"\"\n",
        "\n",
        "    def p11(corr):\n",
        "        return px*py + corr*np.sqrt(px*py*(1-px)*(1-py))\n",
        "    def p01(corr):\n",
        "        return px - p11(corr)\n",
        "    def p10(corr):\n",
        "        return py - p11(corr)\n",
        "    def p00(corr):\n",
        "        return 1.0 - p11(corr) - p01(corr) - p10(corr)\n",
        "    Cmax = min(fsolve(p01, 0.0), fsolve(p10, 0.0))\n",
        "    Cmin = max(fsolve(p11, 0.0), fsolve(p00, 0.0))\n",
        "    return Cmin, Cmax"
      ],
      "execution_count": 5,
      "outputs": []
    },
    {
      "cell_type": "markdown",
      "metadata": {
        "execution": {},
        "id": "G6MBnP1SfP1C"
      },
      "source": [
        "---\n",
        "# Section 1: Gone Fishin'\n"
      ]
    },
    {
      "cell_type": "code",
      "metadata": {
        "cellView": "form",
        "execution": {},
        "id": "_7kPe_9rfP1C",
        "outputId": "dee75c64-0641-42bb-f9dc-4311e0130098",
        "colab": {
          "base_uri": "https://localhost:8080/",
          "height": 580,
          "referenced_widgets": [
            "996491318e67400c81288edc1376926c",
            "4b77cea055964e67a5244c2e31b1830c",
            "cd0812a04ad44809a4a0affb73f229e3",
            "fb270e6f38044425b20b36d4b84f551d",
            "c6c0e69f26a346c9a88b53390fd8187f",
            "917cd43fdf47401abc9a0e51630cfea0"
          ]
        }
      },
      "source": [
        "# @title Video 2: Gone Fishin'\n",
        "from ipywidgets import widgets\n",
        "\n",
        "out2 = widgets.Output()\n",
        "with out2:\n",
        "  from IPython.display import IFrame\n",
        "  class BiliVideo(IFrame):\n",
        "      def __init__(self, id, page=1, width=400, height=300, **kwargs):\n",
        "          self.id=id\n",
        "          src = 'https://player.bilibili.com/player.html?bvid={0}&page={1}'.format(id, page)\n",
        "          super(BiliVideo, self).__init__(src, width, height, **kwargs)\n",
        "\n",
        "  video = BiliVideo(id=\"BV1TP4y147pJ\", width=854, height=480, fs=1)\n",
        "  print('Video available at https://www.bilibili.com/video/{0}'.format(video.id))\n",
        "  display(video)\n",
        "\n",
        "out1 = widgets.Output()\n",
        "with out1:\n",
        "  from IPython.display import YouTubeVideo\n",
        "  video = YouTubeVideo(id=\"kAdBjWOI_yE\", width=854, height=480, fs=1, rel=0)\n",
        "  print('Video available at https://youtube.com/watch?v=' + video.id)\n",
        "  display(video)\n",
        "\n",
        "out = widgets.Tab([out1, out2])\n",
        "out.set_title(0, 'Youtube')\n",
        "out.set_title(1, 'Bilibili')\n",
        "\n",
        "display(out)"
      ],
      "execution_count": 6,
      "outputs": [
        {
          "output_type": "display_data",
          "data": {
            "application/vnd.jupyter.widget-view+json": {
              "model_id": "996491318e67400c81288edc1376926c",
              "version_minor": 0,
              "version_major": 2
            },
            "text/plain": [
              "Tab(children=(Output(), Output()), _titles={'0': 'Youtube', '1': 'Bilibili'})"
            ]
          },
          "metadata": {
            "tags": []
          }
        }
      ]
    },
    {
      "cell_type": "markdown",
      "metadata": {
        "execution": {},
        "id": "m6kDwc_ffP1D"
      },
      "source": [
        "This video covers the example problem of fishing that we will cover in this tutorial.\n",
        "\n",
        "<details>\n",
        "<summary> <font color=‘blue’>Click here for text recap of video </font></summary>\n",
        "\n",
        "You were just introduced to the **binary hidden state problem** we are going to explore. You need to decide which side to fish on--the hidden state. We know fish like to school together. On different days the school of fish is either on the left or right side, but we don’t know what the case is today. We define our knowledge about the fish location as a distribution over the random hidden state variable. Using our probabilistic knowledge, also called our **belief** about the hidden state, we will explore how to make the decision about where to fish today, based on what to expect in terms of gains or losses for the decision.\n",
        "The gains and losss are defined by the utility of choosing an action, which is fishing on the left or right. The details of the utilities are described \n",
        "</details>\n",
        "\n",
        "In the next two sections we will consider just the probability of where the fish might be and what you gain or lose by choosing where to fish (leaving Bayesian approaches to the last few sections).\n",
        "\n",
        "Remember, you can either think of your self as a scientist conducting an experiment or as a brain trying to make a decision. The Bayesian approach is the same!\n"
      ]
    },
    {
      "cell_type": "markdown",
      "metadata": {
        "execution": {},
        "id": "mTBlDwUZfP1D"
      },
      "source": [
        "---\n",
        "# Section 2: Deciding where to fish \n",
        "\n",
        "*Estimated timing to here from start of tutorial: 10 min*"
      ]
    },
    {
      "cell_type": "code",
      "metadata": {
        "cellView": "form",
        "execution": {},
        "id": "_QxBOV4SfP1D",
        "outputId": "40f53048-70db-4d47-c8fb-4a79d5ef064e",
        "colab": {
          "base_uri": "https://localhost:8080/",
          "height": 580,
          "referenced_widgets": [
            "a3d95dcf84564ff7926a08f0951fd4a2",
            "f2565d8c22b84f87b54175c8150cbe2c",
            "2e1106331234459990b62c803ba13cf9",
            "3424e585285340ef9d68add15a65d53a",
            "c1a995fa3deb4915a3a9acd4b75143a7",
            "29d27cb2843844599d8f518b058de68e"
          ]
        }
      },
      "source": [
        "# @title Video 3: Utility\n",
        "from ipywidgets import widgets\n",
        "\n",
        "out2 = widgets.Output()\n",
        "with out2:\n",
        "  from IPython.display import IFrame\n",
        "  class BiliVideo(IFrame):\n",
        "      def __init__(self, id, page=1, width=400, height=300, **kwargs):\n",
        "          self.id=id\n",
        "          src = 'https://player.bilibili.com/player.html?bvid={0}&page={1}'.format(id, page)\n",
        "          super(BiliVideo, self).__init__(src, width, height, **kwargs)\n",
        "\n",
        "  video = BiliVideo(id=\"BV1uL411H7ZE\", width=854, height=480, fs=1)\n",
        "  print('Video available at https://www.bilibili.com/video/{0}'.format(video.id))\n",
        "  display(video)\n",
        "\n",
        "out1 = widgets.Output()\n",
        "with out1:\n",
        "  from IPython.display import YouTubeVideo\n",
        "  video = YouTubeVideo(id=\"8-5RM0k3IKE\", width=854, height=480, fs=1, rel=0)\n",
        "  print('Video available at https://youtube.com/watch?v=' + video.id)\n",
        "  display(video)\n",
        "\n",
        "out = widgets.Tab([out1, out2])\n",
        "out.set_title(0, 'Youtube')\n",
        "out.set_title(1, 'Bilibili')\n",
        "\n",
        "display(out)"
      ],
      "execution_count": 7,
      "outputs": [
        {
          "output_type": "display_data",
          "data": {
            "application/vnd.jupyter.widget-view+json": {
              "model_id": "a3d95dcf84564ff7926a08f0951fd4a2",
              "version_minor": 0,
              "version_major": 2
            },
            "text/plain": [
              "Tab(children=(Output(), Output()), _titles={'0': 'Youtube', '1': 'Bilibili'})"
            ]
          },
          "metadata": {
            "tags": []
          }
        }
      ]
    },
    {
      "cell_type": "markdown",
      "metadata": {
        "execution": {},
        "id": "k3QAK-fSfP1D"
      },
      "source": [
        "This video covers utility and expected utility.\n",
        "\n",
        "<details>\n",
        "<summary> <font color=‘blue’>Click here for text recap of video </font></summary>\n",
        "\n",
        "You need to decide where to fish. It may seem obvious - you could just fish on the side where the probability of the fish being is higher! Unfortunately, decisions and actions are always a little more complicated. Deciding to fish may be influenced by more than just the probability of the school of fish being there as we saw by the potential issues of submarines and sunburn. The consequences of the action you take is based on the true (but hidden) state of the world and the action you choose! In our example, fishing on the wrong side, where there aren't many fish, is likely to lead to you spending your afternoon not catching fish and therefore getting a sunburn. The submarine represents a risk to fishing on the right side that is greater than the left side. If you want to know what to expect from taking the action of fishing on one side or the other, you need to calculate the expected utility.\n",
        "\n",
        "You know the (prior) probability that the school of fish is on the left side of the dock today, $P(s = \\textrm{left})$. So, you also know the probability the school is on the right, $P(s = \\textrm{right})$, because these two probabilities must add up to 1.\n",
        "\n",
        "We quantify gains and losses numerically using a **utility** function $U(s,a)$, which describes the consequences of your actions: how much value you gain (or if negative, lose) given the state of the world ($s$) and the action you take ($a$). In our example, our utility can be summarized as:\n",
        "\n",
        "| Utility: U(s,a)   | a = left   | a = right  |\n",
        "| ----------------- |------------|------------|\n",
        "| s = Left          | +2         | -3         |\n",
        "| s = right         | -2         | +1         |\n",
        "\n",
        "To use possible gains and losses to choose an action, we calculate the **expected utility** of that action by weighing these utilities with the probability of that state occuring. This allows us to choose actions by taking probabilities of events into account: we don't care if the outcome of an action-state pair is a loss if the probability of that state is very low. We can formalize this as:\n",
        "\n",
        "$$ \\text{Expected utility of action a} = \\sum_{s}U(s,a)P(s) $$\n",
        "\n",
        "In other words, the expected utility of an action a is the sum over possible states of the utility of that action and state times the probability of that state.\n",
        "\n",
        "</details>\n"
      ]
    },
    {
      "cell_type": "markdown",
      "metadata": {
        "execution": {},
        "id": "Lg_w4T5WfP1E"
      },
      "source": [
        "## Interactive Demo 2: Exploring the decision\n",
        "\n",
        "Let's start to get a sense of how all this works using the interactive demo below. You can change the probability that the school of fish is on the left side,$p(s = \\textrm{left})$, using the slider. You will see the utility function (a matrix) in the middle and the corresponding expected utility for each action on the right.\n",
        "\n",
        "First, make sure you understand how the expected utility of each action is being computed from the probabilities and the utility values. In the initial state: the probability of the fish being on the left is 0.9 and on the right is 0.1. The expected utility of the action of fishing on the left is then $U(s = \\textrm{left},a = \\textrm{left})p(s = \\textrm{left}) + U(s = \\textrm{right},a = \\textrm{left})p(s = \\textrm{right}) = 2(0.9) + -2(0.1) = 1.6$. Essentially, to get the expected utility of action $a$, you are doing a weighted sum over the relevant column of the utility matrix (corresponding to action $a$) where the weights are the state probabilities.\n",
        "\n",
        "For each of these scenarios, think and discuss first. Then use the demo to try out each and see if your action would have been correct (that is, if the expected value of that action is the highest).\n",
        "\n",
        "\n",
        "1.  You just arrived at the dock for the first time and have no sense of where the fish might be. So you guess that the probability of the school being on the left side is 0.5 (so the probability on the right side is also 0.5). Which side would you choose to fish on given our utility values?\n",
        "2.  You think that the probability of the school being on the left side is very low (0.1) and correspondingly high on the right side (0.9). Which side would you choose to fish on given our utility values?\n",
        "3.  What would you choose if the probability of the school being on the left side is slightly lower than on the right side (0. 4 vs 0.6)?"
      ]
    },
    {
      "cell_type": "code",
      "metadata": {
        "cellView": "form",
        "execution": {},
        "id": "tNujOdHHfP1E",
        "outputId": "0ad826f2-6d34-4850-8cc4-dbf0d83eede6",
        "colab": {
          "base_uri": "https://localhost:8080/",
          "height": 326,
          "referenced_widgets": [
            "38eec506ba2749eebd51cf54ccf4c6fb",
            "ab371e106cdc4e5fb68b76eb4d517463",
            "5f5bf49153c140e5a821078360439ee2",
            "27199abb86ea49b98684e6d41d552cfd",
            "5bb7b702fb0043e6a36f6f722d2aaa55",
            "0312371924a645af85c8aadd57b1552d",
            "3097ec0d8ae247fdb5d0805266937be8"
          ]
        }
      },
      "source": [
        "# @markdown Execute this cell to use the widget\n",
        "ps_widget = widgets.FloatSlider(0.9, description='p(s = left)', min=0.0, max=1.0, step=0.01)\n",
        "\n",
        "@widgets.interact(\n",
        "    ps = ps_widget,\n",
        ")\n",
        "def make_utility_plot(ps):\n",
        "    fig = plot_utility(ps)\n",
        "    plt.show(fig)\n",
        "    plt.close(fig)\n",
        "    return None"
      ],
      "execution_count": 8,
      "outputs": [
        {
          "output_type": "display_data",
          "data": {
            "application/vnd.jupyter.widget-view+json": {
              "model_id": "38eec506ba2749eebd51cf54ccf4c6fb",
              "version_minor": 0,
              "version_major": 2
            },
            "text/plain": [
              "interactive(children=(FloatSlider(value=0.9, description='p(s = left)', max=1.0, step=0.01), Output()), _dom_c…"
            ]
          },
          "metadata": {
            "tags": []
          }
        }
      ]
    },
    {
      "cell_type": "markdown",
      "metadata": {
        "execution": {},
        "id": "3kcCWQ7AfP1E"
      },
      "source": [
        "[*Click for solution*](https://github.com/NeuromatchAcademy/course-content/tree/master//tutorials/W3D1_BayesianDecisions/solutions/W3D1_Tutorial1_Solution_b21e7033.py)\n",
        "\n"
      ]
    },
    {
      "cell_type": "code",
      "metadata": {
        "cellView": "form",
        "execution": {},
        "id": "L7t_qdk2fP1E",
        "outputId": "239d2a78-0733-42ab-83d5-cd5b03cde7ad",
        "colab": {
          "base_uri": "https://localhost:8080/",
          "height": 580,
          "referenced_widgets": [
            "0c2d598846f443319b570a37f9d6245f",
            "e6ca3412ed874e69b3ca2b66480010e9",
            "b8c3c486f3624280a13f56efa8eb23bb",
            "855b97f724bd4e3c8542f1aa0b769e78",
            "91db194fdbfd4050880b01fceb4c10bd",
            "31585bb8d5964e2caa318a1b3e3587db"
          ]
        }
      },
      "source": [
        "# @title Video 4: Utility Demo Discussion\n",
        "from ipywidgets import widgets\n",
        "\n",
        "out2 = widgets.Output()\n",
        "with out2:\n",
        "  from IPython.display import IFrame\n",
        "  class BiliVideo(IFrame):\n",
        "      def __init__(self, id, page=1, width=400, height=300, **kwargs):\n",
        "          self.id=id\n",
        "          src = 'https://player.bilibili.com/player.html?bvid={0}&page={1}'.format(id, page)\n",
        "          super(BiliVideo, self).__init__(src, width, height, **kwargs)\n",
        "\n",
        "  video = BiliVideo(id=\"BV1po4y1D7Fu\", width=854, height=480, fs=1)\n",
        "  print('Video available at https://www.bilibili.com/video/{0}'.format(video.id))\n",
        "  display(video)\n",
        "\n",
        "out1 = widgets.Output()\n",
        "with out1:\n",
        "  from IPython.display import YouTubeVideo\n",
        "  video = YouTubeVideo(id=\"GHQbmsEyQjE\", width=854, height=480, fs=1, rel=0)\n",
        "  print('Video available at https://youtube.com/watch?v=' + video.id)\n",
        "  display(video)\n",
        "\n",
        "out = widgets.Tab([out1, out2])\n",
        "out.set_title(0, 'Youtube')\n",
        "out.set_title(1, 'Bilibili')\n",
        "\n",
        "display(out)"
      ],
      "execution_count": 9,
      "outputs": [
        {
          "output_type": "display_data",
          "data": {
            "application/vnd.jupyter.widget-view+json": {
              "model_id": "0c2d598846f443319b570a37f9d6245f",
              "version_minor": 0,
              "version_major": 2
            },
            "text/plain": [
              "Tab(children=(Output(), Output()), _titles={'0': 'Youtube', '1': 'Bilibili'})"
            ]
          },
          "metadata": {
            "tags": []
          }
        }
      ]
    },
    {
      "cell_type": "markdown",
      "metadata": {
        "execution": {},
        "id": "11-scJ8MfP1E"
      },
      "source": [
        "In this section, you have seen that both the utility of various state and action pairs and our knowledge of the probability of each state affects your decision. Importantly, we want our knowledge of the probability of each state to be as accurate as possible! \n",
        "\n",
        "So how do we know these probabilities? We may have prior knowledge from years of fishing at the same dock, learning that the fish are more likely to be on the left side, for example. Of course, we need to update our knowledge (our belief)! To do this, we need to collect more information, or take some measurements! In the next few sections, we will focus on how we improve our knowledge of the probabilities."
      ]
    },
    {
      "cell_type": "markdown",
      "metadata": {
        "execution": {},
        "id": "ZADAvtBwfP1E"
      },
      "source": [
        "---\n",
        "# Section 3: Likelihood of the fish being on either side\n",
        "\n",
        "*Estimated timing to here from start of tutorial: 25 min*\n",
        " \n"
      ]
    },
    {
      "cell_type": "code",
      "metadata": {
        "cellView": "form",
        "execution": {},
        "id": "8NTIc72dfP1E",
        "outputId": "383dbf82-be7f-4faa-e5d0-3f5969242c2b",
        "colab": {
          "base_uri": "https://localhost:8080/",
          "height": 580,
          "referenced_widgets": [
            "4b0edd7733dc413c919040a5313646d8",
            "d74f49d318f345d5942d722bb75a505d",
            "2dd4bd777bf042b9ba1d200babbcbc66",
            "4b49568d1dcd445d866ac253e42b23f7",
            "64460505780641ecbec6803a5a85f641",
            "df700c80532e4837a3143bc8fbfa27f6"
          ]
        }
      },
      "source": [
        "# @title Video 5: Likelihood\n",
        "from ipywidgets import widgets\n",
        "\n",
        "out2 = widgets.Output()\n",
        "with out2:\n",
        "  from IPython.display import IFrame\n",
        "  class BiliVideo(IFrame):\n",
        "      def __init__(self, id, page=1, width=400, height=300, **kwargs):\n",
        "          self.id=id\n",
        "          src = 'https://player.bilibili.com/player.html?bvid={0}&page={1}'.format(id, page)\n",
        "          super(BiliVideo, self).__init__(src, width, height, **kwargs)\n",
        "\n",
        "  video = BiliVideo(id=\"BV1EK4y1u7AV\", width=854, height=480, fs=1)\n",
        "  print('Video available at https://www.bilibili.com/video/{0}'.format(video.id))\n",
        "  display(video)\n",
        "\n",
        "out1 = widgets.Output()\n",
        "with out1:\n",
        "  from IPython.display import YouTubeVideo\n",
        "  video = YouTubeVideo(id=\"Yv8MDjdm1l4\", width=854, height=480, fs=1, rel=0)\n",
        "  print('Video available at https://youtube.com/watch?v=' + video.id)\n",
        "  display(video)\n",
        "\n",
        "out = widgets.Tab([out1, out2])\n",
        "out.set_title(0, 'Youtube')\n",
        "out.set_title(1, 'Bilibili')\n",
        "\n",
        "display(out)"
      ],
      "execution_count": 10,
      "outputs": [
        {
          "output_type": "display_data",
          "data": {
            "application/vnd.jupyter.widget-view+json": {
              "model_id": "4b0edd7733dc413c919040a5313646d8",
              "version_minor": 0,
              "version_major": 2
            },
            "text/plain": [
              "Tab(children=(Output(), Output()), _titles={'0': 'Youtube', '1': 'Bilibili'})"
            ]
          },
          "metadata": {
            "tags": []
          }
        }
      ]
    },
    {
      "cell_type": "markdown",
      "metadata": {
        "execution": {},
        "id": "xakC29kpfP1F"
      },
      "source": [
        "\n",
        "<details>\n",
        "<summary> <font color=‘blue’>Click here for text recap of video </font></summary>\n",
        "\n",
        "First, we'll think about what it means to take a measurement (also often called an observation or just data) and what it tells you about what the hidden state may be. Specifically, we'll be looking at the **likelihood**, which is the probability of your measurement ($m$) given the hidden state ($s$): $P(m | s)$. Remember that in this case, the hidden state is which side of the dock the school of fish is on.\n",
        "We will watch someone fish (for let's say 10 minutes) and our measurement is whether they catch a fish or not. We know something about what catching a fish means for the likelihood of the fish being on one side or the other.\n",
        "</details>"
      ]
    },
    {
      "cell_type": "markdown",
      "metadata": {
        "execution": {},
        "id": "I8DisV_FfP1F"
      },
      "source": [
        "## Think! 3: Guessing the location of the fish\n",
        "\n",
        "Let's say we go to different dock to fish. Here, there are different probabilities of catching fish given the state of the world. At this dock, if you fish on the side of the dock where the fish are, you have a 70% chance of catching a fish. If you fish on the wrong side, you will catch a fish with only 20% probability. These are the likelihoods of observing someone catching a fish! That is, you are taking a measurement by seeing if someone else catches a fish!\n",
        "\n",
        "You see a fisherperson is fishing on the left side.\n",
        "\n",
        "1) Please figure out each of the following (might be easiest to do this separately and then compare notes):\n",
        "- probability of catching a fish given that the school of fish is on the left side, $P(m = \\textrm{catch fish} | s = \\textrm{left} )$\n",
        "- probability of not catching a fish given that the school of fish is on the left side, $P(m = \\textrm{no fish} | s = \\textrm{left})$\n",
        "- probability of catching a fish given that the school of fish is on the right side, $P(m = \\textrm{catch  fish} | s = \\textrm{right})$\n",
        "- probability of not catching a fish given that the school of fish is on the right side, $P(m = \\textrm{no fish} | s = \\textrm{right})$\n",
        "\n",
        "2) If the fisherperson catches a fish, which side would you guess the school is on? Why?\n",
        "\n",
        "3) If the fisherperson does not catch a fish, which side would you guess the school is on? Why?\n"
      ]
    },
    {
      "cell_type": "markdown",
      "metadata": {
        "execution": {},
        "id": "99qDUuQgfP1F"
      },
      "source": [
        "[*Click for solution*](https://github.com/NeuromatchAcademy/course-content/tree/master//tutorials/W3D1_BayesianDecisions/solutions/W3D1_Tutorial1_Solution_84eff60e.py)\n",
        "\n"
      ]
    },
    {
      "cell_type": "markdown",
      "metadata": {
        "execution": {},
        "id": "y8Ztnh99fP1F"
      },
      "source": [
        "In the prior exercise, you tried to guess where the school of fish was based on the measurement you took (watching someone fish). You did this by choosing the state (side where you think the fish are) that maximized the probability of the measurement. In other words, you estimated the state by maximizing the likelihood (the side with the highest probability of measurement given state $P(m|s$)). This is called maximum likelihood estimation (MLE) and you've encountered it before during this course, in the [pre-reqs statistics day](https://compneuro.neuromatch.io/tutorials/W0D5_Statistics/student/W0D5_Tutorial2.html#section-2-2-maximum-likelihood) and on [Model Fitting day](https://compneuro.neuromatch.io/tutorials/W1D3_ModelFitting/student/W1D3_Tutorial2.html)!\n",
        "\n",
        "But, what if you had been going to this dock for years and you knew that the fish were almost always on the left side? This should probably affect how you make your estimate -- you would rely less on the single new measurement and more on your prior knowledge. This is the fundemental idea behind Bayesian inference, as we will see later in this tutorial!"
      ]
    },
    {
      "cell_type": "markdown",
      "metadata": {
        "execution": {},
        "id": "AUG_U7qmfP1F"
      },
      "source": [
        "---\n",
        "# Section 4: Correlation and marginalization\n",
        "\n",
        "*Estimated timing to here from start of tutorial: 35 min*\n"
      ]
    },
    {
      "cell_type": "code",
      "metadata": {
        "cellView": "form",
        "execution": {},
        "id": "TM8eyXmvfP1F",
        "outputId": "514f53b4-e77a-4eb1-9f1b-1171e54e5d1d",
        "colab": {
          "base_uri": "https://localhost:8080/",
          "height": 580,
          "referenced_widgets": [
            "27d1f88e1fc64191a9de8580d38c569a",
            "ebaa2a71b963453a87b0c5cae0c4517f",
            "da05dfa739d949b9b9f9c456046f4988",
            "e3b771b4b70e4609a16a4b58c0eee6b7",
            "0b8204a158274123878b17bc521f0aae",
            "0543a2dd223d42ec8930e321acf8c6b0"
          ]
        }
      },
      "source": [
        "# @title Video 6: Correlation and marginalization\n",
        "from ipywidgets import widgets\n",
        "\n",
        "out2 = widgets.Output()\n",
        "with out2:\n",
        "  from IPython.display import IFrame\n",
        "  class BiliVideo(IFrame):\n",
        "      def __init__(self, id, page=1, width=400, height=300, **kwargs):\n",
        "          self.id=id\n",
        "          src = 'https://player.bilibili.com/player.html?bvid={0}&page={1}'.format(id, page)\n",
        "          super(BiliVideo, self).__init__(src, width, height, **kwargs)\n",
        "\n",
        "  video = BiliVideo(id=\"BV1Zq4y1p7N6\", width=854, height=480, fs=1)\n",
        "  print('Video available at https://www.bilibili.com/video/{0}'.format(video.id))\n",
        "  display(video)\n",
        "\n",
        "out1 = widgets.Output()\n",
        "with out1:\n",
        "  from IPython.display import YouTubeVideo\n",
        "  video = YouTubeVideo(id=\"iprFMHch2_g\", width=854, height=480, fs=1, rel=0)\n",
        "  print('Video available at https://youtube.com/watch?v=' + video.id)\n",
        "  display(video)\n",
        "\n",
        "out = widgets.Tab([out1, out2])\n",
        "out.set_title(0, 'Youtube')\n",
        "out.set_title(1, 'Bilibili')\n",
        "\n",
        "display(out)"
      ],
      "execution_count": 11,
      "outputs": [
        {
          "output_type": "display_data",
          "data": {
            "application/vnd.jupyter.widget-view+json": {
              "model_id": "27d1f88e1fc64191a9de8580d38c569a",
              "version_minor": 0,
              "version_major": 2
            },
            "text/plain": [
              "Tab(children=(Output(), Output()), _titles={'0': 'Youtube', '1': 'Bilibili'})"
            ]
          },
          "metadata": {
            "tags": []
          }
        }
      ]
    },
    {
      "cell_type": "markdown",
      "metadata": {
        "execution": {},
        "id": "O_yLkMijfP1F"
      },
      "source": [
        "## Section 4.1: Correlation"
      ]
    },
    {
      "cell_type": "markdown",
      "metadata": {
        "execution": {},
        "id": "qbfiz6fkfP1F"
      },
      "source": [
        "In this section, we are going to take a step back for a bit and think more generally about the amount of information shared between two random variables. We want to know how much information you gain when you observe one variable (take a measurement) if you know something about another. We will see that the fundamental concept is the same if we think about two attributes, for example the size and color of the fish, or the prior information and the likelihood.\n"
      ]
    },
    {
      "cell_type": "markdown",
      "metadata": {
        "execution": {},
        "id": "pApixSvXfP1F"
      },
      "source": [
        "### Think! 4.1: Covarying probability distributions\n",
        "\n",
        "The relationship between the marginal probabilities and the joint probabilities is determined by the correlation between the two random variables - a normalized measure of how much the variables covary. We can also think of this as gaining some information about one of the variables when we observe a measurement from the other. We will think about this more formally in Tutorial 2. \n",
        "\n",
        "Here, we want to think about how the correlation between size and color of these fish changes how much information we gain about one attribute based on the other. See Bonus Section 1 for the formula for correlation.\n",
        "\n",
        "Use the widget below and answer the following questions:\n",
        "\n",
        "1. When the correlation is zero, $\\rho = 0$, what does the distribution of size tell you about color?\n",
        "2. Set $\\rho$ to something small. As you change the probability of golden fish, what happens to the ratio of size probabilities? Set $\\rho$ larger (can be negative). Can you explain the pattern of changes in the probabilities of size as you change the probability of golden fish?\n",
        "3. Set the probability of golden fish and of large fish to around 65%. As the correlation goes towards 1, how often will you see silver large fish?\n",
        "4. What is increasing the (absolute) correlation telling you about how likely you are to see one of the properties if you see a fish with the other?\n"
      ]
    },
    {
      "cell_type": "code",
      "metadata": {
        "cellView": "form",
        "execution": {},
        "id": "Ph1p_htAfP1G",
        "outputId": "77239d53-c78a-4f14-ab9c-1e790a40b5cf",
        "colab": {
          "base_uri": "https://localhost:8080/",
          "height": 474,
          "referenced_widgets": [
            "943f204dccc94f27865e8516597b363e",
            "95bd3a559db74c59b157fd96236fd8c0",
            "139875f6b34c407b9b8ed7f580812fbc",
            "aa514af462664ef88386236c2ca9fd61",
            "42b3cc91d52048c9a7c37a4d5b6361b9",
            "0cf086ef55964b889673ea6c3e75e5a6",
            "3dac0a2e25b44eb89eb0be9fcb587a27",
            "a4c1993420ce4b2fa6754b3c1b67f66a",
            "bf1f328d6c1d4924a8d223ddc3254a13",
            "74db223a462f4a3b8882f19db639d5fc",
            "2dadf5b2f1a24411b717af9782232c06",
            "f6e3d9170ce94d228c1ca749867c193a",
            "017c055cf7b740e9a981f36c1f1b5ee2"
          ]
        }
      },
      "source": [
        "# @markdown Execute this cell to enable the widget\n",
        "style = {'description_width': 'initial'}\n",
        "gs = GridspecLayout(2,2)\n",
        "\n",
        "cor_widget = widgets.FloatSlider(0.0, description='ρ', min=-1, max=1, step=0.01)\n",
        "px_widget = widgets.FloatSlider(0.5, description='p(color=golden)', min=0.01, max=0.99, step=0.01, style=style)\n",
        "py_widget = widgets.FloatSlider(0.5, description='p(size=large)', min=0.01, max=0.99, step=0.01, style=style)\n",
        "gs[0,0] = cor_widget\n",
        "gs[0,1] = px_widget\n",
        "gs[1,0] = py_widget\n",
        "\n",
        "\n",
        "@widgets.interact(\n",
        "    px=px_widget,\n",
        "    py=py_widget,\n",
        "    cor=cor_widget,\n",
        ")\n",
        "def make_corr_plot(px, py, cor):\n",
        "    Cmin, Cmax = compute_cor_range(px, py) #allow correlation values\n",
        "    cor_widget.min, cor_widget.max = Cmin+0.01, Cmax-0.01\n",
        "    if cor_widget.value > Cmax:\n",
        "        cor_widget.value = Cmax\n",
        "    if cor_widget.value < Cmin:\n",
        "        cor_widget.value = Cmin\n",
        "    cor = cor_widget.value\n",
        "    P = compute_marginal(px,py,cor)\n",
        "    # print(P)\n",
        "    fig = plot_joint_probs(P)\n",
        "    plt.show(fig)\n",
        "    plt.close(fig)\n",
        "    return None\n",
        "\n",
        "# gs[1,1] = make_corr_plot()"
      ],
      "execution_count": 12,
      "outputs": [
        {
          "output_type": "display_data",
          "data": {
            "application/vnd.jupyter.widget-view+json": {
              "model_id": "943f204dccc94f27865e8516597b363e",
              "version_minor": 0,
              "version_major": 2
            },
            "text/plain": [
              "interactive(children=(FloatSlider(value=0.5, description='p(color=golden)', layout=Layout(grid_area='widget002…"
            ]
          },
          "metadata": {
            "tags": []
          }
        }
      ]
    },
    {
      "cell_type": "markdown",
      "metadata": {
        "execution": {},
        "id": "1eQOOGvkfP1G"
      },
      "source": [
        "[*Click for solution*](https://github.com/NeuromatchAcademy/course-content/tree/master//tutorials/W3D1_BayesianDecisions/solutions/W3D1_Tutorial1_Solution_5567dab4.py)\n",
        "\n"
      ]
    },
    {
      "cell_type": "markdown",
      "metadata": {
        "execution": {},
        "id": "tZQCXJMWfP1G"
      },
      "source": [
        "We have just seen how two random variables can be more or less independent. The more correlated, the less independent, and the more shared information. We also learned that we can marginalize to determine the marginal likelihood of a measurement or to find the marginal probability distribution of two random variables. We are going to now complete our journey towards being fully Bayesian!"
      ]
    },
    {
      "cell_type": "markdown",
      "metadata": {
        "execution": {},
        "id": "SFTzRMQgfP1G"
      },
      "source": [
        "## Section 4.2: Marginalisation"
      ]
    },
    {
      "cell_type": "markdown",
      "metadata": {
        "execution": {},
        "id": "fuzK_W4JfP1G"
      },
      "source": [
        "\n",
        "<details>\n",
        "<summary> <font color=‘blue’>Click here for text recap of relevant part of video </font></summary>\n",
        "\n",
        "We may want to find the probability of one variable while ignoring another: we will do this by averaging out, or marginalizing, the irrelevant variable.\n",
        "\n",
        "We will think of this in two different ways.\n",
        "\n",
        "In the first math exercise, you will think about the case where you know the joint probabilities of two variables and want to figure out the probability of just one variable. To make this explicit, let's assume that a fish has a color that is either gold or silver (our first variable) and a size that is either small or large (our second). We could write out the the **joint probabilities**: the probability of both specific attributes occuring together. For example, the probability of a fish being small and silver, $P(X = \\textrm{small}, Y = \\textrm{silver})$, is 0.4. The following table summarizes our joint probabilities:\n",
        "\n",
        "| P(X, Y)        | Y = silver  | Y = gold  |\n",
        "| -------------- |-------------|-----------|\n",
        "| X = small      | 0.4         | 0.2       |\n",
        "| X = large      | 0.1         | 0.3       |\n",
        "\n",
        "\n",
        "We want to know what the probability of a fish being small  regardless of color. Since the fish are either silver or gold, this would be the probability of a fish being small and silver plus the probability of a fish being small and gold. This is an example of marginalizing, or averaging out, the variable we are not interested in across the rows or columns.. In math speak: $P(X = \\textrm{small}) = \\sum_y{P(X = \\textrm{small}, Y)}$. This gives us a **marginal probability**, a probability of a variable outcome (in this case size), regardless of the other variables (in this case color).\n",
        "\n",
        "More generally, we can marginalize out a second irrelevant variable $y$ by summing over the relevant joint probabilities:\n",
        "\n",
        "$$p(x) = \\sum_y p(x, y) $$\n",
        "\n",
        "\n",
        "In the second math exercise, you will remove an unknown (the hidden state) to find the marginal probability of a measurement. You will do this by marginalizing out the hidden state. In this case, you know the conditional probabilities of the measurement given state and the probabilities of each state. You can marginalize using:\n",
        "\n",
        "$$p(m) = \\sum_s p(m | s) p(s) $$\n",
        "\n",
        "These two ways of thinking about marginalization (as averaging over joint probabilities or conditioning on some variable) are equivalent because the joint probability of two variables equals the conditional probability of the first given the second times the marginal probability of the second:\n",
        "\n",
        "$$p(x, y) = p(x|y)p(y)$$ \n",
        "\n"
      ]
    },
    {
      "cell_type": "markdown",
      "metadata": {
        "execution": {},
        "id": "mZHbSIWtfP1G"
      },
      "source": [
        "### Math Exercise 4.2.1: Computing marginal probabilities\n",
        "\n",
        "To understand the information between two variables, let's first consider the joint probabilities over the size and color of the fish.\n",
        "\n",
        "| P(X, Y)        | Y = silver  | Y = gold  |\n",
        "| -------------- |-------------|-----------|\n",
        "| X = small      | 0.4         | 0.2       |\n",
        "| X = large      | 0.1         | 0.3       |\n",
        "\n",
        "Please complete the following math problems to further practice thinking through probabilities:\n",
        "\n",
        "1. Calculate the probability of a fish being silver.\n",
        "2. Calculate the probability of a fish being small, large, silver, or gold.\n",
        "3. Calculate the probability of a fish being small OR gold. (Hint: $P(A\\ \\textrm{or}\\ B) = P(A) + P(B) - P(A\\ \\textrm{and}\\ B)$)\n",
        "\n",
        "**We don't typically have math exercises in NMA but feel it is important for you to really compute this out yourself. Feel free to use the next cell to write out the math if helpful, or use paper and pen. We recommend doing this exercise individually first and then comparing notes and discussing.**\n"
      ]
    },
    {
      "cell_type": "code",
      "metadata": {
        "execution": {},
        "id": "xulJDM94fP1G"
      },
      "source": [
        "\"\"\"\n",
        "\n",
        "Joint probabilities\n",
        "\n",
        "P( X = small, Y = silver) = 0.4\n",
        "P( X = large, Y = silver) = 0.1\n",
        "P( X = small, Y = gold) = 0.2\n",
        "P( X = large, Y = gold) = 0.3\n",
        "\n",
        "\n",
        "1. P(Y = silver) = 0.4 + 0.1 = 0.5\n",
        "\n",
        "2. P(X = small or large, Y = silver or gold) = 1\n",
        "\n",
        "3. P( X = small or Y = gold) = 0.6 + 0.5 - 0.2 = 0.9\n",
        "\n",
        "\"\"\""
      ],
      "execution_count": null,
      "outputs": []
    },
    {
      "cell_type": "markdown",
      "metadata": {
        "execution": {},
        "id": "AgAo2Uz9fP1G"
      },
      "source": [
        "[*Click for solution*](https://github.com/NeuromatchAcademy/course-content/tree/master//tutorials/W3D1_BayesianDecisions/solutions/W3D1_Tutorial1_Solution_a2c6d43f.py)\n",
        "\n"
      ]
    },
    {
      "cell_type": "markdown",
      "metadata": {
        "execution": {},
        "id": "qfY7A7R-fP1G"
      },
      "source": [
        "### Math Exercise 4.2.2: Computing marginal likelihood\n",
        "\n",
        "When we normalize to find the posterior, we need to determine the marinal likelihood--or evidence--for the measurement we observed. To do this, we need to marginalize as we just did above to find the probabilities of a color or size. Only, in this case, we are marginalizing to remove a conditioning variable! In this case, let's consider the likelihood of fish (if we observed a fisherperson fishing on the **right**).\n",
        "\n",
        "| p(m\\|s)       | m = fish | m = no fish  |\n",
        "| ------------ | ---------- | -------------- |\n",
        "| s = left     | 0.1      | 0.9          |\n",
        "| s = right    | 0.5      | 0.5          |\n",
        "\n",
        "\n",
        "The table above shows us the **likelihoods**, just as we explored earlier.\n",
        "\n",
        "You want to know the total probability of a fish being caught, $P(m = \\textrm{fish})$, by the fisherperson fishing on the right. (You would need this to calcualate the posterior.) To do this, you will need to consider the prior probability, $p(s)$, and marginalize over the hidden states!\n",
        "\n",
        "This is an example of marginalizing, or conditioning away, the variable we are not interested in as well.\n",
        "\n",
        "Please complete the following math problems to further practice thinking through probabilities:\n",
        "\n",
        "1. Calculate the marginal likelihood of the fish being caught, $P(m = \\textrm{fish})$, if the priors are: $p(s = \\textrm{left}) = 0.3$ and $p(s = \\textrm{right}) = 0.7$.\n",
        "2. Calculate the marginal likelihood of the fish being caught,  $P(m = \\textrm{fish})$, if the priors are: $p(s = \\textrm{left}) = 0.6$ and $p(s = \\textrm{right}) = 0.4$.\n",
        "\n",
        "**We don't typically have math exercises in NMA but feel it is important for you to really compute this out yourself. Feel free to use the next cell to write out the math if helpful, or use paper and pen. We recommend doing this exercise individually first and then comparing notes and discussing.**\n"
      ]
    },
    {
      "cell_type": "code",
      "metadata": {
        "execution": {},
        "id": "d7u0P4xMfP1H",
        "outputId": "675f33da-6672-4838-dc74-bfe35e857928",
        "colab": {
          "base_uri": "https://localhost:8080/"
        }
      },
      "source": [
        "\"\"\"\n",
        "\n",
        "Priors\n",
        "P(s = left) = 0.3\n",
        "P(s = right) = 0.7\n",
        "\n",
        "Likelihoods\n",
        "P(m = fish | s = left) = 0.1\n",
        "P(m = fish | s = right) = 0.5\n",
        "P(m = no fish | s = left) = 0.9\n",
        "P(m = no fish | s = right) = 0.5\n",
        "\n",
        "1. P(m = fish) = 0.1 * 0.3 + 0.5 * 0.7\n",
        "\n",
        "2. P(m = fish) = 0.1 * 0.6 + 0.5 * 0.4 \n",
        "\n",
        "\"\"\"\n",
        "print(0.1 * 0.3 + 0.5 * 0.7)\n",
        "print(0.1 * 0.6 + 0.5 * 0.4)"
      ],
      "execution_count": 13,
      "outputs": [
        {
          "output_type": "stream",
          "text": [
            "0.38\n",
            "0.26\n"
          ],
          "name": "stdout"
        }
      ]
    },
    {
      "cell_type": "markdown",
      "metadata": {
        "execution": {},
        "id": "-HgGun2cfP1H"
      },
      "source": [
        "[*Click for solution*](https://github.com/NeuromatchAcademy/course-content/tree/master//tutorials/W3D1_BayesianDecisions/solutions/W3D1_Tutorial1_Solution_16d6767a.py)\n",
        "\n"
      ]
    },
    {
      "cell_type": "markdown",
      "metadata": {
        "execution": {},
        "id": "j_8C4ECifP1H"
      },
      "source": [
        "---\n",
        "# Section 5: Bayes' Rule and the Posterior\n",
        "\n",
        "*Estimated timing to here from start of tutorial: 55 min*"
      ]
    },
    {
      "cell_type": "code",
      "metadata": {
        "cellView": "form",
        "execution": {},
        "id": "OxyTDHacfP1H",
        "outputId": "21e61c67-1da0-458f-b9f2-4528c94a0261",
        "colab": {
          "base_uri": "https://localhost:8080/",
          "height": 580,
          "referenced_widgets": [
            "d29a465a726940a88de62564dbf2bb4a",
            "8317fcc0e5df4f1fbcb0a7e524b0932b",
            "b99b841b35d741c2b195e2986fc0bfcb",
            "0eb27f3620ed4f048c0f8b6710c0a6a9",
            "5da0fe25ae384a3d98f963c478d872a3",
            "95862f45b5d34abaa9351e3ddd2e3e6c"
          ]
        }
      },
      "source": [
        "# @title Video 7: Posterior Beliefs\n",
        "from ipywidgets import widgets\n",
        "\n",
        "out2 = widgets.Output()\n",
        "with out2:\n",
        "  from IPython.display import IFrame\n",
        "  class BiliVideo(IFrame):\n",
        "      def __init__(self, id, page=1, width=400, height=300, **kwargs):\n",
        "          self.id=id\n",
        "          src = 'https://player.bilibili.com/player.html?bvid={0}&page={1}'.format(id, page)\n",
        "          super(BiliVideo, self).__init__(src, width, height, **kwargs)\n",
        "\n",
        "  video = BiliVideo(id=\"BV1fK4y1M7EC\", width=854, height=480, fs=1)\n",
        "  print('Video available at https://www.bilibili.com/video/{0}'.format(video.id))\n",
        "  display(video)\n",
        "\n",
        "out1 = widgets.Output()\n",
        "with out1:\n",
        "  from IPython.display import YouTubeVideo\n",
        "  video = YouTubeVideo(id=\"cOAJQ4utwD0\", width=854, height=480, fs=1, rel=0)\n",
        "  print('Video available at https://youtube.com/watch?v=' + video.id)\n",
        "  display(video)\n",
        "\n",
        "out = widgets.Tab([out1, out2])\n",
        "out.set_title(0, 'Youtube')\n",
        "out.set_title(1, 'Bilibili')\n",
        "\n",
        "display(out)"
      ],
      "execution_count": 14,
      "outputs": [
        {
          "output_type": "display_data",
          "data": {
            "application/vnd.jupyter.widget-view+json": {
              "model_id": "d29a465a726940a88de62564dbf2bb4a",
              "version_minor": 0,
              "version_major": 2
            },
            "text/plain": [
              "Tab(children=(Output(), Output()), _titles={'0': 'Youtube', '1': 'Bilibili'})"
            ]
          },
          "metadata": {
            "tags": []
          }
        }
      ]
    },
    {
      "cell_type": "markdown",
      "metadata": {
        "execution": {},
        "id": "BYVLYhkAfP1H"
      },
      "source": [
        "Marginalization is going to be used to combine our prior knowlege, which we call the **prior**, and our new information from a measurement, the **likelihood**. Only in this case, the information we gain about the hidden state we are interested in, where the fish are, is based on the relationship between the probabilities of the measurement and our prior. \n",
        "\n",
        "We can now calculate the full posterior distribution for the hidden state ($s$) using Bayes' Rule. As we've seen, the posterior is proportional the the prior times the likelihood. This means that the posterior probability of the hidden state ($s$) given a measurement ($m$) is proportional to the likelihood of the measurement given the state times the prior probability of that state:\n",
        "\n",
        "$$ P(s | m) \\propto P(m | s) P(s)  $$\n",
        "\n",
        "We say proportional to instead of equal because we need to normalize to produce a full probability distribution:\n",
        "\n",
        "$$ P(s | m) = \\frac{P(m | s) P(s)}{P(m)}  $$\n",
        "\n",
        "Normalizing by this $P(m)$ means that our posterior is a complete probability distribution that sums or integrates to 1 appropriately. We now can use this new, complete probability distribution for any future inference or decisions we like! In fact, as we will see tomorrow, we can use it as a new prior! Finally, we often call this probability distribution our beliefs over the hidden states, to emphasize that it is our subjective knowlege about the hidden state.\n",
        "\n",
        "For many complicated cases, like those we might be using to model behavioral or brain inferences, the normalization term can be intractable or extremely complex to calculate. We can be careful to choose probability distributions were we can analytically calculate the posterior probability or numerical approximation is reliable. Better yet, we sometimes don't need to bother with this normalization! The normalization term, $P(m)$, is the probability of the measurement. This does not depend on state so is essentially a constant we can often ignore. We can compare the unnormalized posterior distribution values for different states because how they relate to each other is unchanged when divided by the same constant. We will see how to do this to compare evidence for different hypotheses tomorrow. (It's also used to compare the likelihood of models fit using maximum likelihood estimation)\n",
        "\n",
        "In this relatively simple example, we can compute the marginal likelihood $P(m)$ easily by using:\n",
        "$$P(m) = \\sum_s P(m | s) P(s)$$\n",
        "We can then normalize so that we deal with the full posterior distribution.\n",
        "\n"
      ]
    },
    {
      "cell_type": "markdown",
      "metadata": {
        "execution": {},
        "id": "C7d-SYkyfP1H"
      },
      "source": [
        "## Math Exercise 5: Calculating a posterior probability\n",
        "\n",
        "Our prior is $p(s = \\textrm{left}) = 0.3$ and $p(s = \\textrm{right}) = 0.7$. In the video, we learned that the chance of catching a fish given they fish on the same side as the school was 50%. Otherwise, it was 10%. We observe a person fishing on the left side. Our likelihood is: \n",
        "\n",
        "\n",
        "| Likelihood: p(m \\| s) | m = fish   | m = no fish  |\n",
        "| ----------------- |----------|----------|\n",
        "| s = left          | 0.5          | 0.5         |\n",
        "| s = right         | 0.1        |  0.9       |\n",
        "\n",
        "\n",
        "Calculate the posterior probability (on paper) that:\n",
        "\n",
        "1. The school is on the left if the fisherperson catches a fish: $p(s = \\textrm{left} | m = \\textrm{fish})$ (hint: normalize by computing $p(m = \\textrm{fish})$)\n",
        "2. The school is on the right if the fisherperson does not catch a fish: $p(s = \\textrm{right} | m = \\textrm{no fish})$\n",
        "\n",
        "**We don't typically have math exercises in NMA but feel it is important for you to really compute this out yourself. Feel free to use the next cell to write out the math if helpful, or use paper and pen. We recommend doing this exercise individually first and then comparing notes and discussing.**"
      ]
    },
    {
      "cell_type": "code",
      "metadata": {
        "execution": {},
        "id": "xEL7U58DfP1H",
        "outputId": "0a3c420c-5c5e-4815-cfb6-a830e645bb26",
        "colab": {
          "base_uri": "https://localhost:8080/"
        }
      },
      "source": [
        "\"\"\"\n",
        "Priors\n",
        "p(s = left) = 0.3\n",
        "p(s = right) = 0.7\n",
        "\n",
        "Likelihoods\n",
        "P(m = fish | s = left) = 0.5\n",
        "P(m = fish | s = right) = 0.1\n",
        "P(m = no fish | s = left) = 0.5\n",
        "P(m = no fish | s = right) = 0.9\n",
        "\n",
        "0. p(m = fish) = 0.5 * 0.3 + 0.1 * 0.7 = 0.22\n",
        "\n",
        "1. p(s = left | m = fish) = 0.5 * 0.3 / 0.22 = 0.68\n",
        "\n",
        "2. p(s = right | m = no fish ) = 0.9 * 0.7 / 0.22 = 0.81\n",
        "\n",
        "\"\"\"\n",
        "print(0.5 * 0.3 + 0.1 * 0.7)\n",
        "print(0.5 * 0.3 / 0.22)\n",
        "print(0.9 * 0.7 / (1 - 0.22))"
      ],
      "execution_count": 23,
      "outputs": [
        {
          "output_type": "stream",
          "text": [
            "0.21999999999999997\n",
            "0.6818181818181818\n",
            "0.8076923076923077\n"
          ],
          "name": "stdout"
        }
      ]
    },
    {
      "cell_type": "markdown",
      "metadata": {
        "execution": {},
        "id": "KeYPy5x6fP1H"
      },
      "source": [
        "[*Click for solution*](https://github.com/NeuromatchAcademy/course-content/tree/master//tutorials/W3D1_BayesianDecisions/solutions/W3D1_Tutorial1_Solution_1fcd83ee.py)\n",
        "\n"
      ]
    },
    {
      "cell_type": "markdown",
      "metadata": {
        "execution": {},
        "id": "mdTIdji_fP1H"
      },
      "source": [
        "## Coding Exercise 5: Computing Posteriors\n",
        "\n",
        "Let's implement our above math to be able to compute posteriors for different priors and likelihoods.\n",
        "\n",
        "As before, our prior is $p(s = \\textrm{left}) = 0.3$ and $p(s = \\textrm{right}) = 0.7$. In the video, we learned that the chance of catching a fish given they fish on the same side as the school was 50%. Otherwise, it was 10%. We observe a person fishing on the left side. Our likelihood is: \n",
        "\n",
        "\n",
        "| Likelihood: p(m \\| s) | m = fish   | m = no fish  |\n",
        "| ----------------- |----------|----------|\n",
        "| s = left          | 0.5          | 0.5         |\n",
        "| s = right         | 0.1        |  0.9       |\n",
        "\n",
        "\n",
        "We want our full posterior to take the same 2 by 2 form. Make sure the outputs match your math answers!\n",
        "\n"
      ]
    },
    {
      "cell_type": "code",
      "metadata": {
        "execution": {},
        "id": "CyuIHOz7fP1H",
        "outputId": "caf575fd-bd47-4d8d-a194-e260c6cd504e",
        "colab": {
          "base_uri": "https://localhost:8080/",
          "height": 362
        }
      },
      "source": [
        "def compute_posterior(likelihood, prior):\n",
        "  \"\"\" Use Bayes' Rule to compute posterior from likelihood and prior\n",
        "\n",
        "  Args:\n",
        "    likelihood (ndarray): i x j array with likelihood probabilities where i is\n",
        "                    number of state options, j is number of measurement options\n",
        "    prior (ndarray): i x 1 array with prior probability of each state\n",
        "\n",
        "  Returns:\n",
        "    ndarray: i x j array with posterior probabilities where i is\n",
        "            number of state options, j is number of measurement options\n",
        "\n",
        "  \"\"\"\n",
        "\n",
        "  #################################################\n",
        "  ## TODO for students ##\n",
        "  # Fill out function and remove\n",
        "  # raise NotImplementedError(\"Student exercise: implement compute_posterior\")\n",
        "  #################################################\n",
        "\n",
        "  # Compute unnormalized posterior (likelihood times prior)\n",
        "  posterior = likelihood * prior # first row is s = left, second row is s = right\n",
        "\n",
        "  # Compute p(m)\n",
        "  p_m = np.sum(posterior, axis = 0)\n",
        "\n",
        "  # Normalize posterior (divide elements by p_m)\n",
        "  posterior /= p_m\n",
        "\n",
        "  return posterior\n",
        "\n",
        "\n",
        "# Make prior\n",
        "prior = np.array([0.3, 0.7]).reshape((2, 1)) # first row is s = left, second row is s = right\n",
        "\n",
        "# Make likelihood\n",
        "likelihood = np.array([[0.5, 0.5], [0.1, 0.9]]) # first row is s = left, second row is s = right\n",
        "\n",
        "# Compute posterior\n",
        "posterior = compute_posterior(likelihood, prior)\n",
        "\n",
        "# Visualize\n",
        "plot_prior_likelihood_posterior(prior, likelihood, posterior)"
      ],
      "execution_count": 24,
      "outputs": [
        {
          "output_type": "display_data",
          "data": {
            "image/png": "[encoded data removed]",
            "text/plain": [
              "<Figure size 864x288 with 3 Axes>"
            ]
          },
          "metadata": {
            "tags": [],
            "image/png": {
              "width": 834,
              "height": 345
            },
            "needs_background": "light"
          }
        }
      ]
    },
    {
      "cell_type": "markdown",
      "metadata": {
        "execution": {},
        "id": "PJ9M_K1HfP1I"
      },
      "source": [
        "[*Click for solution*](https://github.com/NeuromatchAcademy/course-content/tree/master//tutorials/W3D1_BayesianDecisions/solutions/W3D1_Tutorial1_Solution_1a2cc907.py)\n",
        "\n",
        "*Example output:*\n",
        "\n",
        "<img alt='Solution hint' align='left' width=1665.0 height=674.0 src=https://raw.githubusercontent.com/NeuromatchAcademy/course-content/master/tutorials/W3D1_BayesianDecisions/static/W3D1_Tutorial1_Solution_1a2cc907_0.png>\n",
        "\n"
      ]
    },
    {
      "cell_type": "markdown",
      "metadata": {
        "execution": {},
        "id": "qNva_ctzfP1I"
      },
      "source": [
        "## Interactive Demo 5: What affects the posterior?\n",
        "\n",
        "Now that we can understand the implementation of *Bayes rule*, let's vary the parameters of the prior and likelihood to see how changing the prior and likelihood affect the posterior. \n",
        "\n",
        "In the demo below, you can change the prior by playing with the slider for $p( s = left)$. You can also change the likelihood by changing the probability of catching a fish given that the school is on the left and the probability of catching a fish given that the school is on the right. The fisherperson you are observing is fishing on the left.\n",
        " \n",
        "\n",
        "1.   Keeping the likelihood constant, when does the prior have the strongest influence over the posterior? Meaning, when does the posterior look most like the prior no matter whether a fish was caught or not?\n",
        "2.   What happens if the likelihoods for catching a fish are similar when you fish on the correct or incorrect side?\n",
        "3.  Set the prior probability of the state = left to 0.6 and play with the likelihood. When does the likelihood exert the most influence over the posterior?"
      ]
    },
    {
      "cell_type": "code",
      "metadata": {
        "cellView": "form",
        "execution": {},
        "id": "IrB1u9qlfP1I",
        "outputId": "fde14782-cf72-4c82-fd58-7059c62a31f6",
        "colab": {
          "base_uri": "https://localhost:8080/",
          "height": 459,
          "referenced_widgets": [
            "9dfb0bee0afb4ef7a38c36e384b1e9a8",
            "386644269ff345f3906bab67734be476",
            "9afc069d3b97487299177e02a436e4b4",
            "1064c17bab974e6c8db12ad7528696f8",
            "cce36fb847d446d7b566cdfad1878d91",
            "13993adadf7f4b03a122a7267d6b9a0f",
            "4cfdf7f514ce4dd5b4c5af496c818c3e",
            "86706c3655364b47bdfaa4da0465e26e",
            "91679b555edf4c558f8fd8a83fe31a65",
            "607227da27254cf1b2b5e9b6b8db0b89",
            "1fd5a29a2a174b8e9045fb9dbfe1c363",
            "0477cd202f5143229c33c8b4af387623",
            "dc2c768821c343b5a271c171b575ce00",
            "d11f4ab70c554b669541c1d6bb76e4db",
            "5d7aa125012f4f86b9eded7aa048f218",
            "052fa3ea4966417f93a922883cad2f6e",
            "aa626dd72d5d4beab0e68577f05edfc1",
            "325982b3a0cd48ba85089e43600c7dc4"
          ]
        }
      },
      "source": [
        "# @markdown Execute this cell to enable the widget\n",
        "# style = {'description_width': 'initial'}\n",
        "ps_widget = widgets.FloatSlider(0.3, description='p(s = left)',\n",
        "                                min=0.01, max=0.99, step=0.01)\n",
        "p_a_s1_widget = widgets.FloatSlider(0.5, description='p(fish on left | state = left)',\n",
        "                                    min=0.01, max=0.99, step=0.01, style=style, layout=Layout(width='370px'))\n",
        "p_a_s0_widget = widgets.FloatSlider(0.1, description='p(fish on left | state = right)',\n",
        "                                    min=0.01, max=0.99, step=0.01, style=style, layout=Layout(width='370px'))\n",
        "# observed_widget = widgets.Checkbox(value=False, description='Observed fish (m)',\n",
        "#                                  disabled=False, indent=False,\n",
        "#                                  layout=Layout(display=\"flex\", justify_content=\"center\"))\n",
        "\n",
        "observed_widget = ToggleButtons(options=['Fish', 'No Fish'],\n",
        "    description='Observation (m) on the left:', disabled=False, button_style='',\n",
        "    layout=Layout(width='auto', display=\"flex\"),\n",
        "    style={'description_width': 'initial'}\n",
        ")\n",
        "\n",
        "widget_ui = VBox([ps_widget,\n",
        "                  HBox([p_a_s1_widget, p_a_s0_widget]),\n",
        "                  observed_widget])\n",
        "widget_out = interactive_output(plot_prior_likelihood,\n",
        "                                {'ps': ps_widget,\n",
        "                                'p_a_s1': p_a_s1_widget,\n",
        "                                'p_a_s0': p_a_s0_widget,\n",
        "                                'measurement': observed_widget})\n",
        "display(widget_ui, widget_out)\n",
        "\n",
        "# @widgets.interact(\n",
        "#     ps=ps_widget,\n",
        "#     p_a_s1=p_a_s1_widget,\n",
        "#     p_a_s0=p_a_s0_widget,\n",
        "#     m_right=observed_widget\n",
        "# )\n",
        "# def make_prior_likelihood_plot(ps,p_a_s1,p_a_s0,m_right):\n",
        "#     fig = plot_prior_likelihood(ps,p_a_s1,p_a_s0,m_right)\n",
        "#     plt.show(fig)\n",
        "#     plt.close(fig)\n",
        "#     return None"
      ],
      "execution_count": 25,
      "outputs": [
        {
          "output_type": "display_data",
          "data": {
            "application/vnd.jupyter.widget-view+json": {
              "model_id": "9dfb0bee0afb4ef7a38c36e384b1e9a8",
              "version_minor": 0,
              "version_major": 2
            },
            "text/plain": [
              "VBox(children=(FloatSlider(value=0.3, description='p(s = left)', max=0.99, min=0.01, step=0.01), HBox(children…"
            ]
          },
          "metadata": {
            "tags": []
          }
        },
        {
          "output_type": "display_data",
          "data": {
            "application/vnd.jupyter.widget-view+json": {
              "model_id": "aa626dd72d5d4beab0e68577f05edfc1",
              "version_minor": 0,
              "version_major": 2
            },
            "text/plain": [
              "Output()"
            ]
          },
          "metadata": {
            "tags": []
          }
        }
      ]
    },
    {
      "cell_type": "markdown",
      "metadata": {
        "execution": {},
        "id": "cMGGbyN_fP1I"
      },
      "source": [
        "[*Click for solution*](https://github.com/NeuromatchAcademy/course-content/tree/master//tutorials/W3D1_BayesianDecisions/solutions/W3D1_Tutorial1_Solution_09d33baa.py)\n",
        "\n"
      ]
    },
    {
      "cell_type": "code",
      "metadata": {
        "cellView": "form",
        "execution": {},
        "id": "y6gvEFLffP1I",
        "outputId": "2470a873-c219-40f2-81e5-ab902e50b2cb",
        "colab": {
          "base_uri": "https://localhost:8080/",
          "height": 580,
          "referenced_widgets": [
            "beb9692564e94b55ac352a6eef38fefa",
            "e84d078bc6d54bdd825852f7bfb560ef",
            "b4e5fb6f03584822bc70fe3530e7483c",
            "ada93155cf7347ca910374b39bc8d155",
            "383f28a3d85f40e998a46b4fc39161bc",
            "eadcb48db03d4ae7b4de8777823dec0f"
          ]
        }
      },
      "source": [
        "# @title Video 8: Posterior Beliefs Exercises Discussion\n",
        "from ipywidgets import widgets\n",
        "\n",
        "out2 = widgets.Output()\n",
        "with out2:\n",
        "  from IPython.display import IFrame\n",
        "  class BiliVideo(IFrame):\n",
        "      def __init__(self, id, page=1, width=400, height=300, **kwargs):\n",
        "          self.id=id\n",
        "          src = 'https://player.bilibili.com/player.html?bvid={0}&page={1}'.format(id, page)\n",
        "          super(BiliVideo, self).__init__(src, width, height, **kwargs)\n",
        "\n",
        "  video = BiliVideo(id=\"BV1TU4y1G7SM\", width=854, height=480, fs=1)\n",
        "  print('Video available at https://www.bilibili.com/video/{0}'.format(video.id))\n",
        "  display(video)\n",
        "\n",
        "out1 = widgets.Output()\n",
        "with out1:\n",
        "  from IPython.display import YouTubeVideo\n",
        "  video = YouTubeVideo(id=\"YPQgLVolvBs\", width=854, height=480, fs=1, rel=0)\n",
        "  print('Video available at https://youtube.com/watch?v=' + video.id)\n",
        "  display(video)\n",
        "\n",
        "out = widgets.Tab([out1, out2])\n",
        "out.set_title(0, 'Youtube')\n",
        "out.set_title(1, 'Bilibili')\n",
        "\n",
        "display(out)"
      ],
      "execution_count": 26,
      "outputs": [
        {
          "output_type": "display_data",
          "data": {
            "application/vnd.jupyter.widget-view+json": {
              "model_id": "beb9692564e94b55ac352a6eef38fefa",
              "version_minor": 0,
              "version_major": 2
            },
            "text/plain": [
              "Tab(children=(Output(), Output()), _titles={'0': 'Youtube', '1': 'Bilibili'})"
            ]
          },
          "metadata": {
            "tags": []
          }
        }
      ]
    },
    {
      "cell_type": "markdown",
      "metadata": {
        "execution": {},
        "id": "gvpahBCofP1I"
      },
      "source": [
        "# Section 6: Making Bayesian fishing decisions\n",
        "\n",
        "*Estimated timing to here from start of tutorial: 1 hr, 15 min*"
      ]
    },
    {
      "cell_type": "code",
      "metadata": {
        "cellView": "form",
        "execution": {},
        "id": "nGYX_ZhhfP1I",
        "outputId": "f05163fa-88d9-4a7c-ee6b-dc3e5fdd5993",
        "colab": {
          "base_uri": "https://localhost:8080/",
          "height": 580,
          "referenced_widgets": [
            "9a607ac5604e40778f3db468fb6890d4",
            "e65c9bc4c22c47009edf4f5e9a0f0041",
            "ceafc17e99354f4a814c7423afd24411",
            "f714f0a2dd304e7c9c41e0f81e45d2a5",
            "fc434295086d443aa7bfa39fd688e086",
            "6379cc2898ec43d691c181dd8a7adf55"
          ]
        }
      },
      "source": [
        "# @title Video 9: Bayesian Decisions\n",
        "from ipywidgets import widgets\n",
        "\n",
        "out2 = widgets.Output()\n",
        "with out2:\n",
        "  from IPython.display import IFrame\n",
        "  class BiliVideo(IFrame):\n",
        "      def __init__(self, id, page=1, width=400, height=300, **kwargs):\n",
        "          self.id=id\n",
        "          src = 'https://player.bilibili.com/player.html?bvid={0}&page={1}'.format(id, page)\n",
        "          super(BiliVideo, self).__init__(src, width, height, **kwargs)\n",
        "\n",
        "  video = BiliVideo(id=\"BV1954y1n7uH\", width=854, height=480, fs=1)\n",
        "  print('Video available at https://www.bilibili.com/video/{0}'.format(video.id))\n",
        "  display(video)\n",
        "\n",
        "out1 = widgets.Output()\n",
        "with out1:\n",
        "  from IPython.display import YouTubeVideo\n",
        "  video = YouTubeVideo(id=\"tz9zsmTHR68\", width=854, height=480, fs=1, rel=0)\n",
        "  print('Video available at https://youtube.com/watch?v=' + video.id)\n",
        "  display(video)\n",
        "\n",
        "out = widgets.Tab([out1, out2])\n",
        "out.set_title(0, 'Youtube')\n",
        "out.set_title(1, 'Bilibili')\n",
        "\n",
        "display(out)"
      ],
      "execution_count": 27,
      "outputs": [
        {
          "output_type": "display_data",
          "data": {
            "application/vnd.jupyter.widget-view+json": {
              "model_id": "9a607ac5604e40778f3db468fb6890d4",
              "version_minor": 0,
              "version_major": 2
            },
            "text/plain": [
              "Tab(children=(Output(), Output()), _titles={'0': 'Youtube', '1': 'Bilibili'})"
            ]
          },
          "metadata": {
            "tags": []
          }
        }
      ]
    },
    {
      "cell_type": "markdown",
      "metadata": {
        "execution": {},
        "id": "m9g2My-TfP1J"
      },
      "source": [
        "\n",
        "We will explore how to consider the expected utility of an action based on our belief (the posterior distribution) about where we think the fish are. Now we have all the components of a Bayesian decision: our prior information, the likelihood given a measurement, the posterior distribution (belief) and our utility (the gains and losses). This allows us to consider the relationship between the true value of the hidden state, $s$, and what we *expect* to get if we take action, $a$, based on our belief!\n",
        "\n",
        "Let's use the following widget to think about the relationship between these probability distributions and utility function."
      ]
    },
    {
      "cell_type": "markdown",
      "metadata": {
        "execution": {},
        "id": "YdSxLJUhfP1J"
      },
      "source": [
        "## Interactive Demo! 6: What is more important, the probabilities or the utilities?\n",
        "\n",
        "We are now going to put everything we've learned together to gain some intuitions for how each of the elements that goes into a Bayesian decision comes together. Remember, the common assumption in neuroscience, psychology, economics, ecology, etc. is that we (humans and animals) are tying to maximize our expected utility. There is a lot going on in this demo as it brings everything in this tutorial together in one place - please spend time making sure you understand the controls and the plots, especially how everything relates together.\n",
        "\n",
        "1. Can you find a situation where the expected utility is the same for both actions?\n",
        "2. What is more important for determining the expected utility: the prior or a new measurement (the likelihood)?\n",
        "3. Why is this a normative model?\n",
        "4. Can you think of ways in which this model would need to be extended to describe human or animal behavior?"
      ]
    },
    {
      "cell_type": "code",
      "metadata": {
        "cellView": "form",
        "execution": {},
        "id": "RyHoWn36fP1J",
        "outputId": "7b8762d3-701c-47bf-be86-bb2c77864cb6",
        "colab": {
          "base_uri": "https://localhost:8080/",
          "height": 663,
          "referenced_widgets": [
            "eb2dea84e38d4b83ad69a1db8c4e07cd",
            "be398939d152482c81e68b118f8dbf3a",
            "0357adf9f4a9469894946fd54edd2434",
            "9685039bfd3346a7894392ecb7bee649",
            "d0ad394d4d4b4b34aab59f1667f2a7ce",
            "f8bdcd03e1254ed1b884d7180a0cb960",
            "7ddd9667f2fe454f83b48e7b62fc4caa",
            "48b23622525f4b199c7a81fa83888b10",
            "016f153c4e9441cb9d388790f63bee25",
            "463ac58c49894481be7ec701006764fe",
            "f87a48757ac54c528136e78d3422fbd5",
            "5ca19689992a456b9e1b8c235d105093",
            "c0532f30b68d429c933fdc144e747416",
            "b7c99c26b96e481d837f0a3bc1191b4b",
            "eff8874ed37841fc99cdfc244b602ca9",
            "fe33385c7007436589aa927d362ef97a",
            "9ee6ed6fe32749cea99cbbe02aa27eb5",
            "b20be6e2d685462c9e39490630b3cbb8"
          ]
        }
      },
      "source": [
        "# @markdown Execute this cell to enable the widget\n",
        "# style = {'description_width': 'initial'}\n",
        "\n",
        "ps_widget = widgets.FloatSlider(0.3, description='p(s = left)',\n",
        "                                min=0.01, max=0.99, step=0.01, layout=Layout(width='300px'))\n",
        "p_a_s1_widget = widgets.FloatSlider(0.5, description='p(fish on left | state = left)',\n",
        "                                    min=0.01, max=0.99, step=0.01, style=style, layout=Layout(width='370px'))\n",
        "p_a_s0_widget = widgets.FloatSlider(0.1, description='p(fish on left | state = right)',\n",
        "                                    min=0.01, max=0.99, step=0.01, style=style, layout=Layout(width='370px'))\n",
        "\n",
        "observed_widget = ToggleButtons(options=['Fish', 'No Fish'],\n",
        "    description='Observation (m) on the left:', disabled=False, button_style='',\n",
        "    layout=Layout(width='auto', display=\"flex\"),\n",
        "    style={'description_width': 'initial'}\n",
        ")\n",
        "\n",
        "widget_ui = VBox([ps_widget,\n",
        "                  HBox([p_a_s1_widget, p_a_s0_widget]),\n",
        "                  observed_widget])\n",
        "\n",
        "widget_out = interactive_output(plot_prior_likelihood_utility,\n",
        "                                {'ps': ps_widget,\n",
        "                                'p_a_s1': p_a_s1_widget,\n",
        "                                'p_a_s0': p_a_s0_widget,\n",
        "                                'measurement': observed_widget})\n",
        "display(widget_ui, widget_out)\n",
        "\n",
        "# @widgets.interact(\n",
        "#     ps=ps_widget,\n",
        "#     p_a_s1=p_a_s1_widget,\n",
        "#     p_a_s0=p_a_s0_widget,\n",
        "#     m_right=observed_widget\n",
        "# )\n",
        "# def make_prior_likelihood_utility_plot(ps, p_a_s1, p_a_s0,m_right):\n",
        "#     fig = plot_prior_likelihood_utility(ps, p_a_s1, p_a_s0,m_right)\n",
        "#     plt.show(fig)\n",
        "#     plt.close(fig)\n",
        "#     return None"
      ],
      "execution_count": 28,
      "outputs": [
        {
          "output_type": "display_data",
          "data": {
            "application/vnd.jupyter.widget-view+json": {
              "model_id": "eb2dea84e38d4b83ad69a1db8c4e07cd",
              "version_minor": 0,
              "version_major": 2
            },
            "text/plain": [
              "VBox(children=(FloatSlider(value=0.3, description='p(s = left)', layout=Layout(width='300px'), max=0.99, min=0…"
            ]
          },
          "metadata": {
            "tags": []
          }
        },
        {
          "output_type": "display_data",
          "data": {
            "application/vnd.jupyter.widget-view+json": {
              "model_id": "9ee6ed6fe32749cea99cbbe02aa27eb5",
              "version_minor": 0,
              "version_major": 2
            },
            "text/plain": [
              "Output()"
            ]
          },
          "metadata": {
            "tags": []
          }
        }
      ]
    },
    {
      "cell_type": "markdown",
      "metadata": {
        "execution": {},
        "id": "carYZuPufP1J"
      },
      "source": [
        "[*Click for solution*](https://github.com/NeuromatchAcademy/course-content/tree/master//tutorials/W3D1_BayesianDecisions/solutions/W3D1_Tutorial1_Solution_0dad47c0.py)\n",
        "\n"
      ]
    },
    {
      "cell_type": "code",
      "metadata": {
        "cellView": "form",
        "execution": {},
        "id": "fQvBkUaffP1J",
        "outputId": "40aad218-8f31-4a83-db5c-89bfd2d40d9a",
        "colab": {
          "base_uri": "https://localhost:8080/",
          "height": 580,
          "referenced_widgets": [
            "430ea003161840fb91a476b688767aaa",
            "0fafbe45d6f44720976c9bde8aa613f5",
            "96280eb14408483eb43c86e49177b8f4",
            "632ca24eeb354143a69ff6aabd1e3dca",
            "e02919ce3deb454383c0f1855a8b8a84",
            "4dafa763c8fe4e0e9d600bea0c1b4553"
          ]
        }
      },
      "source": [
        "# @title Video 10: Bayesian Decisions Demo Discussion\n",
        "from ipywidgets import widgets\n",
        "\n",
        "out2 = widgets.Output()\n",
        "with out2:\n",
        "  from IPython.display import IFrame\n",
        "  class BiliVideo(IFrame):\n",
        "      def __init__(self, id, page=1, width=400, height=300, **kwargs):\n",
        "          self.id=id\n",
        "          src = 'https://player.bilibili.com/player.html?bvid={0}&page={1}'.format(id, page)\n",
        "          super(BiliVideo, self).__init__(src, width, height, **kwargs)\n",
        "\n",
        "  video = BiliVideo(id=\"BV1QU4y137BS\", width=854, height=480, fs=1)\n",
        "  print('Video available at https://www.bilibili.com/video/{0}'.format(video.id))\n",
        "  display(video)\n",
        "\n",
        "out1 = widgets.Output()\n",
        "with out1:\n",
        "  from IPython.display import YouTubeVideo\n",
        "  video = YouTubeVideo(id=\"h9L0EYmUpHs\", width=854, height=480, fs=1, rel=0)\n",
        "  print('Video available at https://youtube.com/watch?v=' + video.id)\n",
        "  display(video)\n",
        "\n",
        "out = widgets.Tab([out1, out2])\n",
        "out.set_title(0, 'Youtube')\n",
        "out.set_title(1, 'Bilibili')\n",
        "\n",
        "display(out)"
      ],
      "execution_count": 29,
      "outputs": [
        {
          "output_type": "display_data",
          "data": {
            "application/vnd.jupyter.widget-view+json": {
              "model_id": "430ea003161840fb91a476b688767aaa",
              "version_minor": 0,
              "version_major": 2
            },
            "text/plain": [
              "Tab(children=(Output(), Output()), _titles={'0': 'Youtube', '1': 'Bilibili'})"
            ]
          },
          "metadata": {
            "tags": []
          }
        }
      ]
    },
    {
      "cell_type": "markdown",
      "metadata": {
        "execution": {},
        "id": "W3wIp8NDfP1J"
      },
      "source": [
        "---\n",
        "# Summary\n",
        "\n",
        "*Estimated timing of tutorial: 1 hour, 30 minutes*\n",
        "\n",
        "In this tutorial, you learned about combining prior information with new measurements to update your knowledge using Bayes Rule, in the context of a fishing problem. \n",
        "\n",
        "Specifically, we covered:\n",
        "\n",
        "* That the likelihood is the probability of the measurement given some hidden state\n",
        "\n",
        "* That how the prior and likelihood interact to create the posterior, the probability of the hidden state given a measurement, depends on how they covary\n",
        "\n",
        "* That utility is the gain from each action and state pair, and the expected utility for an action is the sum of the utility for all state pairs, weighted by the probability of that state happening. You can then choose the action with highest expected utility.\n"
      ]
    },
    {
      "cell_type": "markdown",
      "metadata": {
        "execution": {},
        "id": "_WbiZ1jYfP1J"
      },
      "source": [
        "---\n",
        "# Bonus"
      ]
    },
    {
      "cell_type": "markdown",
      "metadata": {
        "execution": {},
        "id": "7IRIkGrxfP1J"
      },
      "source": [
        "## Bonus Section 1: Correlation Formula\n",
        "To understand the way we calculate the correlation, we need to review the definition of covariance and correlation.\n",
        "\n",
        "Covariance:\n",
        "\n",
        "$$\n",
        "cov(X,Y) = \\sigma_{XY} = E[(X - \\mu_{x})(Y - \\mu_{y})] = E[X]E[Y] - \\mu_{x}\\mu_{y}\n",
        "$$\n",
        "\n",
        "Correlation:\n",
        "\n",
        "$$\n",
        "\\rho_{XY} = \\frac{cov(Y,Y)}{\\sqrt{V(X)V(Y)}} = \\frac{\\sigma_{XY}}{\\sigma_{X}\\sigma_{Y}}\n",
        "$$"
      ]
    }
  ]
}